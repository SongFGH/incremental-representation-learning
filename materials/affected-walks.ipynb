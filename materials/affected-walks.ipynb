{
 "cells": [
  {
   "cell_type": "code",
   "execution_count": 2,
   "metadata": {},
   "outputs": [],
   "source": [
    "import os\n",
    "import numpy as np\n",
    "import matplotlib.pyplot as plt\n",
    "from gensim.models.word2vec import PathLineSentences, LineSentence, Word2Vec\n",
    "from pathlib import Path\n",
    "import networkx as nx\n",
    "from sklearn import model_selection, linear_model, preprocessing, svm\n",
    "from sklearn.metrics import accuracy_score, f1_score\n",
    "from sklearn.pipeline import make_pipeline\n",
    "%matplotlib inline\n"
   ]
  },
  {
   "cell_type": "code",
   "execution_count": 3,
   "metadata": {},
   "outputs": [],
   "source": [
    "def read_occurs(fname):\n",
    "    print(fname)\n",
    "    rws = np.concatenate([\n",
    "        np.loadtxt(f.open(), delimiter='\\t', dtype=int)\n",
    "        for f in rw_location.glob(fname + \".txt\")\n",
    "        if f.stat().st_size > 0\n",
    "    ])\n",
    "    return rws"
   ]
  },
  {
   "cell_type": "code",
   "execution_count": null,
   "metadata": {},
   "outputs": [],
   "source": [
    "fig_size = plt.rcParams[\"figure.figsize\"]\n",
    "fig_size[0] = 4\n",
    "fig_size[1] = 4\n",
    "plt.rcParams[\"figure.figsize\"] = fig_size\n",
    "plt.rcParams['font.size'] = 15\n",
    "\n",
    "rw_location = Path(\"/Users/Ganymedian/Desktop/dynamic-rw/affected-experiments/output/ae/fbp025q025/\")\n",
    "formats=['.']\n",
    "fname = \"count-groups\"\n",
    "\n",
    "occurs = read_occurs(fname)[0]\n",
    "x_axis = np.log10(np.maximum(occurs[:, 0], 1))\n",
    "# print(x_axis)\n",
    "n_vertices = occurs[:, 1]\n",
    "plt.plot(x_axis, n_vertices, '.', ms=3)\n",
    "plt.xticks(rotation=-45)\n",
    "# plt.legend()\n",
    "plt.ylim(ymin=1)\n",
    "plt.xlim(xmin=1)\n",
    "plt.xlabel(\"Visits by unique walkers ($10^x$)\")\n",
    "plt.ylabel(\"Number of vertices\")\n",
    "# plt.legend_.remove()\n",
    "plt.show"
   ]
  },
  {
   "cell_type": "code",
   "execution_count": 5,
   "metadata": {},
   "outputs": [],
   "source": [
    "def read_stats(fname):\n",
    "    print(fname)\n",
    "    rws = np.concatenate([\n",
    "        np.loadtxt(f.open(), delimiter='\\t', dtype=int)\n",
    "        for f in rw_location.glob(fname + \".txt\")\n",
    "        if f.stat().st_size > 0\n",
    "    ])\n",
    "    return rws"
   ]
  },
  {
   "cell_type": "code",
   "execution_count": 7,
   "metadata": {},
   "outputs": [],
   "source": [
    "rw_location = Path(\"/Users/Ganymedian/Desktop/dynamic-rw/datasets/dblp/\")\n",
    "formats=['-.']\n",
    "fname = \"streaming-stats\"\n"
   ]
  },
  {
   "cell_type": "code",
   "execution_count": null,
   "metadata": {},
   "outputs": [],
   "source": [
    "fig_size = plt.rcParams[\"figure.figsize\"]\n",
    "fig_size[0] = 6\n",
    "fig_size[1] = 4\n",
    "plt.rcParams[\"figure.figsize\"] = fig_size\n",
    "plt.rcParams['font.size'] = 12\n",
    "\n",
    "occurs = read_stats(fname)\n",
    "x_axis = occurs[:, 0]\n",
    "print(x_axis)\n",
    "u_vertices = occurs[:, 1]\n",
    "u_edges = occurs[:, 2]\n",
    "n_vertices = occurs[:, 3]\n",
    "print(u_vertices)\n",
    "CNV = np.cumsum(n_vertices)\n",
    "print(CNV)\n",
    "portion = (u_vertices/CNV)*100\n",
    "\n",
    "plt.plot(x_axis[:-1], portion[:-1], '-*', ms=8)\n",
    "plt.xticks(rotation=-45)\n",
    "# plt.legend()\n",
    "plt.xlabel(\"Year\")\n",
    "plt.ylabel(\"Affected vertices (%)\")\n",
    "# plt.legend_.remove()\n",
    "plt.ylim(ymin=0)\n",
    "plt.show"
   ]
  },
  {
   "cell_type": "code",
   "execution_count": null,
   "metadata": {},
   "outputs": [],
   "source": [
    "fig_size = plt.rcParams[\"figure.figsize\"]\n",
    "fig_size[0] = 6\n",
    "fig_size[1] = 4\n",
    "plt.rcParams[\"figure.figsize\"] = fig_size\n",
    "plt.rcParams['font.size'] = 12\n",
    "\n",
    "occurs = read_stats(fname)[:-1]\n",
    "x_axis = occurs[:, 0]\n",
    "print(x_axis)\n",
    "u_vertices = occurs[:, 1]\n",
    "u_edges = occurs[:, 2]\n",
    "n_vertices = occurs[:, 3]\n",
    "portion = (n_vertices/u_vertices)*100\n",
    "\n",
    "plt.plot(x_axis, portion, '-*', ms=8)\n",
    "plt.xticks(rotation=-45)\n",
    "plt.ylim(ymin=0)\n",
    "# plt.legend()\n",
    "plt.xlabel(\"Year\")\n",
    "plt.ylabel(\"New vertices(%)\")\n",
    "plt.show"
   ]
  },
  {
   "cell_type": "code",
   "execution_count": null,
   "metadata": {},
   "outputs": [],
   "source": [
    "fig_size = plt.rcParams[\"figure.figsize\"]\n",
    "fig_size[0] = 6\n",
    "fig_size[1] = 4\n",
    "plt.rcParams[\"figure.figsize\"] = fig_size\n",
    "plt.rcParams['font.size'] = 12\n",
    "\n",
    "occurs = read_stats(fname)\n",
    "x_axis = occurs[:, 0]\n",
    "print(x_axis)\n",
    "u_vertices = occurs[:, 1]\n",
    "u_edges = occurs[:, 2]\n",
    "n_vertices = occurs[:, 3]\n",
    "print(u_vertices)\n",
    "CNV = np.cumsum(n_vertices)\n",
    "print(CNV)\n",
    "portion = ((u_vertices-n_vertices)/CNV)*100\n",
    "\n",
    "plt.plot(x_axis[:-1], portion[:-1], '-*', ms=8)\n",
    "plt.xticks(rotation=-45)\n",
    "# plt.legend()\n",
    "plt.xlabel(\"Year\")\n",
    "plt.ylabel(\"Affected vertices (%)\")\n",
    "# plt.legend_.remove()\n",
    "plt.ylim(ymin=0)\n",
    "plt.show"
   ]
  },
  {
   "cell_type": "code",
   "execution_count": 1,
   "metadata": {},
   "outputs": [
    {
     "ename": "NameError",
     "evalue": "name 'plt' is not defined",
     "output_type": "error",
     "traceback": [
      "\u001b[0;31m---------------------------------------------------------------------------\u001b[0m",
      "\u001b[0;31mNameError\u001b[0m                                 Traceback (most recent call last)",
      "\u001b[0;32m<ipython-input-1-8f368be9e94b>\u001b[0m in \u001b[0;36m<module>\u001b[0;34m()\u001b[0m\n\u001b[0;32m----> 1\u001b[0;31m \u001b[0mfig_size\u001b[0m \u001b[0;34m=\u001b[0m \u001b[0mplt\u001b[0m\u001b[0;34m.\u001b[0m\u001b[0mrcParams\u001b[0m\u001b[0;34m[\u001b[0m\u001b[0;34m\"figure.figsize\"\u001b[0m\u001b[0;34m]\u001b[0m\u001b[0;34m\u001b[0m\u001b[0m\n\u001b[0m\u001b[1;32m      2\u001b[0m \u001b[0mfig_size\u001b[0m\u001b[0;34m[\u001b[0m\u001b[0;36m0\u001b[0m\u001b[0;34m]\u001b[0m \u001b[0;34m=\u001b[0m \u001b[0;36m6\u001b[0m\u001b[0;34m\u001b[0m\u001b[0m\n\u001b[1;32m      3\u001b[0m \u001b[0mfig_size\u001b[0m\u001b[0;34m[\u001b[0m\u001b[0;36m1\u001b[0m\u001b[0;34m]\u001b[0m \u001b[0;34m=\u001b[0m \u001b[0;36m4\u001b[0m\u001b[0;34m\u001b[0m\u001b[0m\n\u001b[1;32m      4\u001b[0m \u001b[0mplt\u001b[0m\u001b[0;34m.\u001b[0m\u001b[0mrcParams\u001b[0m\u001b[0;34m[\u001b[0m\u001b[0;34m\"figure.figsize\"\u001b[0m\u001b[0;34m]\u001b[0m \u001b[0;34m=\u001b[0m \u001b[0mfig_size\u001b[0m\u001b[0;34m\u001b[0m\u001b[0m\n\u001b[1;32m      5\u001b[0m \u001b[0mplt\u001b[0m\u001b[0;34m.\u001b[0m\u001b[0mrcParams\u001b[0m\u001b[0;34m[\u001b[0m\u001b[0;34m'font.size'\u001b[0m\u001b[0;34m]\u001b[0m \u001b[0;34m=\u001b[0m \u001b[0;36m12\u001b[0m\u001b[0;34m\u001b[0m\u001b[0m\n",
      "\u001b[0;31mNameError\u001b[0m: name 'plt' is not defined"
     ]
    }
   ],
   "source": [
    "fig_size = plt.rcParams[\"figure.figsize\"]\n",
    "fig_size[0] = 6\n",
    "fig_size[1] = 4\n",
    "plt.rcParams[\"figure.figsize\"] = fig_size\n",
    "plt.rcParams['font.size'] = 12\n",
    "\n",
    "occurs = read_stats(fname)\n",
    "x_axis = occurs[:, 0]\n",
    "print(x_axis)\n",
    "u_vertices = occurs[:, 1]\n",
    "u_edges = occurs[:, 2]\n",
    "n_vertices = occurs[:, 3]\n",
    "print(u_vertices)\n",
    "CNV = np.cumsum(n_vertices)\n",
    "CNV = np.log10(np.maximum(CNV, 1))\n",
    "plt.plot(x_axis[:-1], CNV[:-1], '-*', ms=8)\n",
    "plt.xticks(rotation=-45)\n",
    "# plt.legend()\n",
    "plt.xlabel(\"Year\")\n",
    "plt.ylabel(\"|V| ($10^x$)\")\n",
    "# plt.legend_.remove()\n",
    "plt.ylim(ymin=0)\n",
    "plt.show"
   ]
  },
  {
   "cell_type": "code",
   "execution_count": 8,
   "metadata": {},
   "outputs": [
    {
     "name": "stdout",
     "output_type": "stream",
     "text": [
      "streaming-stats\n",
      "[1938 1940 1942 1945 1946 1947 1948 1950 1951 1952 1954 1955 1956 1957\n",
      " 1958 1959 1960 1961 1962 1963 1964 1965 1966 1967 1968 1969 1970 1971\n",
      " 1972 1973 1974 1975 1976 1977 1978 1979 1980 1981 1982 1983 1984 1985\n",
      " 1986 1987 1988 1989 1990 1991 1992 1993 1994 1995 1996 1997 1998 1999\n",
      " 2000 2001 2002 2003 2004 2005 2006 2007 2008 2009 2010 2011 2012 2013\n",
      " 2014 2015]\n"
     ]
    },
    {
     "data": {
      "text/plain": [
       "<function matplotlib.pyplot.show>"
      ]
     },
     "execution_count": 8,
     "metadata": {},
     "output_type": "execute_result"
    },
    {
     "data": {
      "image/png": "[encoded data removed]",
      "text/plain": [
       "<matplotlib.figure.Figure at 0x1168b2588>"
      ]
     },
     "metadata": {},
     "output_type": "display_data"
    }
   ],
   "source": [
    "fig_size = plt.rcParams[\"figure.figsize\"]\n",
    "fig_size[0] = 6\n",
    "fig_size[1] = 4\n",
    "plt.rcParams[\"figure.figsize\"] = fig_size\n",
    "plt.rcParams['font.size'] = 12\n",
    "\n",
    "occurs = read_stats(fname)\n",
    "x_axis = occurs[:, 0]\n",
    "print(x_axis)\n",
    "u_vertices = occurs[:, 1]\n",
    "u_edges = occurs[:, 2]\n",
    "n_vertices = occurs[:, 3]\n",
    "n_edges = occurs[:, 4]\n",
    "CNE = np.cumsum(n_edges)\n",
    "CNE = np.log10(np.maximum(CNE, 1))\n",
    "plt.plot(x_axis[:-1], CNE[:-1], '-*', ms=8)\n",
    "plt.xticks(rotation=-45)\n",
    "# plt.legend()\n",
    "plt.xlabel(\"Year\")\n",
    "plt.ylabel(\"|m| ($10^x$)\")\n",
    "# plt.legend_.remove()\n",
    "plt.ylim(ymin=0)\n",
    "plt.show"
   ]
  },
  {
   "cell_type": "code",
   "execution_count": null,
   "metadata": {},
   "outputs": [],
   "source": []
  }
 ],
 "metadata": {
  "kernelspec": {
   "display_name": "Python 3",
   "language": "python",
   "name": "python3"
  },
  "language_info": {
   "codemirror_mode": {
    "name": "ipython",
    "version": 3
   },
   "file_extension": ".py",
   "mimetype": "text/x-python",
   "name": "python",
   "nbconvert_exporter": "python",
   "pygments_lexer": "ipython3",
   "version": "3.6.5"
  }
 },
 "nbformat": 4,
 "nbformat_minor": 2
}
