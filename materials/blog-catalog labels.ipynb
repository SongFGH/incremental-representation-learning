{
 "cells": [
  {
   "cell_type": "code",
   "execution_count": 9,
   "metadata": {},
   "outputs": [],
   "source": [
    "import os\n",
    "import pickle\n",
    "import errno\n",
    "\n",
    "import numpy as np\n",
    "import pandas as pd\n",
    "import six\n",
    "from sklearn import (model_selection, linear_model, multiclass,\n",
    "                     preprocessing)"
   ]
  },
  {
   "cell_type": "code",
   "execution_count": 12,
   "metadata": {},
   "outputs": [],
   "source": [
    "def load_labels(label_filename, vocab_size):\n",
    "    \"\"\"Load labels file. Supports single or multiple labels\"\"\"\n",
    "    raw_labels = {}\n",
    "    min_labels = np.inf\n",
    "    max_labels = 0\n",
    "    with open(label_filename) as f:\n",
    "        for line in f.readlines():\n",
    "            values = [int(x) for x in line.strip().split()]\n",
    "            raw_labels[values[0]] = values[1:]\n",
    "            min_labels = min(len(values) - 1, min_labels)\n",
    "            max_labels = max(len(values) - 1, max_labels)\n",
    "    print(\"Raw Labels: {}\".format(len(raw_labels)))\n",
    "    if min_labels < 1:\n",
    "        raise RuntimeError(\"Expected 1 or more labels in file {}\"\n",
    "                           .format(label_filename))\n",
    "    # Single label\n",
    "    elif max_labels == 1:\n",
    "        labels = np.zeros(vocab_size, dtype=np.int32)\n",
    "        for (index, label) in six.iteritems(raw_labels):\n",
    "            labels[index + FLAGS.force_offset] = label[0]\n",
    "        return raw_labels, labels\n",
    "\n",
    "    # Multiple labels\n",
    "    else:\n",
    "        print(\"Multi-label classification\")\n",
    "        unique_labels = np.unique(\n",
    "            [l for labs in raw_labels.values() for l in labs])\n",
    "        n_labels = len(unique_labels)\n",
    "        print(\"Number of labels: {}\".format(n_labels))\n",
    "\n",
    "        label_encoder = preprocessing.MultiLabelBinarizer(unique_labels)\n",
    "        labels = np.zeros((vocab_size, n_labels), dtype=np.int8)\n",
    "        for (index, multi_label) in six.iteritems(raw_labels):\n",
    "            labels[index -1] = \\\n",
    "                label_encoder.fit_transform([multi_label])\n",
    "        return raw_labels, labels\n"
   ]
  },
  {
   "cell_type": "code",
   "execution_count": 13,
   "metadata": {},
   "outputs": [
    {
     "name": "stdout",
     "output_type": "stream",
     "text": [
      "Raw Labels: 10312\n",
      "Multi-label classification\n",
      "Number of labels: 39\n"
     ]
    }
   ],
   "source": [
    "label_dir = \"/Users/Ganymedian/Desktop\"\n",
    "label_file = \"sorted-labels.txt\"\n",
    "r_labels, all_labels = load_labels(os.path.join(label_dir, label_file), 10313)"
   ]
  },
  {
   "cell_type": "code",
   "execution_count": 14,
   "metadata": {},
   "outputs": [
    {
     "data": {
      "text/plain": [
       "10313"
      ]
     },
     "execution_count": 14,
     "metadata": {},
     "output_type": "execute_result"
    }
   ],
   "source": [
    "len(all_labels)"
   ]
  },
  {
   "cell_type": "code",
   "execution_count": 16,
   "metadata": {},
   "outputs": [
    {
     "data": {
      "text/plain": [
       "array([0, 0, 0, 0, 0, 0, 0, 0, 0, 0, 0, 0, 0, 0, 0, 0, 0, 0, 0, 0, 1, 0,\n",
       "       0, 0, 0, 0, 0, 0, 0, 0, 0, 0, 0, 0, 0, 0, 0, 0, 0], dtype=int8)"
      ]
     },
     "execution_count": 16,
     "metadata": {},
     "output_type": "execute_result"
    }
   ],
   "source": [
    "all_labels[0]"
   ]
  },
  {
   "cell_type": "code",
   "execution_count": null,
   "metadata": {},
   "outputs": [],
   "source": []
  }
 ],
 "metadata": {
  "kernelspec": {
   "display_name": "Python 3",
   "language": "python",
   "name": "python3"
  },
  "language_info": {
   "codemirror_mode": {
    "name": "ipython",
    "version": 3
   },
   "file_extension": ".py",
   "mimetype": "text/x-python",
   "name": "python",
   "nbconvert_exporter": "python",
   "pygments_lexer": "ipython3",
   "version": "3.6.5"
  }
 },
 "nbformat": 4,
 "nbformat_minor": 2
}
