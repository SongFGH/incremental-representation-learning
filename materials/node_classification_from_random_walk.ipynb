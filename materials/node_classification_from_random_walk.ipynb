{
 "cells": [
  {
   "cell_type": "code",
   "execution_count": 1,
   "metadata": {},
   "outputs": [],
   "source": [
    "import os\n",
    "import numpy as np\n",
    "import matplotlib.pyplot as plt\n",
    "from gensim.models.word2vec import PathLineSentences, LineSentence, Word2Vec\n",
    "from pathlib import Path\n",
    "import networkx as nx\n",
    "from sklearn import model_selection, linear_model, preprocessing, svm\n",
    "from sklearn.metrics import accuracy_score, f1_score\n",
    "from sklearn.pipeline import make_pipeline\n",
    "%matplotlib inline\n"
   ]
  },
  {
   "cell_type": "markdown",
   "metadata": {},
   "source": [
    "**Load random walks from output files**\n",
    "\n",
    "The word2vec model requires sentences of strings, so we convert node number to a string."
   ]
  },
  {
   "cell_type": "code",
   "execution_count": 10,
   "metadata": {},
   "outputs": [],
   "source": [
    "rw_location = Path(\"/Users/Ganymedian/Desktop/dynamic-rw/karate-wl/ar\")\n",
    "methods = [\"m1\", \"m2\", \"m3\", \"m4\"]\n",
    "# methods = [\"m1\", \"m2\", \"m3\"]\n",
    "nmethods = len(methods)\n",
    "vertices = []\n",
    "for i in range(34):\n",
    "    vertices.append(\"v\"+str(i+1))\n",
    "# v = vertices[0]\n",
    "# v=\"v30\"\n",
    "\n",
    "num_runs = 5"
   ]
  },
  {
   "cell_type": "code",
   "execution_count": 3,
   "metadata": {},
   "outputs": [],
   "source": [
    "# G = nx.karate_club_graph()\n",
    "\n",
    "G = nx.read_edgelist(\"/Users/Ganymedian/Desktop/Projects/stellar-random-walk-research/randomwalk/src/test/resources/karate.txt\", nodetype=int)\n",
    "# G = nx.read_edgelist(\"/Users/Ganymedian/Desktop/dynamic-rw/facebook_combined.txt\", nodetype=int)\n",
    "n_nodes = G.number_of_nodes()\n",
    "A = nx.adjacency_matrix(G,nodelist=sorted(G.nodes())).toarray()\n",
    "d_w = A.sum(axis=1)\n",
    "M_theory = A.T / d_w\n",
    "# print(M_theory)\n",
    "# print(M_theory.T)"
   ]
  },
  {
   "cell_type": "code",
   "execution_count": null,
   "metadata": {},
   "outputs": [],
   "source": [
    "def read_walks(v):\n",
    "    random_walks_int = []\n",
    "\n",
    "    for m in methods:\n",
    "        fname = m\n",
    "        if m != \"m1\":\n",
    "            fname = fname+\"-\"+v\n",
    "#         print(fname)\n",
    "        rws = np.concatenate([\n",
    "            np.loadtxt(f.open(), delimiter='\\t', dtype=int)\n",
    "            for f in rw_location.glob(fname+\"-*/part-00000\")\n",
    "            if f.stat().st_size > 0\n",
    "        ])\n",
    "#         print(rws.shape)\n",
    "        random_walks_int.append(rws)\n",
    "    return random_walks_int\n",
    "    #     random_walks_str = [list(map(str, v)) for v in random_walks_int]"
   ]
  },
  {
   "cell_type": "code",
   "execution_count": null,
   "metadata": {},
   "outputs": [],
   "source": [
    "def extract_runs(random_walks_int):\n",
    "    all_runs = []\n",
    "#     print(num_runs)\n",
    "    for i in range(nmethods):\n",
    "        ars = np.vsplit(random_walks_int[i], 5)\n",
    "        print(ars[0].shape)\n",
    "        all_runs.append(ars)\n",
    "    return all_runs\n"
   ]
  },
  {
   "cell_type": "markdown",
   "metadata": {},
   "source": [
    "Calculate empirical transition probabilities"
   ]
  },
  {
   "cell_type": "code",
   "execution_count": null,
   "metadata": {},
   "outputs": [],
   "source": [
    "all_runs = extract_runs(read_walks(v))"
   ]
  },
  {
   "cell_type": "code",
   "execution_count": null,
   "metadata": {},
   "outputs": [],
   "source": [
    "wLength = 6\n",
    "bucket = 5\n",
    "formats=['.-', '^-', '*-','x-']\n",
    "for mm in range(nmethods):\n",
    "    all_errors = []\n",
    "    for rr in range(num_runs):\n",
    "        errors = []\n",
    "        x_axis = []\n",
    "        for ii in range(wLength//bucket):\n",
    "            walk_length = 5*(ii + 1)\n",
    "\n",
    "            M_empirical = np.zeros((n_nodes, n_nodes))\n",
    "            for walk in all_runs[mm][rr]:\n",
    "                for kk in range(walk_length - 1):\n",
    "                    M_empirical[walk[kk] - 1, walk[kk + 1] - 1] += 1\n",
    "\n",
    "            n_samples = M_empirical.sum()\n",
    "            M_empirical = M_empirical.T / np.maximum(M_empirical.sum(axis=1), 1)\n",
    "\n",
    "            errors.append(np.abs(M_theory - M_empirical).mean())\n",
    "            x_axis.append(n_samples)\n",
    "        all_errors.append(errors)\n",
    "    n = len(all_errors)\n",
    "    means = np.mean(all_errors,axis=0)\n",
    "#     print(means)\n",
    "    stdv = np.std(all_errors, axis=0)\n",
    "    stderr = stdv/np.sqrt(n)\n",
    "    plt.errorbar(x_axis, means, yerr=stderr, fmt=formats[mm], label=methods[mm], ms=15)\n",
    "    plt.legend()\n",
    "plt.show\n",
    "# plt.plot(x_axis, all_errors, '.-')"
   ]
  },
  {
   "cell_type": "markdown",
   "metadata": {},
   "source": [
    "Plot for adding different vertices"
   ]
  },
  {
   "cell_type": "code",
   "execution_count": 4,
   "metadata": {},
   "outputs": [],
   "source": [
    "def read_walks(m, v, wl, nw):\n",
    "    fname = m + \"-wl\" + str(wl) + \"-nw\" + str(nw)\n",
    "    if m != \"m1\":\n",
    "        fname = fname+\"-\"+v\n",
    "#     print(fname)\n",
    "    rws = np.concatenate([\n",
    "        np.loadtxt(f.open(), delimiter='\\t', dtype=int)\n",
    "        for f in rw_location.glob(fname+\"-*/part-00000\")\n",
    "        if f.stat().st_size > 0\n",
    "    ])\n",
    "#     print(rws.shape)\n",
    "    ars = np.vsplit(rws, 5)\n",
    "#     print(ars[0].shape)\n",
    "    return ars\n",
    "    #     random_walks_str = [list(map(str, v)) for v in random_walks_int]"
   ]
  },
  {
   "cell_type": "code",
   "execution_count": 12,
   "metadata": {},
   "outputs": [
    {
     "name": "stdout",
     "output_type": "stream",
     "text": [
      "m1\n",
      "m2\n",
      "m3\n",
      "m4\n"
     ]
    },
    {
     "data": {
      "text/plain": [
       "<function matplotlib.pyplot.show>"
      ]
     },
     "execution_count": 12,
     "metadata": {},
     "output_type": "execute_result"
    },
    {
     "data": {
      "image/png": "[encoded data removed]",
      "text/plain": [
       "<matplotlib.figure.Figure at 0x101eece10>"
      ]
     },
     "metadata": {},
     "output_type": "display_data"
    }
   ],
   "source": [
    "wLength = 3\n",
    "nw = 100\n",
    "formats=['.-', '^-', '*-','x-']\n",
    "walk_length = wLength\n",
    "rw_location = Path(\"/Users/Ganymedian/Desktop/dynamic-rw/karate-l3-w100/ar\")\n",
    "x_axis = []\n",
    "for vv in range(34):\n",
    "    x_axis.append(vv+1)\n",
    "for mm in range(nmethods):\n",
    "    print(methods[mm])\n",
    "    all_errors = []\n",
    "    for vv in range(34):\n",
    "        v = \"v\"+str(vv+1)\n",
    "#         print(\"reading vertex \" + v)\n",
    "        runs = read_walks(methods[mm], v, walk_length, nw)\n",
    "        errors = []\n",
    "        for rr in range(num_runs):\n",
    "            M_empirical = np.zeros((n_nodes, n_nodes))\n",
    "            for walk in runs[rr]:\n",
    "                for kk in range(walk_length - 1):\n",
    "                    M_empirical[walk[kk] - 1, walk[kk + 1] - 1] += 1\n",
    "\n",
    "            n_samples = M_empirical.sum()\n",
    "            M_empirical = M_empirical.T / np.maximum(M_empirical.sum(axis=1), 1)\n",
    "\n",
    "            errors.append(np.abs(M_theory - M_empirical).mean())\n",
    "        if (methods[mm] == \"m1\"):\n",
    "            for vv in range(34):\n",
    "                all_errors.append(errors)\n",
    "            break;\n",
    "        all_errors.append(errors)\n",
    "    n = len(all_errors)\n",
    "#     print(all_errors)\n",
    "#     print(n)\n",
    "    means = np.mean(all_errors,axis=1)\n",
    "#     print(means)\n",
    "    stdv = np.std(all_errors, axis=1)\n",
    "#     stderr = stdv/np.sqrt(n)\n",
    "    stderr = stdv\n",
    "    plt.errorbar(x_axis, means, yerr=stderr, fmt=formats[mm], label=methods[mm], ms=10)\n",
    "    plt.xticks(x_axis, rotation=-90)\n",
    "    plt.legend()\n",
    "\n",
    "fig_size = plt.rcParams[\"figure.figsize\"]\n",
    "fig_size[0] = 6\n",
    "fig_size[1] = 4\n",
    "plt.rcParams[\"figure.figsize\"] = fig_size\n",
    "plt.show\n",
    "# plt.plot(x_axis, all_errors, '.-')"
   ]
  },
  {
   "cell_type": "markdown",
   "metadata": {},
   "source": [
    "Increasing walk length"
   ]
  },
  {
   "cell_type": "code",
   "execution_count": null,
   "metadata": {},
   "outputs": [],
   "source": [
    "def read_walks(m, v, wl,nw):\n",
    "    fname = m + \"-wl\" + str(wl) + \"-nw\" + str(nw)\n",
    "    if m != \"m1\":\n",
    "        fname = fname+\"-\"+v\n",
    "    print(fname)\n",
    "    rws = np.concatenate([\n",
    "        np.loadtxt(f.open(), delimiter='\\t', dtype=int)\n",
    "        for f in rw_location.glob(fname+\"-*/part-00000\")\n",
    "        if f.stat().st_size > 0\n",
    "    ])\n",
    "#     print(rws.shape)\n",
    "    ars = np.vsplit(rws, num_runs)\n",
    "#     print(ars[0].shape)\n",
    "    return ars\n",
    "    #     random_walks_str = [list(map(str, v)) for v in random_walks_int]"
   ]
  },
  {
   "cell_type": "code",
   "execution_count": null,
   "metadata": {},
   "outputs": [],
   "source": [
    "fig_size = plt.rcParams[\"figure.figsize\"]\n",
    "fig_size[0] = 6\n",
    "fig_size[1] = 4\n",
    "plt.rcParams[\"figure.figsize\"] = fig_size\n",
    "num_runs = 1\n",
    "rw_location = Path(\"/Users/Ganymedian/Desktop/dynamic-rw/fb/ar\")\n",
    "methods = [\"m1\", \"m2\", \"m3\", \"m4\"]\n",
    "# methods = [\"m1\", \"m2\", \"m3\"]\n",
    "nmethods = len(methods)\n",
    "num_walk = 50\n",
    "# walk_lengths = [3,5,10,20]\n",
    "walk_lengths = [100]\n",
    "formats=['.-', '^-', '*-','x-']\n",
    "\n",
    "x_axis = walk_lengths\n",
    "v = \"v0\"\n",
    "for mm in range(nmethods):\n",
    "    all_errors = []\n",
    "    for ww in walk_lengths:\n",
    "        print(\"reading walk length \" + str(ww))\n",
    "        runs = read_walks(methods[mm], v, ww, nw)\n",
    "        errors = []\n",
    "        for rr in range(num_runs):\n",
    "            M_empirical = np.zeros((n_nodes, n_nodes))\n",
    "            for walk in runs[rr]:\n",
    "                for kk in range(ww - 1):\n",
    "                    M_empirical[walk[kk] - 1, walk[kk + 1] - 1] += 1\n",
    "\n",
    "            n_samples = M_empirical.sum()\n",
    "            M_empirical = M_empirical.T / np.maximum(M_empirical.sum(axis=1), 1)\n",
    "\n",
    "            errors.append(np.abs(M_theory - M_empirical).max())\n",
    "\n",
    "        all_errors.append(errors)\n",
    "    n = len(all_errors)\n",
    "#     print(n)\n",
    "    means = np.mean(all_errors,axis=1)\n",
    "#     print(means)\n",
    "    stdv = np.std(all_errors, axis=1)\n",
    "    stderr = stdv/np.sqrt(n)\n",
    "    plt.errorbar(x_axis, means, yerr=stderr, fmt=formats[mm], label=methods[mm], ms=10)\n",
    "    plt.xticks(x_axis, rotation=-90)\n",
    "    plt.legend()\n",
    "\n",
    "plt.show\n",
    "# plt.plot(x_axis, all_errors, '.-')"
   ]
  },
  {
   "cell_type": "markdown",
   "metadata": {},
   "source": [
    "Increasing number of walks"
   ]
  },
  {
   "cell_type": "code",
   "execution_count": null,
   "metadata": {},
   "outputs": [],
   "source": [
    "fig_size = plt.rcParams[\"figure.figsize\"]\n",
    "fig_size[0] = 6\n",
    "fig_size[1] = 4\n",
    "plt.rcParams[\"figure.figsize\"] = fig_size\n",
    "\n",
    "wl = 20\n",
    "num_walks = [3,5,10,20,50]\n",
    "formats=['.-', '^-', '*-','x-']\n",
    "\n",
    "x_axis = num_walks\n",
    "v = \"v1\"\n",
    "for mm in range(nmethods):\n",
    "    all_errors = []\n",
    "    for nw in num_walks:\n",
    "        print(\"reading number of walks \" + str(nw))\n",
    "        runs = read_walks(methods[mm], v, wl, nw)\n",
    "        errors = []\n",
    "        for rr in range(num_runs):\n",
    "            M_empirical = np.zeros((n_nodes, n_nodes))\n",
    "            for walk in runs[rr]:\n",
    "                for kk in range(wl - 1):\n",
    "                    M_empirical[walk[kk] - 1, walk[kk + 1] - 1] += 1\n",
    "\n",
    "            n_samples = M_empirical.sum()\n",
    "            M_empirical = M_empirical.T / np.maximum(M_empirical.sum(axis=1), 1)\n",
    "\n",
    "            errors.append(np.abs(M_theory - M_empirical).max())\n",
    "\n",
    "        all_errors.append(errors)\n",
    "    n = len(all_errors)\n",
    "#     print(n)\n",
    "    means = np.mean(all_errors,axis=1)\n",
    "#     print(means)\n",
    "    stdv = np.std(all_errors, axis=1)\n",
    "    stderr = stdv/np.sqrt(n)\n",
    "    plt.errorbar(x_axis, means, yerr=stderr, fmt=formats[mm], label=methods[mm], ms=10)\n",
    "    plt.xticks(x_axis, rotation=-90)\n",
    "    plt.legend()\n",
    "\n",
    "plt.show\n",
    "# plt.plot(x_axis, all_errors, '.-')"
   ]
  },
  {
   "cell_type": "markdown",
   "metadata": {},
   "source": [
    "Degrees"
   ]
  },
  {
   "cell_type": "code",
   "execution_count": null,
   "metadata": {},
   "outputs": [],
   "source": [
    "x = sorted(G.nodes())\n",
    "d = d_w\n",
    "plt.plot(x, d, '.-',label='degree')\n",
    "plt.xticks(x_axis, rotation=-90)\n",
    "fig_size = plt.rcParams[\"figure.figsize\"]\n",
    "fig_size[0] = 6\n",
    "fig_size[1] = 4\n",
    "plt.rcParams[\"figure.figsize\"] = fig_size\n",
    "plt.show"
   ]
  },
  {
   "cell_type": "code",
   "execution_count": null,
   "metadata": {},
   "outputs": [],
   "source": [
    "nx.draw(G, with_labels = True)"
   ]
  },
  {
   "cell_type": "markdown",
   "metadata": {},
   "source": [
    "Plotting number of computation steps"
   ]
  },
  {
   "cell_type": "code",
   "execution_count": null,
   "metadata": {},
   "outputs": [],
   "source": [
    "def read_steps(m, wl):\n",
    "    fname = m + \"-steps-to-compute\" + \"-wl\" + str(wl) + \".txt\"\n",
    "#     fname = m + \"-walkers-to-compute\" + \"-wl\" + str(wl) + \".txt\"\n",
    "    print(fname)\n",
    "    rws = np.concatenate([\n",
    "        np.loadtxt(f.open(), delimiter='\\t', dtype=int)\n",
    "        for f in rw_location.glob(fname)\n",
    "        if f.stat().st_size > 0\n",
    "    ])\n",
    "#     print(rws.shape)\n",
    "#     ars = np.vsplit(rws, 5)\n",
    "#     print(ars[0].shape)\n",
    "    return rws\n",
    "    #     random_walks_str = [list(map(str, v)) for v in random_walks_int]"
   ]
  },
  {
   "cell_type": "code",
   "execution_count": null,
   "metadata": {},
   "outputs": [],
   "source": [
    "fig_size = plt.rcParams[\"figure.figsize\"]\n",
    "fig_size[0] = 6\n",
    "fig_size[1] = 4\n",
    "plt.rcParams[\"figure.figsize\"] = fig_size\n",
    "\n",
    "methods = [\"m1\", \"m2\", \"m3\", \"m4\"]\n",
    "rw_location = Path(\"/Users/Ganymedian/Desktop/dynamic-rw/karate-wl/\")\n",
    "walk_lengths = [3,5,10,20]\n",
    "formats=['.-', '^-', '*-','x-']\n",
    "\n",
    "x_axis = walk_lengths\n",
    "for mm in range(len(methods)):\n",
    "    means = []\n",
    "    errors = []\n",
    "    for ww in walk_lengths:\n",
    "        print(\"reading walk length \" + str(ww))\n",
    "        runs = read_steps(methods[mm], ww)[1:]\n",
    "\n",
    "        n = len(runs)\n",
    "#         print(n)\n",
    "        mean = np.mean(runs,axis=0)[0]\n",
    "        stdv = np.std(runs, axis=0)[0]\n",
    "        stderr = stdv/np.sqrt(n)\n",
    "        means.append(mean)\n",
    "        errors.append(stderr)\n",
    "    plt.errorbar(x_axis, means, yerr=errors, fmt=formats[mm], label=methods[mm], ms=15)\n",
    "    plt.xticks(x_axis, rotation=-90)\n",
    "    plt.legend()\n",
    "\n",
    "plt.show\n",
    "# plt.plot(x_axis, all_errors, '.-')"
   ]
  },
  {
   "cell_type": "code",
   "execution_count": null,
   "metadata": {},
   "outputs": [],
   "source": [
    "errors_nw = []\n",
    "x_axis_nw = []\n",
    "walk_length = random_walks_int.shape[1]\n",
    "for ii in range(20):\n",
    "    #walk_length = 5*(ii + 1)\n",
    "    #walk_lengths.append(walk_length)\n",
    "    \n",
    "    num_walks = 5*(ii + 1)\n",
    "\n",
    "    reduced_walks = []\n",
    "    for kk in range(1, n_nodes+1):\n",
    "        reduced_walks.append(\n",
    "            random_walks_int[random_walks_int[:, 0] == kk][:num_walks]\n",
    "        )\n",
    "    reduced_walks = np.concatenate(reduced_walks)\n",
    "    \n",
    "    M_empirical = np.zeros((n_nodes, n_nodes))\n",
    "    for walk in reduced_walks:\n",
    "        for kk in range(walk_length - 1):\n",
    "            M_empirical[walk[kk] - 1, walk[kk + 1] - 1] += 1\n",
    "    n_samples = M_empirical.sum()\n",
    "    M_empirical = M_empirical.T / np.maximum(M_empirical.sum(axis=1), 1)\n",
    "\n",
    "    errors_nw.append(np.abs(M_theory - M_empirical).max())\n",
    "    x_axis_nw.append(n_samples)\n",
    "\n",
    "plt.plot(x_axis_nw, errors_nw, '.-')\n",
    "plt.plot(x_axis, errors, '--')"
   ]
  },
  {
   "cell_type": "code",
   "execution_count": null,
   "metadata": {},
   "outputs": [],
   "source": [
    "plt.imshow(np.abs(M_theory - M_empirical))\n",
    "plt.colorbar()\n",
    "error = np.abs(M_theory - M_empirical).max()\n",
    "print(error)\n",
    "error = np.abs(M_theory - M_empirical).mean()\n",
    "print(error)\n",
    "error = np.linalg.norm(M_theory - M_empirical)\n",
    "print(error)"
   ]
  },
  {
   "cell_type": "code",
   "execution_count": null,
   "metadata": {},
   "outputs": [],
   "source": [
    "import sys\n",
    "sys.path.append(\"/Users/doc019/Code/stellar-evaluation-plugins\")\n",
    "from utils.epgm import EPGM"
   ]
  },
  {
   "cell_type": "markdown",
   "metadata": {},
   "source": [
    "### Train word2vec embeddings using gensim"
   ]
  },
  {
   "cell_type": "code",
   "execution_count": null,
   "metadata": {},
   "outputs": [],
   "source": [
    "def read_paths(fname):\n",
    "#     fname = m + \"-steps-to-compute\" + \"-wl\" + str(wl) + \".txt\"\n",
    "# #     fname = m + \"-walkers-to-compute\" + \"-wl\" + str(wl) + \".txt\"\n",
    "    rws = np.concatenate([\n",
    "        np.loadtxt(f.open(), delimiter='\\t', dtype=int)\n",
    "        for f in rw_location.glob(fname+\"/part-00000\")\n",
    "        if f.stat().st_size > 0\n",
    "    ])\n",
    "    rw_str = [list(map(str, v)) for v in rws]\n",
    "\n",
    "    return rw_str     "
   ]
  },
  {
   "cell_type": "code",
   "execution_count": null,
   "metadata": {},
   "outputs": [],
   "source": [
    "# rw_location = Path(\"/Users/Ganymedian/Desktop/dynamic-rw/karate-wl/ar\")\n",
    "# fname = \"m4-wl3-v1-0\"\n",
    "# random_walks_str = read_paths(fname)\n"
   ]
  },
  {
   "cell_type": "code",
   "execution_count": null,
   "metadata": {},
   "outputs": [],
   "source": [
    "# dim = 5\n",
    "# model = Word2Vec(random_walks_str, sg=1, size=dim, window=5, sample=0, min_count=0, \n",
    "#                  workers=4, seed=1321, iter=10, compute_loss=True)"
   ]
  },
  {
   "cell_type": "code",
   "execution_count": null,
   "metadata": {},
   "outputs": [],
   "source": [
    "# model.get_latest_training_loss()"
   ]
  },
  {
   "cell_type": "markdown",
   "metadata": {},
   "source": [
    "Save embeddings"
   ]
  },
  {
   "cell_type": "code",
   "execution_count": null,
   "metadata": {},
   "outputs": [],
   "source": [
    "# dir = \"/Users/Ganymedian/Desktop/dynamic-rw/karate-wl/\"\n",
    "# model.wv.save_word2vec_format(dir+\"/embeddings.txt\")"
   ]
  },
  {
   "cell_type": "markdown",
   "metadata": {},
   "source": [
    "Extract embeddings as matrix of size `n_nodes` × `d`"
   ]
  },
  {
   "cell_type": "code",
   "execution_count": null,
   "metadata": {},
   "outputs": [],
   "source": [
    "def read_labels(fname):\n",
    "    rws = np.concatenate([\n",
    "        np.loadtxt(f.open(), delimiter='\\t', dtype=int)\n",
    "        for f in l_location.glob(fname)\n",
    "        if f.stat().st_size > 0\n",
    "    ])\n",
    "\n",
    "    return (rws[:,0],rws[:,1])  "
   ]
  },
  {
   "cell_type": "code",
   "execution_count": null,
   "metadata": {},
   "outputs": [],
   "source": [
    "# Labels must be sorted based on the node IDs\n",
    "# l_location = Path(\"/Users/Ganymedian/Desktop/dynamic-rw\")\n",
    "# fname = \"karate-labels.txt\"\n",
    "# v_labels = read_labels(fname)\n",
    "# nodes = v_labels[0]\n",
    "# node_labels = v_labels[1]\n",
    "# print(nodes)\n",
    "# print(node_labels)"
   ]
  },
  {
   "cell_type": "code",
   "execution_count": null,
   "metadata": {},
   "outputs": [],
   "source": [
    "# V_w2v = np.ndarray(shape=(len(nodes),dim), dtype=float)\n",
    "# for v in nodes:\n",
    "#     V_w2v[v-1] = model.wv[str(v)]\n",
    "# n_nodes, d_emb = V_w2v.shape\n",
    "# # print(V_w2v)\n",
    "# print(n_nodes)\n",
    "# print(d_emb)"
   ]
  },
  {
   "cell_type": "code",
   "execution_count": null,
   "metadata": {},
   "outputs": [],
   "source": [
    "# V_w2v = model.wv.syn0\n",
    "# n_nodes, d_emb = V_w2v.shape\n",
    "# # print(V_w2v)\n"
   ]
  },
  {
   "cell_type": "markdown",
   "metadata": {},
   "source": [
    "Node labels:"
   ]
  },
  {
   "cell_type": "code",
   "execution_count": null,
   "metadata": {},
   "outputs": [],
   "source": [
    "# node_labels = np.zeros(n_nodes)\n",
    "# node_labels[:10] = 1"
   ]
  },
  {
   "cell_type": "markdown",
   "metadata": {},
   "source": [
    "Read node labels"
   ]
  },
  {
   "cell_type": "markdown",
   "metadata": {},
   "source": [
    "**Classification using single train/test split**"
   ]
  },
  {
   "cell_type": "code",
   "execution_count": null,
   "metadata": {},
   "outputs": [],
   "source": [
    "def class_train_test(vectors, train_size, test_size):\n",
    "# Split using sklearn ShuffleSplit\n",
    "    ss = model_selection.ShuffleSplit(n_splits=1,\n",
    "                                      train_size=train_size,\n",
    "                                      test_size=test_size,\n",
    "                                        random_state = 1234)\n",
    "    train_index, test_index = next(ss.split(vectors))\n",
    "\n",
    "    train_data = V_w2v[train_index]\n",
    "    test_data = V_w2v[test_index]\n",
    "    train_labels = node_labels[train_index]\n",
    "    test_labels  = node_labels[test_index]\n",
    "    # print(train_labels)\n",
    "    # print(test_labels)\n",
    "\n",
    "    # Classifier choice\n",
    "    #classifier = linear_model.LogisticRegression(C=10)\n",
    "    classifier = svm.SVC(C=1)\n",
    "\n",
    "    clf = make_pipeline(preprocessing.StandardScaler(), classifier)\n",
    "    clf.fit(train_data, train_labels)\n",
    "\n",
    "    train_pred = clf.predict(train_data)\n",
    "    test_pred = clf.predict(test_data)\n",
    "    # print(train_pred)\n",
    "    # print(test_pred)\n",
    "    train_acc = clf.score(train_data, train_labels)\n",
    "    test_acc = clf.score(test_data, test_labels)\n",
    "    train_f1 = f1_score(train_labels, train_pred, average='micro')\n",
    "    test_f1 = f1_score(test_labels, test_pred, average='micro')\n",
    "#     print(\"Train acc:\", train_acc)\n",
    "#     print(\"Test acc:\", test_acc)\n",
    "#     print(\"Train f1:\", train_f1)\n",
    "#     print(\"Test f1:\", test_f1)\n",
    "    return {'train_acc':train_acc, 'test_acc':test_acc, 'train_f1':train_f1, 'test_f1':test_f1}"
   ]
  },
  {
   "cell_type": "code",
   "execution_count": null,
   "metadata": {},
   "outputs": [],
   "source": [
    "l_location = Path(\"/Users/Ganymedian/Desktop/dynamic-rw\")\n",
    "rw_location = Path(\"/Users/Ganymedian/Desktop/dynamic-rw/karate-l3-w100/ar\")\n",
    "fname = \"karate-labels.txt\"\n",
    "v_labels = read_labels(fname)\n",
    "nodes = v_labels[0]\n",
    "node_labels = v_labels[1]\n",
    "wl = 3\n",
    "num_runs = 10\n",
    "dim = 2\n",
    "train_size = 0.6\n",
    "test_size = 1-train_size\n",
    "formats=['.-', '^-', '*-','x-']\n",
    "x_axis = []\n",
    "for vv in nodes:\n",
    "    x_axis.append(vv)\n",
    "\n",
    "for mm in range(nmethods):\n",
    "    print(\"Computing for method \" + methods[mm])\n",
    "    all_test_f1 = []\n",
    "    all_train_f1 = []\n",
    "    for vv in nodes:\n",
    "        fname = methods[mm] + \"-wl\" + str(wl) + \"-nw100-\"\n",
    "        if (methods[mm] == \"m1\"):\n",
    "            fname = fname + \"0\"\n",
    "        else:\n",
    "            v = \"v\"+str(vv)\n",
    "#             print(\"reading vertex \" + v)\n",
    "            fname = fname + v + \"-0\"\n",
    "#             print(fname)\n",
    "        paths = read_paths(fname)\n",
    "        model = Word2Vec(paths, sg=1, size=dim, window=5, sample=0, min_count=0, \n",
    "                 workers=1, seed=1321, iter=10, compute_loss=True)\n",
    "        V_w2v = np.ndarray(shape=(len(nodes),dim), dtype=float)\n",
    "        for v in nodes:\n",
    "            V_w2v[v-1] = model.wv[str(v)]\n",
    "        n_nodes, d_emb = V_w2v.shape\n",
    "        test_f1 = []\n",
    "        train_f1 = []\n",
    "        for rr in range(num_runs):\n",
    "            lrs = class_train_test(V_w2v, train_size, test_size)\n",
    "            test_f1.append(lrs.get('test_f1'))\n",
    "            train_f1.append(lrs.get('train_f1'))\n",
    "\n",
    "#         if (methods[mm] == \"m1\"):\n",
    "#             for vv in nodes:\n",
    "#                 all_test_f1.append(test_f1)\n",
    "#                 all_train_f1.append(train_f1)\n",
    "#             break;\n",
    "        all_test_f1.append(test_f1)\n",
    "        all_train_f1.append(train_f1)\n",
    "    n = len(all_test_f1)\n",
    "#     print(n)\n",
    "    test_means = np.mean(all_test_f1,axis=1)\n",
    "#     print(means)\n",
    "    stdv = np.std(all_test_f1, axis=1)\n",
    "    test_stderr = stdv/np.sqrt(n)\n",
    "    plt.errorbar(x_axis, test_means, yerr=test_stderr, fmt=formats[mm], label=methods[mm], ms=10)\n",
    "    plt.xticks(x_axis, rotation=-90)\n",
    "    plt.legend()\n",
    "\n",
    "fig_size = plt.rcParams[\"figure.figsize\"]\n",
    "fig_size[0] = 6\n",
    "fig_size[1] = 4\n",
    "plt.rcParams[\"figure.figsize\"] = fig_size\n",
    "plt.xlabel('Vertex ID')\n",
    "plt.ylabel('F1-score')\n",
    "plt.show"
   ]
  },
  {
   "cell_type": "markdown",
   "metadata": {},
   "source": [
    "**K-fold cross validation**"
   ]
  },
  {
   "cell_type": "code",
   "execution_count": null,
   "metadata": {},
   "outputs": [],
   "source": [
    "kf = model_selection.KFold(n_splits=4, shuffle=True)\n",
    "\n",
    "acc_test_scores = []\n",
    "f1_test_scores = []\n",
    "for train_index, test_index in kf.split(V_w2v):\n",
    "    train_data = V_w2v[train_index]\n",
    "    test_data = V_w2v[test_index]\n",
    "    train_labels = node_labels[train_index]\n",
    "    test_labels  = node_labels[test_index]\n",
    "    \n",
    "    # Classifier choice\n",
    "    #classifier = linear_model.LogisticRegression(C=10)\n",
    "    classifier = svm.SVC(C=1)\n",
    "\n",
    "    clf = make_pipeline(preprocessing.StandardScaler(), classifier)\n",
    "    clf.fit(train_data, train_labels)\n",
    "\n",
    "    train_pred = clf.predict(train_data)\n",
    "    test_pred = clf.predict(test_data)\n",
    "\n",
    "    acc_train = clf.score(train_data, train_labels)\n",
    "    acc_test = clf.score(test_data, test_labels)\n",
    "    f1_train = f1_score(train_labels, train_pred, average='micro')\n",
    "    f1_test = f1_score(test_labels, test_pred, average='micro')\n",
    "    \n",
    "    acc_test_scores.append(acc_test)\n",
    "    f1_test_scores.append(f1_test)\n",
    "    \n",
    "    print(\"Train acc={:4f},  Test acc={:4f},  Train f1={:4f},  Test f1={:4f}\".format(\n",
    "        acc_train, acc_test, f1_train, f1_test\n",
    "    ))\n",
    "    \n",
    "print(\"Average scores:\")\n",
    "print(\"Avg test acc={:4f} [±{:2f}],  Avg test f1={:4f} [±{:2f}]\".format(\n",
    "    np.mean(acc_test_scores), np.std(acc_test_scores), \n",
    "    np.mean(f1_test_scores), np.std(f1_test_scores)\n",
    "))"
   ]
  },
  {
   "cell_type": "code",
   "execution_count": null,
   "metadata": {},
   "outputs": [],
   "source": []
  },
  {
   "cell_type": "code",
   "execution_count": null,
   "metadata": {},
   "outputs": [],
   "source": []
  }
 ],
 "metadata": {
  "kernelspec": {
   "display_name": "Python 3",
   "language": "python",
   "name": "python3"
  },
  "language_info": {
   "codemirror_mode": {
    "name": "ipython",
    "version": 3
   },
   "file_extension": ".py",
   "mimetype": "text/x-python",
   "name": "python",
   "nbconvert_exporter": "python",
   "pygments_lexer": "ipython3",
   "version": "3.6.5"
  }
 },
 "nbformat": 4,
 "nbformat_minor": 2
}
