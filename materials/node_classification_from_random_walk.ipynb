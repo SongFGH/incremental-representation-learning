{
 "cells": [
  {
   "cell_type": "code",
   "execution_count": 71,
   "metadata": {},
   "outputs": [],
   "source": [
    "import os\n",
    "import numpy as np\n",
    "import matplotlib.pyplot as plt\n",
    "from gensim.models.word2vec import PathLineSentences, LineSentence, Word2Vec\n",
    "from pathlib import Path\n",
    "import networkx as nx\n",
    "from sklearn import model_selection, linear_model, preprocessing, svm\n",
    "from sklearn.metrics import accuracy_score, f1_score\n",
    "from sklearn.pipeline import make_pipeline\n",
    "%matplotlib inline"
   ]
  },
  {
   "cell_type": "code",
   "execution_count": null,
   "metadata": {},
   "outputs": [],
   "source": [
    "import sys\n",
    "sys.path.append(\"/Users/doc019/Code/stellar-evaluation-plugins\")\n",
    "from utils.epgm import EPGM"
   ]
  },
  {
   "cell_type": "markdown",
   "metadata": {},
   "source": [
    "**Load random walks from output files**\n",
    "\n",
    "The word2vec model requires sentences of strings, so we convert node number to a string."
   ]
  },
  {
   "cell_type": "code",
   "execution_count": 72,
   "metadata": {},
   "outputs": [],
   "source": [
    "rw_location = Path(\"/Users/Ganymedian/Desktop/dynamic-rw/karate-100-100/ar\")\n",
    "methods = [\"m1\", \"m2\", \"m3\", \"m4\"]\n",
    "nmethods = len(methods)\n",
    "vertices = []\n",
    "for i in range(34):\n",
    "    vertices.append(\"v\"+str(i+1))\n",
    "v = vertices[0]"
   ]
  },
  {
   "cell_type": "code",
   "execution_count": 73,
   "metadata": {},
   "outputs": [],
   "source": [
    "# G = nx.karate_club_graph()\n",
    "G = nx.read_edgelist(\"/Users/Ganymedian/Desktop/Projects/stellar-random-walk-research/randomwalk/src/test/resources/karate.txt\", nodetype=int)\n",
    "# G = G.to_directed()\n",
    "# for line in nx.generate_edgelist(G, data=False):\n",
    "#     print(line)\n",
    "# print(nx.adjacency_matrix(G))\n",
    "# d1 = G.degree(G.nodes())\n",
    "# d2 = G2.degree(sorted(G2.nodes()))\n",
    "# print(d1)\n",
    "# print(d2)\n",
    "# print([x[1] for x in d1])\n",
    "# print([x[1] for x in d2])\n",
    "n_nodes = G.number_of_nodes()\n",
    "A = nx.adjacency_matrix(G,nodelist=sorted(G.nodes())).toarray()\n",
    "d_w = A.sum(axis=0)\n",
    "M_theory = A.T / d_w"
   ]
  },
  {
   "cell_type": "code",
   "execution_count": 74,
   "metadata": {},
   "outputs": [
    {
     "name": "stdout",
     "output_type": "stream",
     "text": [
      "0.03544857768052512\n",
      "0.00046877857688437105\n",
      "0.06758126396847663\n"
     ]
    },
    {
     "data": {
      "image/png": "[encoded data removed]",
      "text/plain": [
       "<matplotlib.figure.Figure at 0x10ad53828>"
      ]
     },
     "metadata": {},
     "output_type": "display_data"
    }
   ],
   "source": [
    "plt.imshow(np.abs(M_theory - M_empirical))\n",
    "plt.colorbar()\n",
    "error = np.abs(M_theory - M_empirical).max()\n",
    "print(error)\n",
    "error = np.abs(M_theory - M_empirical).mean()\n",
    "print(error)\n",
    "error = np.linalg.norm(M_theory - M_empirical)\n",
    "print(error)"
   ]
  },
  {
   "cell_type": "code",
   "execution_count": 75,
   "metadata": {},
   "outputs": [
    {
     "name": "stdout",
     "output_type": "stream",
     "text": [
      "m1\n",
      "(17000, 101)\n",
      "m2-v1\n",
      "(17000, 101)\n",
      "m3-v1\n",
      "(17000, 101)\n",
      "m4-v1\n",
      "(17000, 101)\n"
     ]
    }
   ],
   "source": [
    "random_walks_int = []\n",
    "\n",
    "for m in methods:\n",
    "    fname = m\n",
    "    if m != \"m1\":\n",
    "        fname = fname+\"-\"+v\n",
    "    print(fname)\n",
    "    rws = np.concatenate([\n",
    "        np.loadtxt(f.open(), delimiter='\\t', dtype=int)\n",
    "        for f in rw_location.glob(fname+\"-*/part-*\")\n",
    "        if f.stat().st_size > 0\n",
    "    ])\n",
    "    print(rws.shape)\n",
    "    random_walks_int.append(rws)\n",
    "#     random_walks_str = [list(map(str, v)) for v in random_walks_int]"
   ]
  },
  {
   "cell_type": "code",
   "execution_count": 76,
   "metadata": {},
   "outputs": [
    {
     "name": "stdout",
     "output_type": "stream",
     "text": [
      "(3400, 101)\n",
      "(3400, 101)\n",
      "(3400, 101)\n",
      "(3400, 101)\n"
     ]
    }
   ],
   "source": [
    "all_runs = []\n",
    "for i in range(nmethods):\n",
    "    ars = np.vsplit(random_walks_int[i], 5)\n",
    "    print(ars[0].shape)\n",
    "    all_runs.append(ars)\n"
   ]
  },
  {
   "cell_type": "code",
   "execution_count": 104,
   "metadata": {},
   "outputs": [
    {
     "name": "stdout",
     "output_type": "stream",
     "text": [
      "[[30 27 34 ...  6 11  1]\n",
      " [20  2 14 ... 28 25 28]\n",
      " [10  3  1 ... 20 34 10]\n",
      " ...\n",
      " [ 1  7 17 ... 19 33 15]\n",
      " [ 1  9  1 ...  3 10 34]\n",
      " [ 1 22  2 ... 11  5  1]]\n",
      "m3-v1\n",
      "(17000, 101)\n",
      "(3400, 101)\n",
      "[[30 27 34 ...  6 11  1]\n",
      " [20  2 14 ... 28 25 28]\n",
      " [10  3  1 ... 20 34 10]\n",
      " ...\n",
      " [ 1  7 17 ... 19 33 15]\n",
      " [ 1  9  1 ...  3 10 34]\n",
      " [ 1 22  2 ... 11  5  1]]\n",
      "True\n"
     ]
    }
   ],
   "source": [
    "rws = np.concatenate([\n",
    "        np.loadtxt(f.open(), delimiter='\\t', dtype=int)\n",
    "        for f in rw_location.glob(\"m3-v1-4-s1518505022992/part-*\")\n",
    "        if f.stat().st_size > 0\n",
    "    ])\n",
    "print(rws)\n",
    "m3_output = loadPaths(\"m3\", \"v1\")\n",
    "print(m3_output[1])\n",
    "# print(all_runs[2][0])\n",
    "print(np.array_equal(rws, m3_output[1]) & np.array_equal(m3_output[1], all_runs[2][1]))\n"
   ]
  },
  {
   "cell_type": "code",
   "execution_count": 79,
   "metadata": {},
   "outputs": [],
   "source": [
    "def loadPaths(m, v):\n",
    "    random_walks_int = []\n",
    "\n",
    "    fname = m\n",
    "    if m != \"m1\":\n",
    "        fname = fname+\"-\"+v\n",
    "    print(fname)\n",
    "    rws = np.concatenate([\n",
    "        np.loadtxt(f.open(), delimiter='\\t', dtype=int)\n",
    "        for f in rw_location.glob(fname+\"-*/part-*\")\n",
    "        if f.stat().st_size > 0\n",
    "    ])\n",
    "    print(rws.shape)\n",
    "    ars = np.vsplit(rws, 5)\n",
    "    print(ars[0].shape)\n",
    "    return ars;"
   ]
  },
  {
   "cell_type": "code",
   "execution_count": 106,
   "metadata": {},
   "outputs": [
    {
     "data": {
      "text/plain": [
       "<function matplotlib.pyplot.show>"
      ]
     },
     "execution_count": 106,
     "metadata": {},
     "output_type": "execute_result"
    },
    {
     "data": {
      "image/png": "[encoded data removed]",
      "text/plain": [
       "<matplotlib.figure.Figure at 0x10b8c06d8>"
      ]
     },
     "metadata": {},
     "output_type": "display_data"
    }
   ],
   "source": [
    "formats=['.-', '+-', '*-','x-']\n",
    "for mm in range(nmethods):\n",
    "    all_errors = []\n",
    "    walk_length = all_runs[mm][0].shape[1]\n",
    "    for rr in range(5):\n",
    "        errors = []\n",
    "        x_axis = []\n",
    "        for ii in range(20):\n",
    "            walk_length = 5*(ii + 1)\n",
    "\n",
    "            M_empirical = np.zeros((n_nodes, n_nodes))\n",
    "            for walk in all_runs[mm][rr]:\n",
    "                for kk in range(walk_length - 1):\n",
    "                    M_empirical[walk[kk] - 1, walk[kk + 1] - 1] += 1\n",
    "\n",
    "            n_samples = M_empirical.sum()\n",
    "            M_empirical = M_empirical.T / np.maximum(M_empirical.sum(axis=1), 1)\n",
    "\n",
    "            errors.append(np.abs(M_theory - M_empirical).max())\n",
    "            x_axis.append(n_samples)\n",
    "        all_errors.append(errors)\n",
    "    n = len(all_errors)\n",
    "    means = np.sum(all_errors, axis=0)/n\n",
    "    stdv = np.sqrt(np.sum(np.square(all_errors-means),axis=0)/(n-1))\n",
    "    stderr = stdv/np.sqrt(n)\n",
    "    plt.errorbar(x_axis, means, yerr=stderr, fmt=formats[mm], label=methods[mm])\n",
    "    plt.legend()\n",
    "plt.show\n",
    "# plt.plot(x_axis, all_errors, '.-')"
   ]
  },
  {
   "cell_type": "code",
   "execution_count": null,
   "metadata": {
    "scrolled": true
   },
   "outputs": [],
   "source": [
    "formats=['.-', '+-', '*-','x-']\n",
    "for mm in range(nmethods):\n",
    "    all_errors = []\n",
    "    all_means = []\n",
    "    x_axis = []\n",
    "    for vv in vertices:\n",
    "        errors = []\n",
    "        all_runs = loadPaths(methods[mm], vv)\n",
    "        walk_length = all_runs[0].shape[1]\n",
    "        for rr in range(5):\n",
    "            M_empirical = np.zeros((n_nodes, n_nodes))\n",
    "            for walk in all_runs[rr]:\n",
    "                for kk in range(walk_length - 1):\n",
    "                    M_empirical[walk[kk] - 1, walk[kk + 1] - 1] += 1\n",
    "\n",
    "            n_samples = M_empirical.sum()\n",
    "            M_empirical = M_empirical.T / np.maximum(M_empirical.sum(axis=1), 1)\n",
    "            errors.append(np.abs(M_theory - M_empirical).max())\n",
    "        n = len(errors)\n",
    "        means = np.sum(errors, axis=0)/n\n",
    "        stdv = np.sqrt(np.sum(np.square(errors-means),axis=0)/(n-1))\n",
    "        stderr = stdv/np.sqrt(n)\n",
    "        all_errors.append(stderr)\n",
    "        all_means.append(means)\n",
    "        x_axis.append(vv)\n",
    "        if methods[mm] == 'm1':\n",
    "            break\n",
    "    plt.errorbar(x_axis, all_means, yerr=all_errors, fmt=formats[mm], label=methods[mm])\n",
    "    plt.legend()\n",
    "plt.show"
   ]
  },
  {
   "cell_type": "code",
   "execution_count": null,
   "metadata": {},
   "outputs": [],
   "source": [
    "rw_location = Path(\"/Users/Ganymedian/Desktop/dynamic-rw/karate-100-100/ar\")\n",
    "rws = np.concatenate([\n",
    "        np.loadtxt(f.open(), delimiter='\\t', dtype=int)\n",
    "        for f in rw_location.glob(\"m1-0-s1518450208665/part-*\")\n",
    "        if f.stat().st_size > 0\n",
    "    ])\n",
    "errors = []\n",
    "x_axis = []\n",
    "walk_lengths = []\n",
    "walk_length = rws.shape[1]\n",
    "\n",
    "for ii in range(20):\n",
    "    walk_length = 5*(ii + 1)\n",
    "    walk_lengths.append(walk_length)\n",
    "    \n",
    "    M_empirical = np.zeros((n_nodes, n_nodes))\n",
    "    for walk in rws:\n",
    "        for kk in range(walk_length - 1):\n",
    "            M_empirical[walk[kk] - 1, walk[kk + 1] - 1] += 1\n",
    "\n",
    "    n_samples = M_empirical.sum()\n",
    "    M_empirical = M_empirical.T / np.maximum(M_empirical.sum(axis=1), 1)\n",
    "\n",
    "    errors.append(np.abs(M_theory - M_empirical).max())\n",
    "    x_axis.append(n_samples)\n",
    "\n",
    "plt.plot(x_axis, errors, '.-')"
   ]
  },
  {
   "cell_type": "code",
   "execution_count": null,
   "metadata": {},
   "outputs": [],
   "source": []
  },
  {
   "cell_type": "code",
   "execution_count": null,
   "metadata": {},
   "outputs": [],
   "source": []
  },
  {
   "cell_type": "code",
   "execution_count": null,
   "metadata": {},
   "outputs": [],
   "source": []
  },
  {
   "cell_type": "markdown",
   "metadata": {},
   "source": [
    "Calculate empirical transition probabilities"
   ]
  },
  {
   "cell_type": "code",
   "execution_count": null,
   "metadata": {},
   "outputs": [],
   "source": [
    "random_walks_int[random_walks_int[:, 0] == 1]"
   ]
  },
  {
   "cell_type": "code",
   "execution_count": 7,
   "metadata": {},
   "outputs": [
    {
     "ename": "NameError",
     "evalue": "name 'random_walks_int' is not defined",
     "output_type": "error",
     "traceback": [
      "\u001b[0;31m---------------------------------------------------------------------------\u001b[0m",
      "\u001b[0;31mNameError\u001b[0m                                 Traceback (most recent call last)",
      "\u001b[0;32m<ipython-input-7-8b2395dcbc66>\u001b[0m in \u001b[0;36m<module>\u001b[0;34m()\u001b[0m\n\u001b[1;32m      2\u001b[0m \u001b[0mx_axis\u001b[0m \u001b[0;34m=\u001b[0m \u001b[0;34m[\u001b[0m\u001b[0;34m]\u001b[0m\u001b[0;34m\u001b[0m\u001b[0m\n\u001b[1;32m      3\u001b[0m \u001b[0mwalk_lengths\u001b[0m \u001b[0;34m=\u001b[0m \u001b[0;34m[\u001b[0m\u001b[0;34m]\u001b[0m\u001b[0;34m\u001b[0m\u001b[0m\n\u001b[0;32m----> 4\u001b[0;31m \u001b[0mwalk_length\u001b[0m \u001b[0;34m=\u001b[0m \u001b[0mrandom_walks_int\u001b[0m\u001b[0;34m.\u001b[0m\u001b[0mshape\u001b[0m\u001b[0;34m[\u001b[0m\u001b[0;36m1\u001b[0m\u001b[0;34m]\u001b[0m\u001b[0;34m\u001b[0m\u001b[0m\n\u001b[0m\u001b[1;32m      5\u001b[0m \u001b[0;32mfor\u001b[0m \u001b[0mii\u001b[0m \u001b[0;32min\u001b[0m \u001b[0mrange\u001b[0m\u001b[0;34m(\u001b[0m\u001b[0;36m20\u001b[0m\u001b[0;34m)\u001b[0m\u001b[0;34m:\u001b[0m\u001b[0;34m\u001b[0m\u001b[0m\n\u001b[1;32m      6\u001b[0m     \u001b[0mwalk_length\u001b[0m \u001b[0;34m=\u001b[0m \u001b[0;36m5\u001b[0m\u001b[0;34m*\u001b[0m\u001b[0;34m(\u001b[0m\u001b[0mii\u001b[0m \u001b[0;34m+\u001b[0m \u001b[0;36m1\u001b[0m\u001b[0;34m)\u001b[0m\u001b[0;34m\u001b[0m\u001b[0m\n",
      "\u001b[0;31mNameError\u001b[0m: name 'random_walks_int' is not defined"
     ]
    }
   ],
   "source": [
    "errors = []\n",
    "x_axis = []\n",
    "walk_length = random_walks_int.shape[1]\n",
    "for ii in range(20):\n",
    "    walk_length = 5*(ii + 1)\n",
    "    walk_lengths.append(walk_length)\n",
    "    \n",
    "    M_empirical = np.zeros((n_nodes, n_nodes))\n",
    "    for walk in random_walks_int:\n",
    "        for kk in range(walk_length - 1):\n",
    "            M_empirical[walk[kk] - 1, walk[kk + 1] - 1] += 1\n",
    "\n",
    "    n_samples = M_empirical.sum()\n",
    "    M_empirical = M_empirical.T / np.maximum(M_empirical.sum(axis=1), 1)\n",
    "\n",
    "    errors.append(np.abs(M_theory - M_empirical).max())\n",
    "    x_axis.append(n_samples)\n",
    "\n",
    "plt.plot(x_axis, errors, '.-')"
   ]
  },
  {
   "cell_type": "code",
   "execution_count": null,
   "metadata": {},
   "outputs": [],
   "source": [
    "errors_nw = []\n",
    "x_axis_nw = []\n",
    "walk_length = random_walks_int.shape[1]\n",
    "for ii in range(20):\n",
    "    #walk_length = 5*(ii + 1)\n",
    "    #walk_lengths.append(walk_length)\n",
    "    \n",
    "    num_walks = 5*(ii + 1)\n",
    "\n",
    "    reduced_walks = []\n",
    "    for kk in range(1, n_nodes+1):\n",
    "        reduced_walks.append(\n",
    "            random_walks_int[random_walks_int[:, 0] == kk][:num_walks]\n",
    "        )\n",
    "    reduced_walks = np.concatenate(reduced_walks)\n",
    "    \n",
    "    M_empirical = np.zeros((n_nodes, n_nodes))\n",
    "    for walk in reduced_walks:\n",
    "        for kk in range(walk_length - 1):\n",
    "            M_empirical[walk[kk] - 1, walk[kk + 1] - 1] += 1\n",
    "    n_samples = M_empirical.sum()\n",
    "    M_empirical = M_empirical.T / np.maximum(M_empirical.sum(axis=1), 1)\n",
    "\n",
    "    errors_nw.append(np.abs(M_theory - M_empirical).max())\n",
    "    x_axis_nw.append(n_samples)\n",
    "\n",
    "plt.plot(x_axis_nw, errors_nw, '.-')\n",
    "plt.plot(x_axis, errors, '--')"
   ]
  },
  {
   "cell_type": "markdown",
   "metadata": {},
   "source": [
    "Theoretical transition probabilities"
   ]
  },
  {
   "cell_type": "code",
   "execution_count": null,
   "metadata": {},
   "outputs": [],
   "source": []
  },
  {
   "cell_type": "code",
   "execution_count": null,
   "metadata": {},
   "outputs": [],
   "source": []
  },
  {
   "cell_type": "code",
   "execution_count": null,
   "metadata": {},
   "outputs": [],
   "source": []
  },
  {
   "cell_type": "raw",
   "metadata": {},
   "source": [
    "Error metric"
   ]
  },
  {
   "cell_type": "code",
   "execution_count": null,
   "metadata": {},
   "outputs": [],
   "source": [
    "error = np.abs(M_theory - M_empirical).max()\n",
    "#error = np.linalg.norm(M_theory - M_empirical)\n",
    "error"
   ]
  },
  {
   "cell_type": "markdown",
   "metadata": {},
   "source": [
    "Train word2vec embeddings using gensim"
   ]
  },
  {
   "cell_type": "code",
   "execution_count": null,
   "metadata": {},
   "outputs": [],
   "source": [
    "model = Word2Vec(random_walks_str, sg=1, size=20, window=5, sample=0, min_count=0, \n",
    "                 workers=4, seed=1321, iter=10, compute_loss=True)"
   ]
  },
  {
   "cell_type": "code",
   "execution_count": null,
   "metadata": {},
   "outputs": [],
   "source": [
    "model.get_latest_training_loss()"
   ]
  },
  {
   "cell_type": "markdown",
   "metadata": {},
   "source": [
    "Save embeddings"
   ]
  },
  {
   "cell_type": "code",
   "execution_count": null,
   "metadata": {},
   "outputs": [],
   "source": [
    "model.wv.save_word2vec_format(\"embeddings.out\")"
   ]
  },
  {
   "cell_type": "markdown",
   "metadata": {},
   "source": [
    "Extract embeddings as matrix of size `n_nodes` × `d`"
   ]
  },
  {
   "cell_type": "code",
   "execution_count": null,
   "metadata": {},
   "outputs": [],
   "source": [
    "V_w2v = model.wv.syn0\n",
    "n_nodes, d_emb = V_w2v.shape"
   ]
  },
  {
   "cell_type": "markdown",
   "metadata": {},
   "source": [
    "Node labels:"
   ]
  },
  {
   "cell_type": "code",
   "execution_count": null,
   "metadata": {},
   "outputs": [],
   "source": [
    "node_labels = np.zeros(n_nodes)\n",
    "node_labels[:10] = 1"
   ]
  },
  {
   "cell_type": "markdown",
   "metadata": {},
   "source": [
    "**Classification using single train/test split**"
   ]
  },
  {
   "cell_type": "code",
   "execution_count": null,
   "metadata": {},
   "outputs": [],
   "source": [
    "# Split using sklearn ShuffleSplit\n",
    "ss = model_selection.ShuffleSplit(n_splits=1,\n",
    "                                  train_size=0.6,\n",
    "                                  test_size=0.4)\n",
    "train_index, test_index = next(ss.split(V_w2v))\n",
    "\n",
    "train_data = V_w2v[train_index]\n",
    "test_data = V_w2v[test_index]\n",
    "train_labels = node_labels[train_index]\n",
    "test_labels  = node_labels[test_index]\n",
    "\n",
    "# Classifier choice\n",
    "#classifier = linear_model.LogisticRegression(C=10)\n",
    "classifier = svm.SVC(C=1)\n",
    "\n",
    "clf = make_pipeline(preprocessing.StandardScaler(), classifier)\n",
    "clf.fit(train_data, train_labels)\n",
    "\n",
    "train_pred = clf.predict(train_data)\n",
    "test_pred = clf.predict(test_data)\n",
    "\n",
    "print(\"Train acc:\", clf.score(train_data, train_labels))\n",
    "print(\"Test acc:\", clf.score(test_data, test_labels))\n",
    "print(\"Train f1:\", f1_score(train_labels, train_pred, average='micro'))\n",
    "print(\"Test f1:\", f1_score(test_labels, test_pred, average='micro'))"
   ]
  },
  {
   "cell_type": "markdown",
   "metadata": {},
   "source": [
    "**K-fold cross validation**"
   ]
  },
  {
   "cell_type": "code",
   "execution_count": null,
   "metadata": {},
   "outputs": [],
   "source": [
    "kf = model_selection.KFold(n_splits=4, shuffle=True)\n",
    "\n",
    "acc_test_scores = []\n",
    "f1_test_scores = []\n",
    "for train_index, test_index in kf.split(V_w2v):\n",
    "    train_data = V_w2v[train_index]\n",
    "    test_data = V_w2v[test_index]\n",
    "    train_labels = node_labels[train_index]\n",
    "    test_labels  = node_labels[test_index]\n",
    "    \n",
    "    # Classifier choice\n",
    "    #classifier = linear_model.LogisticRegression(C=10)\n",
    "    classifier = svm.SVC(C=1)\n",
    "\n",
    "    clf = make_pipeline(preprocessing.StandardScaler(), classifier)\n",
    "    clf.fit(train_data, train_labels)\n",
    "\n",
    "    train_pred = clf.predict(train_data)\n",
    "    test_pred = clf.predict(test_data)\n",
    "\n",
    "    acc_train = clf.score(train_data, train_labels)\n",
    "    acc_test = clf.score(test_data, test_labels)\n",
    "    f1_train = f1_score(train_labels, train_pred, average='micro')\n",
    "    f1_test = f1_score(test_labels, test_pred, average='micro')\n",
    "    \n",
    "    acc_test_scores.append(acc_test)\n",
    "    f1_test_scores.append(f1_test)\n",
    "    \n",
    "    print(\"Train acc={:4f},  Test acc={:4f},  Train f1={:4f},  Test f1={:4f}\".format(\n",
    "        acc_train, acc_test, f1_train, f1_test\n",
    "    ))\n",
    "    \n",
    "print(\"Average scores:\")\n",
    "print(\"Avg test acc={:4f} [±{:2f}],  Avg test f1={:4f} [±{:2f}]\".format(\n",
    "    np.mean(acc_test_scores), np.std(acc_test_scores), \n",
    "    np.mean(f1_test_scores), np.std(f1_test_scores)\n",
    "))"
   ]
  },
  {
   "cell_type": "code",
   "execution_count": null,
   "metadata": {},
   "outputs": [],
   "source": []
  }
 ],
 "metadata": {
  "kernelspec": {
   "display_name": "Python 3",
   "language": "python",
   "name": "python3"
  },
  "language_info": {
   "codemirror_mode": {
    "name": "ipython",
    "version": 3
   },
   "file_extension": ".py",
   "mimetype": "text/x-python",
   "name": "python",
   "nbconvert_exporter": "python",
   "pygments_lexer": "ipython3",
   "version": "3.6.4"
  }
 },
 "nbformat": 4,
 "nbformat_minor": 2
}
