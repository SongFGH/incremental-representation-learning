{
 "cells": [
  {
   "cell_type": "code",
   "execution_count": 272,
   "metadata": {},
   "outputs": [],
   "source": [
    "import os\n",
    "import numpy as np\n",
    "import matplotlib.pyplot as plt\n",
    "from gensim.models.word2vec import PathLineSentences, LineSentence, Word2Vec\n",
    "from pathlib import Path\n",
    "import networkx as nx\n",
    "from sklearn import model_selection, linear_model, preprocessing, svm\n",
    "from sklearn.metrics import accuracy_score, f1_score\n",
    "from sklearn.pipeline import make_pipeline\n",
    "%matplotlib inline"
   ]
  },
  {
   "cell_type": "code",
   "execution_count": 6,
   "metadata": {},
   "outputs": [
    {
     "ename": "ModuleNotFoundError",
     "evalue": "No module named 'utils'",
     "output_type": "error",
     "traceback": [
      "\u001b[0;31m---------------------------------------------------------------------------\u001b[0m",
      "\u001b[0;31mModuleNotFoundError\u001b[0m                       Traceback (most recent call last)",
      "\u001b[0;32m<ipython-input-6-4a3cf2043d0c>\u001b[0m in \u001b[0;36m<module>\u001b[0;34m()\u001b[0m\n\u001b[1;32m      1\u001b[0m \u001b[0;32mimport\u001b[0m \u001b[0msys\u001b[0m\u001b[0;34m\u001b[0m\u001b[0m\n\u001b[1;32m      2\u001b[0m \u001b[0msys\u001b[0m\u001b[0;34m.\u001b[0m\u001b[0mpath\u001b[0m\u001b[0;34m.\u001b[0m\u001b[0mappend\u001b[0m\u001b[0;34m(\u001b[0m\u001b[0;34m\"/Users/doc019/Code/stellar-evaluation-plugins\"\u001b[0m\u001b[0;34m)\u001b[0m\u001b[0;34m\u001b[0m\u001b[0m\n\u001b[0;32m----> 3\u001b[0;31m \u001b[0;32mfrom\u001b[0m \u001b[0mutils\u001b[0m\u001b[0;34m.\u001b[0m\u001b[0mepgm\u001b[0m \u001b[0;32mimport\u001b[0m \u001b[0mEPGM\u001b[0m\u001b[0;34m\u001b[0m\u001b[0m\n\u001b[0m",
      "\u001b[0;31mModuleNotFoundError\u001b[0m: No module named 'utils'"
     ]
    }
   ],
   "source": [
    "import sys\n",
    "sys.path.append(\"/Users/doc019/Code/stellar-evaluation-plugins\")\n",
    "from utils.epgm import EPGM"
   ]
  },
  {
   "cell_type": "markdown",
   "metadata": {},
   "source": [
    "**Load random walks from output files**\n",
    "\n",
    "The word2vec model requires sentences of strings, so we convert node number to a string."
   ]
  },
  {
   "cell_type": "code",
   "execution_count": 273,
   "metadata": {},
   "outputs": [],
   "source": [
    "rw_location = Path(\"/Users/Ganymedian/Desktop/dynamic-rw/karate-100-100/ar\")\n",
    "methods = [\"m1\", \"m2\", \"m3\", \"m4\"]\n",
    "nmethods = len(methods)\n",
    "vertices = []\n",
    "for i in range(34):\n",
    "    vertices.append(\"v\"+str(i+1))\n",
    "v = vertices[1]"
   ]
  },
  {
   "cell_type": "code",
   "execution_count": 274,
   "metadata": {},
   "outputs": [],
   "source": [
    "G = nx.karate_club_graph()\n",
    "n_nodes = G.number_of_nodes()\n",
    "A = nx.adjacency_matrix(G).toarray()\n",
    "d_w = A.sum(axis=0)\n",
    "M_theory = A.T / d_w"
   ]
  },
  {
   "cell_type": "code",
   "execution_count": 275,
   "metadata": {},
   "outputs": [
    {
     "name": "stdout",
     "output_type": "stream",
     "text": [
      "m1\n",
      "(17000, 101)\n",
      "m2-v2\n",
      "(17000, 101)\n",
      "m3-v2\n",
      "(17000, 101)\n",
      "m4-v2\n",
      "(17000, 101)\n"
     ]
    }
   ],
   "source": [
    "random_walks_int = []\n",
    "\n",
    "for m in methods:\n",
    "    fname = m\n",
    "    if m != \"m1\":\n",
    "        fname = fname+\"-\"+v\n",
    "    print(fname)\n",
    "    rws = np.concatenate([\n",
    "        np.loadtxt(f.open(), delimiter='\\t', dtype=int)\n",
    "        for f in rw_location.glob(fname+\"-*/part-*\")\n",
    "        if f.stat().st_size > 0\n",
    "    ])\n",
    "    print(rws.shape)\n",
    "    random_walks_int.append(rws)\n",
    "#     random_walks_str = [list(map(str, v)) for v in random_walks_int]"
   ]
  },
  {
   "cell_type": "code",
   "execution_count": 276,
   "metadata": {},
   "outputs": [
    {
     "name": "stdout",
     "output_type": "stream",
     "text": [
      "(3400, 101)\n",
      "(3400, 101)\n",
      "(3400, 101)\n",
      "(3400, 101)\n"
     ]
    }
   ],
   "source": [
    "all_runs = []\n",
    "for i in range(nmethods):\n",
    "    ars = np.vsplit(random_walks_int[i], 5)\n",
    "    print(ars[0].shape)\n",
    "    all_runs.append(ars)\n"
   ]
  },
  {
   "cell_type": "code",
   "execution_count": 277,
   "metadata": {},
   "outputs": [
    {
     "data": {
      "text/plain": [
       "<function matplotlib.pyplot.show>"
      ]
     },
     "execution_count": 277,
     "metadata": {},
     "output_type": "execute_result"
    },
    {
     "data": {
      "image/png": "[encoded data removed]",
      "text/plain": [
       "<matplotlib.figure.Figure at 0x1124bd780>"
      ]
     },
     "metadata": {},
     "output_type": "display_data"
    }
   ],
   "source": [
    "formats=['.-', '+-', '*-','x-']\n",
    "for mm in range(nmethods):\n",
    "    all_errors = []\n",
    "    walk_length = all_runs[mm][0].shape[1]\n",
    "    for rr in range(5):\n",
    "        errors = []\n",
    "        x_axis = []\n",
    "        for ii in range(20):\n",
    "            walk_length = 5*(ii + 1)\n",
    "\n",
    "            M_empirical = np.zeros((n_nodes, n_nodes))\n",
    "            for walk in all_runs[mm][rr]:\n",
    "                for kk in range(walk_length - 1):\n",
    "                    M_empirical[walk[kk] - 1, walk[kk + 1] - 1] += 1\n",
    "\n",
    "            n_samples = M_empirical.sum()\n",
    "            M_empirical = M_empirical.T / np.maximum(M_empirical.sum(axis=1), 1)\n",
    "\n",
    "            errors.append(np.abs(M_theory - M_empirical).max())\n",
    "            x_axis.append(n_samples)\n",
    "        all_errors.append(errors)\n",
    "    n = len(all_errors)\n",
    "    means = np.sum(all_errors, axis=0)/n\n",
    "    stdv = np.sqrt(np.sum(np.square(all_errors-means),axis=0)/(n-1))\n",
    "    stderr = stdv/np.sqrt(n)\n",
    "    plt.errorbar(x_axis, means, yerr=stderr, fmt=formats[mm], label=methods[mm])\n",
    "    plt.legend()\n",
    "plt.show\n",
    "# plt.plot(x_axis, all_errors, '.-')"
   ]
  },
  {
   "cell_type": "code",
   "execution_count": 290,
   "metadata": {
    "scrolled": true
   },
   "outputs": [
    {
     "name": "stdout",
     "output_type": "stream",
     "text": [
      "m1\n",
      "(17000, 101)\n",
      "(3400, 101)\n",
      "m2-v1\n",
      "(17000, 101)\n",
      "(3400, 101)\n",
      "m2-v2\n",
      "(17000, 101)\n",
      "(3400, 101)\n",
      "m2-v3\n",
      "(17000, 101)\n",
      "(3400, 101)\n",
      "m2-v4\n",
      "(17000, 101)\n",
      "(3400, 101)\n",
      "m2-v5\n",
      "(17000, 101)\n",
      "(3400, 101)\n",
      "m2-v6\n",
      "(17000, 101)\n",
      "(3400, 101)\n",
      "m2-v7\n",
      "(17000, 101)\n",
      "(3400, 101)\n",
      "m2-v8\n",
      "(17000, 101)\n",
      "(3400, 101)\n",
      "m2-v9\n",
      "(17000, 101)\n",
      "(3400, 101)\n",
      "m2-v10\n",
      "(17000, 101)\n",
      "(3400, 101)\n",
      "m2-v11\n",
      "(17000, 101)\n",
      "(3400, 101)\n",
      "m2-v12\n",
      "(17000, 101)\n",
      "(3400, 101)\n",
      "m2-v13\n",
      "(17000, 101)\n",
      "(3400, 101)\n",
      "m2-v14\n",
      "(17000, 101)\n",
      "(3400, 101)\n",
      "m2-v15\n",
      "(17000, 101)\n",
      "(3400, 101)\n",
      "m2-v16\n",
      "(17000, 101)\n",
      "(3400, 101)\n",
      "m2-v17\n",
      "(17000, 101)\n",
      "(3400, 101)\n",
      "m2-v18\n",
      "(17000, 101)\n",
      "(3400, 101)\n",
      "m2-v19\n",
      "(17000, 101)\n",
      "(3400, 101)\n",
      "m2-v20\n",
      "(17000, 101)\n",
      "(3400, 101)\n",
      "m2-v21\n",
      "(17000, 101)\n",
      "(3400, 101)\n",
      "m2-v22\n",
      "(17000, 101)\n",
      "(3400, 101)\n",
      "m2-v23\n",
      "(17000, 101)\n",
      "(3400, 101)\n",
      "m2-v24\n",
      "(17000, 101)\n",
      "(3400, 101)\n",
      "m2-v25\n",
      "(17000, 101)\n",
      "(3400, 101)\n",
      "m2-v26\n",
      "(17000, 101)\n",
      "(3400, 101)\n",
      "m2-v27\n",
      "(17000, 101)\n",
      "(3400, 101)\n",
      "m2-v28\n",
      "(17000, 101)\n",
      "(3400, 101)\n",
      "m2-v29\n",
      "(17000, 101)\n",
      "(3400, 101)\n",
      "m2-v30\n",
      "(17000, 101)\n",
      "(3400, 101)\n",
      "m2-v31\n",
      "(17000, 101)\n",
      "(3400, 101)\n",
      "m2-v32\n",
      "(17000, 101)\n",
      "(3400, 101)\n",
      "m2-v33\n",
      "(17000, 101)\n",
      "(3400, 101)\n",
      "m2-v34\n",
      "(17000, 101)\n",
      "(3400, 101)\n",
      "m3-v1\n",
      "(17000, 101)\n",
      "(3400, 101)\n",
      "m3-v2\n",
      "(17000, 101)\n",
      "(3400, 101)\n",
      "m3-v3\n",
      "(17000, 101)\n",
      "(3400, 101)\n",
      "m3-v4\n",
      "(17000, 101)\n",
      "(3400, 101)\n",
      "m3-v5\n",
      "(17000, 101)\n",
      "(3400, 101)\n",
      "m3-v6\n",
      "(17000, 101)\n",
      "(3400, 101)\n",
      "m3-v7\n",
      "(17000, 101)\n",
      "(3400, 101)\n",
      "m3-v8\n",
      "(17000, 101)\n",
      "(3400, 101)\n",
      "m3-v9\n",
      "(17000, 101)\n",
      "(3400, 101)\n",
      "m3-v10\n",
      "(17000, 101)\n",
      "(3400, 101)\n",
      "m3-v11\n",
      "(17000, 101)\n",
      "(3400, 101)\n",
      "m3-v12\n",
      "(17000, 101)\n",
      "(3400, 101)\n",
      "m3-v13\n",
      "(17000, 101)\n",
      "(3400, 101)\n",
      "m3-v14\n",
      "(17000, 101)\n",
      "(3400, 101)\n",
      "m3-v15\n",
      "(17000, 101)\n",
      "(3400, 101)\n",
      "m3-v16\n",
      "(17000, 101)\n",
      "(3400, 101)\n",
      "m3-v17\n",
      "(17000, 101)\n",
      "(3400, 101)\n",
      "m3-v18\n",
      "(17000, 101)\n",
      "(3400, 101)\n",
      "m3-v19\n",
      "(17000, 101)\n",
      "(3400, 101)\n",
      "m3-v20\n",
      "(17000, 101)\n",
      "(3400, 101)\n",
      "m3-v21\n",
      "(17000, 101)\n",
      "(3400, 101)\n",
      "m3-v22\n",
      "(17000, 101)\n",
      "(3400, 101)\n",
      "m3-v23\n",
      "(17000, 101)\n",
      "(3400, 101)\n",
      "m3-v24\n",
      "(17000, 101)\n",
      "(3400, 101)\n",
      "m3-v25\n",
      "(17000, 101)\n",
      "(3400, 101)\n",
      "m3-v26\n",
      "(17000, 101)\n",
      "(3400, 101)\n",
      "m3-v27\n",
      "(17000, 101)\n",
      "(3400, 101)\n",
      "m3-v28\n",
      "(17000, 101)\n",
      "(3400, 101)\n",
      "m3-v29\n",
      "(17000, 101)\n",
      "(3400, 101)\n",
      "m3-v30\n",
      "(17000, 101)\n",
      "(3400, 101)\n",
      "m3-v31\n",
      "(17000, 101)\n",
      "(3400, 101)\n",
      "m3-v32\n",
      "(17000, 101)\n",
      "(3400, 101)\n",
      "m3-v33\n",
      "(17000, 101)\n",
      "(3400, 101)\n",
      "m3-v34\n",
      "(17000, 101)\n",
      "(3400, 101)\n",
      "m4-v1\n",
      "(17000, 101)\n",
      "(3400, 101)\n",
      "m4-v2\n",
      "(17000, 101)\n",
      "(3400, 101)\n",
      "m4-v3\n",
      "(17000, 101)\n",
      "(3400, 101)\n",
      "m4-v4\n",
      "(17000, 101)\n",
      "(3400, 101)\n",
      "m4-v5\n",
      "(17000, 101)\n",
      "(3400, 101)\n",
      "m4-v6\n",
      "(17000, 101)\n",
      "(3400, 101)\n",
      "m4-v7\n",
      "(17000, 101)\n",
      "(3400, 101)\n",
      "m4-v8\n",
      "(17000, 101)\n",
      "(3400, 101)\n",
      "m4-v9\n",
      "(17000, 101)\n",
      "(3400, 101)\n",
      "m4-v10\n",
      "(17000, 101)\n",
      "(3400, 101)\n",
      "m4-v11\n",
      "(17000, 101)\n",
      "(3400, 101)\n",
      "m4-v12\n",
      "(17000, 101)\n",
      "(3400, 101)\n",
      "m4-v13\n",
      "(17000, 101)\n",
      "(3400, 101)\n",
      "m4-v14\n",
      "(17000, 101)\n",
      "(3400, 101)\n",
      "m4-v15\n",
      "(17000, 101)\n",
      "(3400, 101)\n",
      "m4-v16\n",
      "(17000, 101)\n",
      "(3400, 101)\n",
      "m4-v17\n",
      "(17000, 101)\n",
      "(3400, 101)\n",
      "m4-v18\n",
      "(17000, 101)\n",
      "(3400, 101)\n",
      "m4-v19\n",
      "(17000, 101)\n",
      "(3400, 101)\n",
      "m4-v20\n",
      "(17000, 101)\n",
      "(3400, 101)\n",
      "m4-v21\n",
      "(17000, 101)\n",
      "(3400, 101)\n",
      "m4-v22\n",
      "(17000, 101)\n",
      "(3400, 101)\n",
      "m4-v23\n",
      "(17000, 101)\n",
      "(3400, 101)\n",
      "m4-v24\n",
      "(17000, 101)\n",
      "(3400, 101)\n",
      "m4-v25\n",
      "(17000, 101)\n",
      "(3400, 101)\n",
      "m4-v26\n",
      "(17000, 101)\n",
      "(3400, 101)\n",
      "m4-v27\n",
      "(17000, 101)\n",
      "(3400, 101)\n",
      "m4-v28\n",
      "(17000, 101)\n",
      "(3400, 101)\n",
      "m4-v29\n",
      "(17000, 101)\n",
      "(3400, 101)\n",
      "m4-v30\n",
      "(17000, 101)\n",
      "(3400, 101)\n",
      "m4-v31\n",
      "(17000, 101)\n",
      "(3400, 101)\n",
      "m4-v32\n",
      "(17000, 101)\n",
      "(3400, 101)\n",
      "m4-v33\n",
      "(17000, 101)\n",
      "(3400, 101)\n",
      "m4-v34\n",
      "(17000, 101)\n",
      "(3400, 101)\n"
     ]
    },
    {
     "data": {
      "text/plain": [
       "<function matplotlib.pyplot.show>"
      ]
     },
     "execution_count": 290,
     "metadata": {},
     "output_type": "execute_result"
    },
    {
     "data": {
      "image/png": "[encoded data removed]",
      "text/plain": [
       "<matplotlib.figure.Figure at 0x1242bf048>"
      ]
     },
     "metadata": {},
     "output_type": "display_data"
    }
   ],
   "source": [
    "def loadPaths(m, v):\n",
    "    random_walks_int = []\n",
    "\n",
    "    fname = m\n",
    "    if m != \"m1\":\n",
    "        fname = fname+\"-\"+v\n",
    "    print(fname)\n",
    "    rws = np.concatenate([\n",
    "        np.loadtxt(f.open(), delimiter='\\t', dtype=int)\n",
    "        for f in rw_location.glob(fname+\"-*/part-*\")\n",
    "        if f.stat().st_size > 0\n",
    "    ])\n",
    "    print(rws.shape)\n",
    "    ars = np.vsplit(rws, 5)\n",
    "    print(ars[0].shape)\n",
    "    return ars;\n",
    "\n",
    "\n",
    "\n",
    "formats=['.-', '+-', '*-','x-']\n",
    "for mm in range(nmethods):\n",
    "    all_errors = []\n",
    "    all_means = []\n",
    "    x_axis = []\n",
    "    for vv in vertices:\n",
    "        errors = []\n",
    "        all_runs = loadPaths(methods[mm], vv)\n",
    "        walk_length = all_runs[0].shape[1]\n",
    "        for rr in range(5):\n",
    "            M_empirical = np.zeros((n_nodes, n_nodes))\n",
    "            for walk in all_runs[rr]:\n",
    "                for kk in range(walk_length - 1):\n",
    "                    M_empirical[walk[kk] - 1, walk[kk + 1] - 1] += 1\n",
    "\n",
    "            n_samples = M_empirical.sum()\n",
    "            M_empirical = M_empirical.T / np.maximum(M_empirical.sum(axis=1), 1)\n",
    "            errors.append(np.abs(M_theory - M_empirical).max())\n",
    "        n = len(errors)\n",
    "        means = np.sum(errors, axis=0)/n\n",
    "        stdv = np.sqrt(np.sum(np.square(errors-means),axis=0)/(n-1))\n",
    "        stderr = stdv/np.sqrt(n)\n",
    "        all_errors.append(stderr)\n",
    "        all_means.append(means)\n",
    "        x_axis.append(vv)\n",
    "        if methods[mm] == 'm1':\n",
    "            break\n",
    "    plt.errorbar(x_axis, all_means, yerr=all_errors, fmt=formats[mm], label=methods[mm])\n",
    "    plt.legend()\n",
    "plt.show"
   ]
  },
  {
   "cell_type": "code",
   "execution_count": 169,
   "metadata": {},
   "outputs": [
    {
     "data": {
      "text/plain": [
       "<function matplotlib.pyplot.show>"
      ]
     },
     "execution_count": 169,
     "metadata": {},
     "output_type": "execute_result"
    },
    {
     "data": {
      "image/png": "[encoded data removed]",
      "text/plain": [
       "<matplotlib.figure.Figure at 0x11249f630>"
      ]
     },
     "metadata": {},
     "output_type": "display_data"
    }
   ],
   "source": []
  },
  {
   "cell_type": "code",
   "execution_count": 149,
   "metadata": {},
   "outputs": [
    {
     "data": {
      "text/plain": [
       "[[0.09896907216494844,\n",
       "  0.06491228070175442,\n",
       "  0.07083333333333336,\n",
       "  0.08098591549295775,\n",
       "  0.09787422497785653,\n",
       "  0.06548498276710979,\n",
       "  0.06672418751797526,\n",
       "  0.05519125683060111,\n",
       "  0.06090373280943029,\n",
       "  0.0602045560204556,\n",
       "  0.05229591836734693,\n",
       "  0.04464285714285715,\n",
       "  0.056704707560627676,\n",
       "  0.046875,\n",
       "  0.04980211081794195,\n",
       "  0.04194528875379944,\n",
       "  0.048213272830402776,\n",
       "  0.05406118143459915,\n",
       "  0.060871743486973995,\n",
       "  0.05600571973307911],\n",
       " [0.09062500000000001,\n",
       "  0.0755968169761273,\n",
       "  0.0834164174144234,\n",
       "  0.06946039035591278,\n",
       "  0.07415078707539358,\n",
       "  0.0709318497913769,\n",
       "  0.06120125249074865,\n",
       "  0.05251141552511418,\n",
       "  0.05957836846929421,\n",
       "  0.05000521975153982,\n",
       "  0.0479394449116905,\n",
       "  0.04998141954663693,\n",
       "  0.04557869580061458,\n",
       "  0.047214353163361644,\n",
       "  0.045432904849350475,\n",
       "  0.044228493116551415,\n",
       "  0.04648862512363999,\n",
       "  0.04691358024691361,\n",
       "  0.04304928078101472,\n",
       "  0.044441134117880754],\n",
       " [0.09041394335511982,\n",
       "  0.11757719714964371,\n",
       "  0.1152694610778443,\n",
       "  0.08795180722891571,\n",
       "  0.06257982120051087,\n",
       "  0.06317689530685922,\n",
       "  0.05248950209958009,\n",
       "  0.04978586723768741,\n",
       "  0.049730524252817265,\n",
       "  0.0514184397163121,\n",
       "  0.053933495539334964,\n",
       "  0.045250560957367236,\n",
       "  0.04419889502762431,\n",
       "  0.04714560615779351,\n",
       "  0.05120481927710846,\n",
       "  0.046605293440736495,\n",
       "  0.04385964912280704,\n",
       "  0.0393555203380877,\n",
       "  0.03761283851554664,\n",
       "  0.041963015647226154],\n",
       " [0.09893048128342247,\n",
       "  0.07179487179487182,\n",
       "  0.07401315789473684,\n",
       "  0.050054854635216695,\n",
       "  0.059467734338200684,\n",
       "  0.06280360860513534,\n",
       "  0.05312499999999998,\n",
       "  0.05729006459550906,\n",
       "  0.06599019340779078,\n",
       "  0.05339024993813413,\n",
       "  0.04789590254706533,\n",
       "  0.05079316656497862,\n",
       "  0.056975860102642106,\n",
       "  0.05043290043290044,\n",
       "  0.0417681441792499,\n",
       "  0.04095057034220534,\n",
       "  0.03942512420156141,\n",
       "  0.0329447541814496,\n",
       "  0.03434929850024193,\n",
       "  0.03355003482702579],\n",
       " [0.11386138613861385,\n",
       "  0.10732984293193715,\n",
       "  0.10606060606060608,\n",
       "  0.1088709677419355,\n",
       "  0.10526315789473684,\n",
       "  0.10178571428571431,\n",
       "  0.08381502890173409,\n",
       "  0.07587301587301587,\n",
       "  0.06541524459613202,\n",
       "  0.05056710775047257,\n",
       "  0.05838876570583884,\n",
       "  0.05311778290993069,\n",
       "  0.050216450216450215,\n",
       "  0.047578733491364766,\n",
       "  0.04344341134979163,\n",
       "  0.042943854324734465,\n",
       "  0.04444444444444445,\n",
       "  0.04707783163407436,\n",
       "  0.04305969758802913,\n",
       "  0.04381961823445707]]"
      ]
     },
     "execution_count": 149,
     "metadata": {},
     "output_type": "execute_result"
    }
   ],
   "source": []
  },
  {
   "cell_type": "code",
   "execution_count": 150,
   "metadata": {},
   "outputs": [
    {
     "data": {
      "text/plain": [
       "array([[ 4.09095577e-04, -2.25299212e-02, -1.90852618e-02,\n",
       "         1.52112840e-03,  1.80070799e-02, -7.35162738e-03,\n",
       "         3.25319332e-03, -2.93906718e-03,  5.80120102e-04,\n",
       "         7.08744139e-03,  2.05212953e-04, -4.11430028e-03,\n",
       "         5.96978582e-03, -9.74318649e-04,  3.47183272e-03,\n",
       "        -1.38941124e-03,  3.72704969e-03,  9.99060787e-03,\n",
       "         1.70831717e-02,  1.20498152e-02],\n",
       "       [-7.93497659e-03, -1.18453849e-02, -6.50217774e-03,\n",
       "        -1.00043967e-02, -5.71635802e-03, -1.90476036e-03,\n",
       "        -2.26974171e-03, -5.61890849e-03, -7.45244238e-04,\n",
       "        -3.11189488e-03, -4.15126050e-03,  1.22426212e-03,\n",
       "        -5.15622594e-03, -6.34965486e-04, -8.97373245e-04,\n",
       "         8.93793121e-04,  2.00240198e-03,  2.84300668e-03,\n",
       "        -7.39290993e-04,  4.85229606e-04],\n",
       "       [-8.14603323e-03,  3.01349952e-02,  2.53508659e-02,\n",
       "         8.48702014e-03, -1.72873239e-02, -9.65971484e-03,\n",
       "        -1.09814921e-02, -8.34445677e-03, -1.05930885e-02,\n",
       "        -1.69867492e-03,  1.84279013e-03, -3.50659647e-03,\n",
       "        -6.53602671e-03, -7.03712491e-04,  4.87454118e-03,\n",
       "         3.27059345e-03, -6.26574022e-04, -4.71505323e-03,\n",
       "        -6.17573326e-03, -1.99288886e-03],\n",
       "       [ 3.70504695e-04, -1.56473301e-02, -1.59054373e-02,\n",
       "        -2.94099325e-02, -2.03994108e-02, -1.00330015e-02,\n",
       "        -1.03459942e-02, -8.40259417e-04,  5.66658070e-03,\n",
       "         2.73135303e-04, -4.19480287e-03,  2.03600914e-03,\n",
       "         6.24093836e-03,  2.58358178e-03, -4.56213392e-03,\n",
       "        -2.38412965e-03, -5.06109894e-03, -1.11258194e-02,\n",
       "        -9.43927327e-03, -1.04058697e-02],\n",
       "       [ 1.53014096e-02,  1.98876410e-02,  1.61420109e-02,\n",
       "         2.94061807e-02,  2.53960128e-02,  2.89491041e-02,\n",
       "         2.03440347e-02,  1.77426919e-02,  5.09163189e-03,\n",
       "        -2.55000688e-03,  6.29806029e-03,  4.36062549e-03,\n",
       "        -5.18471525e-04, -2.70585158e-04, -2.88686674e-03,\n",
       "        -3.90845671e-04, -4.17787001e-05,  3.00725807e-03,\n",
       "        -7.28874186e-04, -1.36286277e-04]])"
      ]
     },
     "execution_count": 150,
     "metadata": {},
     "output_type": "execute_result"
    }
   ],
   "source": []
  },
  {
   "cell_type": "markdown",
   "metadata": {},
   "source": [
    "Calculate empirical transition probabilities"
   ]
  },
  {
   "cell_type": "code",
   "execution_count": 24,
   "metadata": {},
   "outputs": [
    {
     "data": {
      "text/plain": [
       "array([[ 1,  2, 14, ..., 29, 32, 29],\n",
       "       [ 1, 32, 33, ..., 34, 15, 34],\n",
       "       [ 1,  5,  7, ...,  3, 28, 25],\n",
       "       ...,\n",
       "       [ 1,  9, 33, ...,  2,  4,  1],\n",
       "       [ 1, 18,  1, ...,  6,  7, 17],\n",
       "       [ 1, 20,  2, ...,  4,  2,  1]])"
      ]
     },
     "execution_count": 24,
     "metadata": {},
     "output_type": "execute_result"
    }
   ],
   "source": [
    "random_walks_int[random_walks_int[:, 0] == 1]"
   ]
  },
  {
   "cell_type": "code",
   "execution_count": 83,
   "metadata": {},
   "outputs": [
    {
     "ename": "NameError",
     "evalue": "name 'walk_lengths' is not defined",
     "output_type": "error",
     "traceback": [
      "\u001b[0;31m---------------------------------------------------------------------------\u001b[0m",
      "\u001b[0;31mNameError\u001b[0m                                 Traceback (most recent call last)",
      "\u001b[0;32m<ipython-input-83-018b6ce2aaa6>\u001b[0m in \u001b[0;36m<module>\u001b[0;34m()\u001b[0m\n\u001b[1;32m      4\u001b[0m \u001b[0;32mfor\u001b[0m \u001b[0mii\u001b[0m \u001b[0;32min\u001b[0m \u001b[0mrange\u001b[0m\u001b[0;34m(\u001b[0m\u001b[0;36m20\u001b[0m\u001b[0;34m)\u001b[0m\u001b[0;34m:\u001b[0m\u001b[0;34m\u001b[0m\u001b[0m\n\u001b[1;32m      5\u001b[0m     \u001b[0mwalk_length\u001b[0m \u001b[0;34m=\u001b[0m \u001b[0;36m5\u001b[0m\u001b[0;34m*\u001b[0m\u001b[0;34m(\u001b[0m\u001b[0mii\u001b[0m \u001b[0;34m+\u001b[0m \u001b[0;36m1\u001b[0m\u001b[0;34m)\u001b[0m\u001b[0;34m\u001b[0m\u001b[0m\n\u001b[0;32m----> 6\u001b[0;31m     \u001b[0mwalk_lengths\u001b[0m\u001b[0;34m.\u001b[0m\u001b[0mappend\u001b[0m\u001b[0;34m(\u001b[0m\u001b[0mwalk_length\u001b[0m\u001b[0;34m)\u001b[0m\u001b[0;34m\u001b[0m\u001b[0m\n\u001b[0m\u001b[1;32m      7\u001b[0m \u001b[0;34m\u001b[0m\u001b[0m\n\u001b[1;32m      8\u001b[0m     \u001b[0mM_empirical\u001b[0m \u001b[0;34m=\u001b[0m \u001b[0mnp\u001b[0m\u001b[0;34m.\u001b[0m\u001b[0mzeros\u001b[0m\u001b[0;34m(\u001b[0m\u001b[0;34m(\u001b[0m\u001b[0mn_nodes\u001b[0m\u001b[0;34m,\u001b[0m \u001b[0mn_nodes\u001b[0m\u001b[0;34m)\u001b[0m\u001b[0;34m)\u001b[0m\u001b[0;34m\u001b[0m\u001b[0m\n",
      "\u001b[0;31mNameError\u001b[0m: name 'walk_lengths' is not defined"
     ]
    }
   ],
   "source": [
    "errors = []\n",
    "x_axis = []\n",
    "walk_length = random_walks_int.shape[1]\n",
    "for ii in range(20):\n",
    "    walk_length = 5*(ii + 1)\n",
    "    walk_lengths.append(walk_length)\n",
    "    \n",
    "    M_empirical = np.zeros((n_nodes, n_nodes))\n",
    "    for walk in random_walks_int:\n",
    "        for kk in range(walk_length - 1):\n",
    "            M_empirical[walk[kk] - 1, walk[kk + 1] - 1] += 1\n",
    "\n",
    "    n_samples = M_empirical.sum()\n",
    "    M_empirical = M_empirical.T / np.maximum(M_empirical.sum(axis=1), 1)\n",
    "\n",
    "    errors.append(np.abs(M_theory - M_empirical).max())\n",
    "    x_axis.append(n_samples)\n",
    "\n",
    "plt.plot(x_axis, errors, '.-')"
   ]
  },
  {
   "cell_type": "code",
   "execution_count": 68,
   "metadata": {},
   "outputs": [
    {
     "data": {
      "text/plain": [
       "[<matplotlib.lines.Line2D at 0x10cdd8f98>]"
      ]
     },
     "execution_count": 68,
     "metadata": {},
     "output_type": "execute_result"
    },
    {
     "data": {
      "image/png": "[encoded data removed]",
      "text/plain": [
       "<matplotlib.figure.Figure at 0x10cdd8dd8>"
      ]
     },
     "metadata": {},
     "output_type": "display_data"
    }
   ],
   "source": [
    "errors_nw = []\n",
    "x_axis_nw = []\n",
    "walk_length = random_walks_int.shape[1]\n",
    "for ii in range(20):\n",
    "    #walk_length = 5*(ii + 1)\n",
    "    #walk_lengths.append(walk_length)\n",
    "    \n",
    "    num_walks = 5*(ii + 1)\n",
    "\n",
    "    reduced_walks = []\n",
    "    for kk in range(1, n_nodes+1):\n",
    "        reduced_walks.append(\n",
    "            random_walks_int[random_walks_int[:, 0] == kk][:num_walks]\n",
    "        )\n",
    "    reduced_walks = np.concatenate(reduced_walks)\n",
    "    \n",
    "    M_empirical = np.zeros((n_nodes, n_nodes))\n",
    "    for walk in reduced_walks:\n",
    "        for kk in range(walk_length - 1):\n",
    "            M_empirical[walk[kk] - 1, walk[kk + 1] - 1] += 1\n",
    "    n_samples = M_empirical.sum()\n",
    "    M_empirical = M_empirical.T / np.maximum(M_empirical.sum(axis=1), 1)\n",
    "\n",
    "    errors_nw.append(np.abs(M_theory - M_empirical).max())\n",
    "    x_axis_nw.append(n_samples)\n",
    "\n",
    "plt.plot(x_axis_nw, errors_nw, '.-')\n",
    "plt.plot(x_axis, errors, '--')"
   ]
  },
  {
   "cell_type": "markdown",
   "metadata": {},
   "source": [
    "Theoretical transition probabilities"
   ]
  },
  {
   "cell_type": "code",
   "execution_count": 74,
   "metadata": {},
   "outputs": [],
   "source": []
  },
  {
   "cell_type": "code",
   "execution_count": 77,
   "metadata": {},
   "outputs": [],
   "source": []
  },
  {
   "cell_type": "code",
   "execution_count": 76,
   "metadata": {},
   "outputs": [
    {
     "ename": "NameError",
     "evalue": "name 'M_empirical' is not defined",
     "output_type": "error",
     "traceback": [
      "\u001b[0;31m---------------------------------------------------------------------------\u001b[0m",
      "\u001b[0;31mNameError\u001b[0m                                 Traceback (most recent call last)",
      "\u001b[0;32m<ipython-input-76-75a129ad33e2>\u001b[0m in \u001b[0;36m<module>\u001b[0;34m()\u001b[0m\n\u001b[0;32m----> 1\u001b[0;31m \u001b[0mplt\u001b[0m\u001b[0;34m.\u001b[0m\u001b[0mimshow\u001b[0m\u001b[0;34m(\u001b[0m\u001b[0mnp\u001b[0m\u001b[0;34m.\u001b[0m\u001b[0mabs\u001b[0m\u001b[0;34m(\u001b[0m\u001b[0mM_theory\u001b[0m \u001b[0;34m-\u001b[0m \u001b[0mM_empirical\u001b[0m\u001b[0;34m)\u001b[0m\u001b[0;34m)\u001b[0m\u001b[0;34m\u001b[0m\u001b[0m\n\u001b[0m\u001b[1;32m      2\u001b[0m \u001b[0mplt\u001b[0m\u001b[0;34m.\u001b[0m\u001b[0mcolorbar\u001b[0m\u001b[0;34m(\u001b[0m\u001b[0;34m)\u001b[0m\u001b[0;34m\u001b[0m\u001b[0m\n",
      "\u001b[0;31mNameError\u001b[0m: name 'M_empirical' is not defined"
     ]
    }
   ],
   "source": [
    "plt.imshow(np.abs(M_theory - M_empirical))\n",
    "plt.colorbar()"
   ]
  },
  {
   "cell_type": "raw",
   "metadata": {},
   "source": [
    "Error metric"
   ]
  },
  {
   "cell_type": "code",
   "execution_count": 47,
   "metadata": {},
   "outputs": [
    {
     "data": {
      "text/plain": [
       "0.013974096796182667"
      ]
     },
     "execution_count": 47,
     "metadata": {},
     "output_type": "execute_result"
    }
   ],
   "source": [
    "error = np.abs(M_theory - M_empirical).max()\n",
    "#error = np.linalg.norm(M_theory - M_empirical)\n",
    "error"
   ]
  },
  {
   "cell_type": "markdown",
   "metadata": {},
   "source": [
    "Train word2vec embeddings using gensim"
   ]
  },
  {
   "cell_type": "code",
   "execution_count": 239,
   "metadata": {},
   "outputs": [],
   "source": [
    "model = Word2Vec(random_walks_str, sg=1, size=20, window=5, sample=0, min_count=0, \n",
    "                 workers=4, seed=1321, iter=10, compute_loss=True)"
   ]
  },
  {
   "cell_type": "code",
   "execution_count": 240,
   "metadata": {},
   "outputs": [
    {
     "data": {
      "text/plain": [
       "53827.1953125"
      ]
     },
     "execution_count": 240,
     "metadata": {},
     "output_type": "execute_result"
    }
   ],
   "source": [
    "model.get_latest_training_loss()"
   ]
  },
  {
   "cell_type": "markdown",
   "metadata": {},
   "source": [
    "Save embeddings"
   ]
  },
  {
   "cell_type": "code",
   "execution_count": 228,
   "metadata": {},
   "outputs": [],
   "source": [
    "model.wv.save_word2vec_format(\"embeddings.out\")"
   ]
  },
  {
   "cell_type": "markdown",
   "metadata": {},
   "source": [
    "Extract embeddings as matrix of size `n_nodes` × `d`"
   ]
  },
  {
   "cell_type": "code",
   "execution_count": 241,
   "metadata": {},
   "outputs": [],
   "source": [
    "V_w2v = model.wv.syn0\n",
    "n_nodes, d_emb = V_w2v.shape"
   ]
  },
  {
   "cell_type": "markdown",
   "metadata": {},
   "source": [
    "Node labels:"
   ]
  },
  {
   "cell_type": "code",
   "execution_count": 242,
   "metadata": {},
   "outputs": [],
   "source": [
    "node_labels = np.zeros(n_nodes)\n",
    "node_labels[:10] = 1"
   ]
  },
  {
   "cell_type": "markdown",
   "metadata": {},
   "source": [
    "**Classification using single train/test split**"
   ]
  },
  {
   "cell_type": "code",
   "execution_count": 243,
   "metadata": {},
   "outputs": [
    {
     "name": "stdout",
     "output_type": "stream",
     "text": [
      "Train acc: 0.85\n",
      "Test acc: 0.642857142857\n",
      "Train f1: 0.85\n",
      "Test f1: 0.642857142857\n"
     ]
    }
   ],
   "source": [
    "# Split using sklearn ShuffleSplit\n",
    "ss = model_selection.ShuffleSplit(n_splits=1,\n",
    "                                  train_size=0.6,\n",
    "                                  test_size=0.4)\n",
    "train_index, test_index = next(ss.split(V_w2v))\n",
    "\n",
    "train_data = V_w2v[train_index]\n",
    "test_data = V_w2v[test_index]\n",
    "train_labels = node_labels[train_index]\n",
    "test_labels  = node_labels[test_index]\n",
    "\n",
    "# Classifier choice\n",
    "#classifier = linear_model.LogisticRegression(C=10)\n",
    "classifier = svm.SVC(C=1)\n",
    "\n",
    "clf = make_pipeline(preprocessing.StandardScaler(), classifier)\n",
    "clf.fit(train_data, train_labels)\n",
    "\n",
    "train_pred = clf.predict(train_data)\n",
    "test_pred = clf.predict(test_data)\n",
    "\n",
    "print(\"Train acc:\", clf.score(train_data, train_labels))\n",
    "print(\"Test acc:\", clf.score(test_data, test_labels))\n",
    "print(\"Train f1:\", f1_score(train_labels, train_pred, average='micro'))\n",
    "print(\"Test f1:\", f1_score(test_labels, test_pred, average='micro'))"
   ]
  },
  {
   "cell_type": "markdown",
   "metadata": {},
   "source": [
    "**K-fold cross validation**"
   ]
  },
  {
   "cell_type": "code",
   "execution_count": 244,
   "metadata": {},
   "outputs": [
    {
     "name": "stdout",
     "output_type": "stream",
     "text": [
      "Train acc=0.800000,  Test acc=0.666667,  Train f1=0.800000,  Test f1=0.666667\n",
      "Train acc=0.880000,  Test acc=0.666667,  Train f1=0.880000,  Test f1=0.666667\n",
      "Train acc=0.769231,  Test acc=0.750000,  Train f1=0.769231,  Test f1=0.750000\n",
      "Train acc=0.807692,  Test acc=0.750000,  Train f1=0.807692,  Test f1=0.750000\n",
      "Average scores:\n",
      "Avg test acc=0.708333 [±0.041667],  Avg test f1=0.708333 [±0.041667]\n"
     ]
    }
   ],
   "source": [
    "kf = model_selection.KFold(n_splits=4, shuffle=True)\n",
    "\n",
    "acc_test_scores = []\n",
    "f1_test_scores = []\n",
    "for train_index, test_index in kf.split(V_w2v):\n",
    "    train_data = V_w2v[train_index]\n",
    "    test_data = V_w2v[test_index]\n",
    "    train_labels = node_labels[train_index]\n",
    "    test_labels  = node_labels[test_index]\n",
    "    \n",
    "    # Classifier choice\n",
    "    #classifier = linear_model.LogisticRegression(C=10)\n",
    "    classifier = svm.SVC(C=1)\n",
    "\n",
    "    clf = make_pipeline(preprocessing.StandardScaler(), classifier)\n",
    "    clf.fit(train_data, train_labels)\n",
    "\n",
    "    train_pred = clf.predict(train_data)\n",
    "    test_pred = clf.predict(test_data)\n",
    "\n",
    "    acc_train = clf.score(train_data, train_labels)\n",
    "    acc_test = clf.score(test_data, test_labels)\n",
    "    f1_train = f1_score(train_labels, train_pred, average='micro')\n",
    "    f1_test = f1_score(test_labels, test_pred, average='micro')\n",
    "    \n",
    "    acc_test_scores.append(acc_test)\n",
    "    f1_test_scores.append(f1_test)\n",
    "    \n",
    "    print(\"Train acc={:4f},  Test acc={:4f},  Train f1={:4f},  Test f1={:4f}\".format(\n",
    "        acc_train, acc_test, f1_train, f1_test\n",
    "    ))\n",
    "    \n",
    "print(\"Average scores:\")\n",
    "print(\"Avg test acc={:4f} [±{:2f}],  Avg test f1={:4f} [±{:2f}]\".format(\n",
    "    np.mean(acc_test_scores), np.std(acc_test_scores), \n",
    "    np.mean(f1_test_scores), np.std(f1_test_scores)\n",
    "))"
   ]
  },
  {
   "cell_type": "code",
   "execution_count": null,
   "metadata": {},
   "outputs": [],
   "source": []
  }
 ],
 "metadata": {
  "kernelspec": {
   "display_name": "Python 3",
   "language": "python",
   "name": "python3"
  },
  "language_info": {
   "codemirror_mode": {
    "name": "ipython",
    "version": 3
   },
   "file_extension": ".py",
   "mimetype": "text/x-python",
   "name": "python",
   "nbconvert_exporter": "python",
   "pygments_lexer": "ipython3",
   "version": "3.6.4"
  }
 },
 "nbformat": 4,
 "nbformat_minor": 2
}
