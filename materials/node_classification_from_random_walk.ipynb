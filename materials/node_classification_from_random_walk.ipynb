{
 "cells": [
  {
   "cell_type": "code",
   "execution_count": 225,
   "metadata": {},
   "outputs": [],
   "source": [
    "import os\n",
    "import numpy as np\n",
    "import matplotlib.pyplot as plt\n",
    "from gensim.models.word2vec import PathLineSentences, LineSentence, Word2Vec\n",
    "from pathlib import Path\n",
    "import networkx as nx\n",
    "from sklearn import model_selection, linear_model, preprocessing, svm\n",
    "from sklearn.metrics import accuracy_score, f1_score\n",
    "from sklearn.pipeline import make_pipeline\n",
    "%matplotlib inline\n"
   ]
  },
  {
   "cell_type": "markdown",
   "metadata": {},
   "source": [
    "**Load random walks from output files**\n",
    "\n",
    "The word2vec model requires sentences of strings, so we convert node number to a string."
   ]
  },
  {
   "cell_type": "code",
   "execution_count": 226,
   "metadata": {},
   "outputs": [],
   "source": [
    "rw_location = Path(\"/Users/Ganymedian/Desktop/dynamic-rw/karate/ar\")\n",
    "methods = [\"m1\", \"m2\", \"m3\", \"m4\"]\n",
    "# methods = [\"m1\", \"m2\", \"m4\"]\n",
    "nmethods = len(methods)\n",
    "vertices = []\n",
    "for i in range(34):\n",
    "    vertices.append(\"v\"+str(i+1))\n",
    "# v = vertices[0]\n",
    "v=\"v30\"\n",
    "\n",
    "num_runs = 5"
   ]
  },
  {
   "cell_type": "code",
   "execution_count": 227,
   "metadata": {},
   "outputs": [],
   "source": [
    "# G = nx.karate_club_graph()\n",
    "G = nx.read_edgelist(\"/Users/Ganymedian/Desktop/Projects/stellar-random-walk-research/randomwalk/src/test/resources/karate.txt\", nodetype=int)\n",
    "n_nodes = G.number_of_nodes()\n",
    "A = nx.adjacency_matrix(G,nodelist=sorted(G.nodes())).toarray()\n",
    "d_w = A.sum(axis=1)\n",
    "M_theory = A.T / d_w\n",
    "# print(M_theory)\n",
    "# print(M_theory.T)"
   ]
  },
  {
   "cell_type": "code",
   "execution_count": 228,
   "metadata": {},
   "outputs": [
    {
     "name": "stdout",
     "output_type": "stream",
     "text": [
      "m1\n",
      "(17000, 101)\n",
      "m2-v30\n",
      "(17000, 101)\n",
      "m3-v30\n",
      "(17000, 101)\n",
      "m4-v30\n",
      "(17000, 101)\n"
     ]
    }
   ],
   "source": [
    "random_walks_int = []\n",
    "\n",
    "for m in methods:\n",
    "    fname = m\n",
    "    if m != \"m1\":\n",
    "        fname = fname+\"-\"+v\n",
    "    print(fname)\n",
    "    rws = np.concatenate([\n",
    "        np.loadtxt(f.open(), delimiter='\\t', dtype=int)\n",
    "        for f in rw_location.glob(fname+\"-*/part-00000\")\n",
    "        if f.stat().st_size > 0\n",
    "    ])\n",
    "    print(rws.shape)\n",
    "    random_walks_int.append(rws)\n",
    "#     random_walks_str = [list(map(str, v)) for v in random_walks_int]"
   ]
  },
  {
   "cell_type": "code",
   "execution_count": 229,
   "metadata": {},
   "outputs": [
    {
     "name": "stdout",
     "output_type": "stream",
     "text": [
      "5\n",
      "(3400, 101)\n",
      "(3400, 101)\n",
      "(3400, 101)\n",
      "(3400, 101)\n"
     ]
    }
   ],
   "source": [
    "all_runs = []\n",
    "print(num_runs)\n",
    "for i in range(nmethods):\n",
    "    ars = np.vsplit(random_walks_int[i], 5)\n",
    "    print(ars[0].shape)\n",
    "    all_runs.append(ars)\n"
   ]
  },
  {
   "cell_type": "markdown",
   "metadata": {},
   "source": [
    "Calculate empirical transition probabilities"
   ]
  },
  {
   "cell_type": "code",
   "execution_count": 230,
   "metadata": {},
   "outputs": [
    {
     "name": "stdout",
     "output_type": "stream",
     "text": [
      "[0.07949276 0.05352358 0.04227064 0.04172277 0.03160361 0.02856504\n",
      " 0.02445591 0.0245526  0.02321093 0.02153933 0.02176144 0.01991317\n",
      " 0.018686   0.01785786 0.01647491 0.01578214 0.015072   0.01517396\n",
      " 0.01491927 0.01536023]\n",
      "[0.0798936  0.05754429 0.04675365 0.03901539 0.03080925 0.02874999\n",
      " 0.02756352 0.02441537 0.02325192 0.02500242 0.02303651 0.02262842\n",
      " 0.02031275 0.01984026 0.01859973 0.01802087 0.01789383 0.01804711\n",
      " 0.01789501 0.01813056]\n",
      "[0.06464576 0.0384594  0.03518598 0.03023203 0.02767089 0.02446615\n",
      " 0.02358069 0.02252429 0.02214199 0.0231166  0.02195492 0.02063325\n",
      " 0.02084814 0.02027724 0.01943479 0.01886997 0.01952715 0.01860281\n",
      " 0.01842284 0.01810952]\n",
      "[0.06681894 0.0475774  0.04187775 0.03360756 0.03012432 0.02688174\n",
      " 0.02299247 0.02175542 0.01932337 0.02039258 0.0198722  0.02142776\n",
      " 0.02120173 0.01992042 0.01952343 0.01927482 0.01844065 0.01798955\n",
      " 0.01603158 0.01621372]\n"
     ]
    },
    {
     "data": {
      "text/plain": [
       "<function matplotlib.pyplot.show>"
      ]
     },
     "execution_count": 230,
     "metadata": {},
     "output_type": "execute_result"
    },
    {
     "data": {
      "image/png": "[encoded data removed]",
      "text/plain": [
       "<matplotlib.figure.Figure at 0x107ebca58>"
      ]
     },
     "metadata": {},
     "output_type": "display_data"
    }
   ],
   "source": [
    "formats=['.-', '+-', '*-','x-']\n",
    "for mm in range(nmethods):\n",
    "    all_errors = []\n",
    "    for rr in range(num_runs):\n",
    "        errors = []\n",
    "        x_axis = []\n",
    "        for ii in range(20):\n",
    "            walk_length = 5*(ii + 1)\n",
    "\n",
    "            M_empirical = np.zeros((n_nodes, n_nodes))\n",
    "            for walk in all_runs[mm][rr]:\n",
    "                for kk in range(walk_length - 1):\n",
    "                    M_empirical[walk[kk] - 1, walk[kk + 1] - 1] += 1\n",
    "\n",
    "            n_samples = M_empirical.sum()\n",
    "            M_empirical = M_empirical.T / np.maximum(M_empirical.sum(axis=1), 1)\n",
    "\n",
    "            errors.append(np.abs(M_theory - M_empirical).max())\n",
    "            x_axis.append(n_samples)\n",
    "        all_errors.append(errors)\n",
    "    n = len(all_errors)\n",
    "    means = np.mean(all_errors,axis=0)\n",
    "    print(means)\n",
    "    stdv = np.std(all_errors, axis=0)\n",
    "    stderr = stdv/np.sqrt(n)\n",
    "    plt.errorbar(x_axis, means, yerr=stderr, fmt=formats[mm], label=methods[mm])\n",
    "    plt.legend()\n",
    "plt.show\n",
    "# plt.plot(x_axis, all_errors, '.-')"
   ]
  },
  {
   "cell_type": "code",
   "execution_count": 117,
   "metadata": {},
   "outputs": [
    {
     "name": "stdout",
     "output_type": "stream",
     "text": [
      "0.9395079594790159\n",
      "0.028741502372561713\n",
      "3.3536124073059748\n"
     ]
    },
    {
     "data": {
      "image/png": "[encoded data removed]",
      "text/plain": [
       "<matplotlib.figure.Figure at 0x107eaf438>"
      ]
     },
     "metadata": {},
     "output_type": "display_data"
    }
   ],
   "source": [
    "plt.imshow(np.abs(M_theory - M_empirical))\n",
    "plt.colorbar()\n",
    "error = np.abs(M_theory - M_empirical).max()\n",
    "print(error)\n",
    "error = np.abs(M_theory - M_empirical).mean()\n",
    "print(error)\n",
    "error = np.linalg.norm(M_theory - M_empirical)\n",
    "print(error)"
   ]
  },
  {
   "cell_type": "code",
   "execution_count": null,
   "metadata": {},
   "outputs": [],
   "source": [
    "errors_nw = []\n",
    "x_axis_nw = []\n",
    "walk_length = random_walks_int.shape[1]\n",
    "for ii in range(20):\n",
    "    #walk_length = 5*(ii + 1)\n",
    "    #walk_lengths.append(walk_length)\n",
    "    \n",
    "    num_walks = 5*(ii + 1)\n",
    "\n",
    "    reduced_walks = []\n",
    "    for kk in range(1, n_nodes+1):\n",
    "        reduced_walks.append(\n",
    "            random_walks_int[random_walks_int[:, 0] == kk][:num_walks]\n",
    "        )\n",
    "    reduced_walks = np.concatenate(reduced_walks)\n",
    "    \n",
    "    M_empirical = np.zeros((n_nodes, n_nodes))\n",
    "    for walk in reduced_walks:\n",
    "        for kk in range(walk_length - 1):\n",
    "            M_empirical[walk[kk] - 1, walk[kk + 1] - 1] += 1\n",
    "    n_samples = M_empirical.sum()\n",
    "    M_empirical = M_empirical.T / np.maximum(M_empirical.sum(axis=1), 1)\n",
    "\n",
    "    errors_nw.append(np.abs(M_theory - M_empirical).max())\n",
    "    x_axis_nw.append(n_samples)\n",
    "\n",
    "plt.plot(x_axis_nw, errors_nw, '.-')\n",
    "plt.plot(x_axis, errors, '--')"
   ]
  },
  {
   "cell_type": "code",
   "execution_count": null,
   "metadata": {},
   "outputs": [],
   "source": [
    "import sys\n",
    "sys.path.append(\"/Users/doc019/Code/stellar-evaluation-plugins\")\n",
    "from utils.epgm import EPGM"
   ]
  },
  {
   "cell_type": "markdown",
   "metadata": {},
   "source": [
    "Theoretical transition probabilities"
   ]
  },
  {
   "cell_type": "raw",
   "metadata": {},
   "source": [
    "Error metric"
   ]
  },
  {
   "cell_type": "code",
   "execution_count": null,
   "metadata": {},
   "outputs": [],
   "source": [
    "error = np.abs(M_theory - M_empirical).max()\n",
    "#error = np.linalg.norm(M_theory - M_empirical)\n",
    "error"
   ]
  },
  {
   "cell_type": "markdown",
   "metadata": {},
   "source": [
    "Train word2vec embeddings using gensim"
   ]
  },
  {
   "cell_type": "code",
   "execution_count": null,
   "metadata": {},
   "outputs": [],
   "source": [
    "model = Word2Vec(random_walks_str, sg=1, size=20, window=5, sample=0, min_count=0, \n",
    "                 workers=4, seed=1321, iter=10, compute_loss=True)"
   ]
  },
  {
   "cell_type": "code",
   "execution_count": null,
   "metadata": {},
   "outputs": [],
   "source": [
    "model.get_latest_training_loss()"
   ]
  },
  {
   "cell_type": "markdown",
   "metadata": {},
   "source": [
    "Save embeddings"
   ]
  },
  {
   "cell_type": "code",
   "execution_count": null,
   "metadata": {},
   "outputs": [],
   "source": [
    "model.wv.save_word2vec_format(\"embeddings.out\")"
   ]
  },
  {
   "cell_type": "markdown",
   "metadata": {},
   "source": [
    "Extract embeddings as matrix of size `n_nodes` × `d`"
   ]
  },
  {
   "cell_type": "code",
   "execution_count": null,
   "metadata": {},
   "outputs": [],
   "source": [
    "V_w2v = model.wv.syn0\n",
    "n_nodes, d_emb = V_w2v.shape"
   ]
  },
  {
   "cell_type": "markdown",
   "metadata": {},
   "source": [
    "Node labels:"
   ]
  },
  {
   "cell_type": "code",
   "execution_count": null,
   "metadata": {},
   "outputs": [],
   "source": [
    "node_labels = np.zeros(n_nodes)\n",
    "node_labels[:10] = 1"
   ]
  },
  {
   "cell_type": "markdown",
   "metadata": {},
   "source": [
    "**Classification using single train/test split**"
   ]
  },
  {
   "cell_type": "code",
   "execution_count": null,
   "metadata": {},
   "outputs": [],
   "source": [
    "# Split using sklearn ShuffleSplit\n",
    "ss = model_selection.ShuffleSplit(n_splits=1,\n",
    "                                  train_size=0.6,\n",
    "                                  test_size=0.4)\n",
    "train_index, test_index = next(ss.split(V_w2v))\n",
    "\n",
    "train_data = V_w2v[train_index]\n",
    "test_data = V_w2v[test_index]\n",
    "train_labels = node_labels[train_index]\n",
    "test_labels  = node_labels[test_index]\n",
    "\n",
    "# Classifier choice\n",
    "#classifier = linear_model.LogisticRegression(C=10)\n",
    "classifier = svm.SVC(C=1)\n",
    "\n",
    "clf = make_pipeline(preprocessing.StandardScaler(), classifier)\n",
    "clf.fit(train_data, train_labels)\n",
    "\n",
    "train_pred = clf.predict(train_data)\n",
    "test_pred = clf.predict(test_data)\n",
    "\n",
    "print(\"Train acc:\", clf.score(train_data, train_labels))\n",
    "print(\"Test acc:\", clf.score(test_data, test_labels))\n",
    "print(\"Train f1:\", f1_score(train_labels, train_pred, average='micro'))\n",
    "print(\"Test f1:\", f1_score(test_labels, test_pred, average='micro'))"
   ]
  },
  {
   "cell_type": "markdown",
   "metadata": {},
   "source": [
    "**K-fold cross validation**"
   ]
  },
  {
   "cell_type": "code",
   "execution_count": null,
   "metadata": {},
   "outputs": [],
   "source": [
    "kf = model_selection.KFold(n_splits=4, shuffle=True)\n",
    "\n",
    "acc_test_scores = []\n",
    "f1_test_scores = []\n",
    "for train_index, test_index in kf.split(V_w2v):\n",
    "    train_data = V_w2v[train_index]\n",
    "    test_data = V_w2v[test_index]\n",
    "    train_labels = node_labels[train_index]\n",
    "    test_labels  = node_labels[test_index]\n",
    "    \n",
    "    # Classifier choice\n",
    "    #classifier = linear_model.LogisticRegression(C=10)\n",
    "    classifier = svm.SVC(C=1)\n",
    "\n",
    "    clf = make_pipeline(preprocessing.StandardScaler(), classifier)\n",
    "    clf.fit(train_data, train_labels)\n",
    "\n",
    "    train_pred = clf.predict(train_data)\n",
    "    test_pred = clf.predict(test_data)\n",
    "\n",
    "    acc_train = clf.score(train_data, train_labels)\n",
    "    acc_test = clf.score(test_data, test_labels)\n",
    "    f1_train = f1_score(train_labels, train_pred, average='micro')\n",
    "    f1_test = f1_score(test_labels, test_pred, average='micro')\n",
    "    \n",
    "    acc_test_scores.append(acc_test)\n",
    "    f1_test_scores.append(f1_test)\n",
    "    \n",
    "    print(\"Train acc={:4f},  Test acc={:4f},  Train f1={:4f},  Test f1={:4f}\".format(\n",
    "        acc_train, acc_test, f1_train, f1_test\n",
    "    ))\n",
    "    \n",
    "print(\"Average scores:\")\n",
    "print(\"Avg test acc={:4f} [±{:2f}],  Avg test f1={:4f} [±{:2f}]\".format(\n",
    "    np.mean(acc_test_scores), np.std(acc_test_scores), \n",
    "    np.mean(f1_test_scores), np.std(f1_test_scores)\n",
    "))"
   ]
  },
  {
   "cell_type": "code",
   "execution_count": null,
   "metadata": {},
   "outputs": [],
   "source": []
  }
 ],
 "metadata": {
  "kernelspec": {
   "display_name": "Python 3",
   "language": "python",
   "name": "python3"
  },
  "language_info": {
   "codemirror_mode": {
    "name": "ipython",
    "version": 3
   },
   "file_extension": ".py",
   "mimetype": "text/x-python",
   "name": "python",
   "nbconvert_exporter": "python",
   "pygments_lexer": "ipython3",
   "version": "3.6.4"
  }
 },
 "nbformat": 4,
 "nbformat_minor": 2
}
