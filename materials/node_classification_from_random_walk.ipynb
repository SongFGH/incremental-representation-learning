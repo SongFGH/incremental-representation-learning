{
 "cells": [
  {
   "cell_type": "code",
   "execution_count": 442,
   "metadata": {},
   "outputs": [],
   "source": [
    "import os\n",
    "import numpy as np\n",
    "import matplotlib.pyplot as plt\n",
    "from gensim.models.word2vec import PathLineSentences, LineSentence, Word2Vec\n",
    "from pathlib import Path\n",
    "import networkx as nx\n",
    "from sklearn import model_selection, linear_model, preprocessing, svm\n",
    "from sklearn.metrics import accuracy_score, f1_score\n",
    "from sklearn.pipeline import make_pipeline\n",
    "%matplotlib inline\n"
   ]
  },
  {
   "cell_type": "markdown",
   "metadata": {},
   "source": [
    "**Load random walks from output files**\n",
    "\n",
    "The word2vec model requires sentences of strings, so we convert node number to a string."
   ]
  },
  {
   "cell_type": "code",
   "execution_count": 390,
   "metadata": {},
   "outputs": [],
   "source": [
    "rw_location = Path(\"/Users/Ganymedian/Desktop/dynamic-rw/karate-nw/ar\")\n",
    "methods = [\"m1\", \"m2\", \"m3\", \"m4\"]\n",
    "# methods = [\"m1\", \"m2\", \"m3\"]\n",
    "nmethods = len(methods)\n",
    "vertices = []\n",
    "for i in range(34):\n",
    "    vertices.append(\"v\"+str(i+1))\n",
    "# v = vertices[0]\n",
    "# v=\"v30\"\n",
    "\n",
    "num_runs = 5"
   ]
  },
  {
   "cell_type": "code",
   "execution_count": 445,
   "metadata": {},
   "outputs": [
    {
     "name": "stdout",
     "output_type": "stream",
     "text": [
      "1045\n"
     ]
    }
   ],
   "source": [
    "# G = nx.karate_club_graph()\n",
    "\n",
    "# G = nx.read_edgelist(\"/Users/Ganymedian/Desktop/Projects/stellar-random-walk-research/randomwalk/src/test/resources/karate.txt\", nodetype=int)\n",
    "G = nx.read_edgelist(\"/Users/Ganymedian/Desktop/dynamic-rw/facebook_combined.txt\", nodetype=int)\n",
    "n_nodes = G.number_of_nodes()\n",
    "A = nx.adjacency_matrix(G,nodelist=sorted(G.nodes())).toarray()\n",
    "d_w = A.sum(axis=1)\n",
    "M_theory = A.T / d_w\n",
    "# print(M_theory)\n",
    "# print(M_theory.T)"
   ]
  },
  {
   "cell_type": "code",
   "execution_count": 309,
   "metadata": {},
   "outputs": [],
   "source": [
    "def read_walks(v):\n",
    "    random_walks_int = []\n",
    "\n",
    "    for m in methods:\n",
    "        fname = m\n",
    "        if m != \"m1\":\n",
    "            fname = fname+\"-\"+v\n",
    "#         print(fname)\n",
    "        rws = np.concatenate([\n",
    "            np.loadtxt(f.open(), delimiter='\\t', dtype=int)\n",
    "            for f in rw_location.glob(fname+\"-*/part-00000\")\n",
    "            if f.stat().st_size > 0\n",
    "        ])\n",
    "#         print(rws.shape)\n",
    "        random_walks_int.append(rws)\n",
    "    return random_walks_int\n",
    "    #     random_walks_str = [list(map(str, v)) for v in random_walks_int]"
   ]
  },
  {
   "cell_type": "code",
   "execution_count": 310,
   "metadata": {},
   "outputs": [],
   "source": [
    "def extract_runs(random_walks_int):\n",
    "    all_runs = []\n",
    "#     print(num_runs)\n",
    "    for i in range(nmethods):\n",
    "        ars = np.vsplit(random_walks_int[i], 5)\n",
    "        print(ars[0].shape)\n",
    "        all_runs.append(ars)\n",
    "    return all_runs\n"
   ]
  },
  {
   "cell_type": "markdown",
   "metadata": {},
   "source": [
    "Calculate empirical transition probabilities"
   ]
  },
  {
   "cell_type": "code",
   "execution_count": 311,
   "metadata": {},
   "outputs": [
    {
     "name": "stdout",
     "output_type": "stream",
     "text": [
      "(3400, 21)\n",
      "(3400, 21)\n",
      "(3400, 21)\n",
      "(3400, 21)\n"
     ]
    }
   ],
   "source": [
    "all_runs = extract_runs(read_walks(v))"
   ]
  },
  {
   "cell_type": "code",
   "execution_count": 276,
   "metadata": {},
   "outputs": [
    {
     "name": "stdout",
     "output_type": "stream",
     "text": [
      "m1\n",
      "(17000, 21)\n",
      "m2-v30\n",
      "(17000, 21)\n",
      "m3-v30\n",
      "(17000, 21)\n",
      "m4-v30\n",
      "(17000, 21)\n",
      "5\n",
      "(3400, 21)\n",
      "(3400, 21)\n",
      "(3400, 21)\n",
      "(3400, 21)\n",
      "[0.00201331 0.00137444 0.00106668 0.00093238]\n",
      "[0.0020973  0.00135032 0.00109253 0.0009408 ]\n",
      "[0.00208638 0.00132392 0.001053   0.00086474]\n",
      "[0.00238604 0.00171747 0.0014632  0.00131115]\n"
     ]
    },
    {
     "data": {
      "text/plain": [
       "<function matplotlib.pyplot.show>"
      ]
     },
     "execution_count": 276,
     "metadata": {},
     "output_type": "execute_result"
    },
    {
     "data": {
      "image/png": "[encoded data removed]",
      "text/plain": [
       "<matplotlib.figure.Figure at 0x108450ef0>"
      ]
     },
     "metadata": {},
     "output_type": "display_data"
    }
   ],
   "source": [
    "wLength = 6\n",
    "bucket = 5\n",
    "formats=['.-', '^-', '*-','x-']\n",
    "for mm in range(nmethods):\n",
    "    all_errors = []\n",
    "    for rr in range(num_runs):\n",
    "        errors = []\n",
    "        x_axis = []\n",
    "        for ii in range(wLength//bucket):\n",
    "            walk_length = 5*(ii + 1)\n",
    "\n",
    "            M_empirical = np.zeros((n_nodes, n_nodes))\n",
    "            for walk in all_runs[mm][rr]:\n",
    "                for kk in range(walk_length - 1):\n",
    "                    M_empirical[walk[kk] - 1, walk[kk + 1] - 1] += 1\n",
    "\n",
    "            n_samples = M_empirical.sum()\n",
    "            M_empirical = M_empirical.T / np.maximum(M_empirical.sum(axis=1), 1)\n",
    "\n",
    "            errors.append(np.abs(M_theory - M_empirical).mean())\n",
    "            x_axis.append(n_samples)\n",
    "        all_errors.append(errors)\n",
    "    n = len(all_errors)\n",
    "    means = np.mean(all_errors,axis=0)\n",
    "#     print(means)\n",
    "    stdv = np.std(all_errors, axis=0)\n",
    "    stderr = stdv/np.sqrt(n)\n",
    "    plt.errorbar(x_axis, means, yerr=stderr, fmt=formats[mm], label=methods[mm], ms=15)\n",
    "    plt.legend()\n",
    "plt.show\n",
    "# plt.plot(x_axis, all_errors, '.-')"
   ]
  },
  {
   "cell_type": "markdown",
   "metadata": {},
   "source": [
    "Plot for adding different vertices"
   ]
  },
  {
   "cell_type": "code",
   "execution_count": 369,
   "metadata": {},
   "outputs": [],
   "source": [
    "def read_walks(m, v):\n",
    "    fname = m\n",
    "    if m != \"m1\":\n",
    "        fname = fname+\"-\"+v\n",
    "#     print(fname)\n",
    "    rws = np.concatenate([\n",
    "        np.loadtxt(f.open(), delimiter='\\t', dtype=int)\n",
    "        for f in rw_location.glob(fname+\"-*/part-00000\")\n",
    "        if f.stat().st_size > 0\n",
    "    ])\n",
    "#     print(rws.shape)\n",
    "    ars = np.vsplit(rws, 5)\n",
    "#     print(ars[0].shape)\n",
    "    return ars\n",
    "    #     random_walks_str = [list(map(str, v)) for v in random_walks_int]"
   ]
  },
  {
   "cell_type": "code",
   "execution_count": 372,
   "metadata": {},
   "outputs": [
    {
     "name": "stdout",
     "output_type": "stream",
     "text": [
      "reading vertex v1\n",
      "reading vertex v1\n",
      "reading vertex v2\n",
      "reading vertex v3\n",
      "reading vertex v4\n",
      "reading vertex v5\n",
      "reading vertex v6\n",
      "reading vertex v7\n",
      "reading vertex v8\n",
      "reading vertex v9\n",
      "reading vertex v10\n",
      "reading vertex v11\n",
      "reading vertex v12\n",
      "reading vertex v13\n",
      "reading vertex v14\n",
      "reading vertex v15\n",
      "reading vertex v16\n",
      "reading vertex v17\n",
      "reading vertex v18\n",
      "reading vertex v19\n",
      "reading vertex v20\n",
      "reading vertex v21\n",
      "reading vertex v22\n",
      "reading vertex v23\n",
      "reading vertex v24\n",
      "reading vertex v25\n",
      "reading vertex v26\n",
      "reading vertex v27\n",
      "reading vertex v28\n",
      "reading vertex v29\n",
      "reading vertex v30\n",
      "reading vertex v31\n",
      "reading vertex v32\n",
      "reading vertex v33\n",
      "reading vertex v34\n",
      "reading vertex v1\n",
      "reading vertex v2\n",
      "reading vertex v3\n",
      "reading vertex v4\n",
      "reading vertex v5\n",
      "reading vertex v6\n",
      "reading vertex v7\n",
      "reading vertex v8\n",
      "reading vertex v9\n",
      "reading vertex v10\n",
      "reading vertex v11\n",
      "reading vertex v12\n",
      "reading vertex v13\n",
      "reading vertex v14\n",
      "reading vertex v15\n",
      "reading vertex v16\n",
      "reading vertex v17\n",
      "reading vertex v18\n",
      "reading vertex v19\n",
      "reading vertex v20\n",
      "reading vertex v21\n",
      "reading vertex v22\n",
      "reading vertex v23\n",
      "reading vertex v24\n",
      "reading vertex v25\n",
      "reading vertex v26\n",
      "reading vertex v27\n",
      "reading vertex v28\n",
      "reading vertex v29\n",
      "reading vertex v30\n",
      "reading vertex v31\n",
      "reading vertex v32\n",
      "reading vertex v33\n",
      "reading vertex v34\n",
      "reading vertex v1\n",
      "reading vertex v2\n",
      "reading vertex v3\n",
      "reading vertex v4\n",
      "reading vertex v5\n",
      "reading vertex v6\n",
      "reading vertex v7\n",
      "reading vertex v8\n",
      "reading vertex v9\n",
      "reading vertex v10\n",
      "reading vertex v11\n",
      "reading vertex v12\n",
      "reading vertex v13\n",
      "reading vertex v14\n",
      "reading vertex v15\n",
      "reading vertex v16\n",
      "reading vertex v17\n",
      "reading vertex v18\n",
      "reading vertex v19\n",
      "reading vertex v20\n",
      "reading vertex v21\n",
      "reading vertex v22\n",
      "reading vertex v23\n",
      "reading vertex v24\n",
      "reading vertex v25\n",
      "reading vertex v26\n",
      "reading vertex v27\n",
      "reading vertex v28\n",
      "reading vertex v29\n",
      "reading vertex v30\n",
      "reading vertex v31\n",
      "reading vertex v32\n",
      "reading vertex v33\n",
      "reading vertex v34\n"
     ]
    },
    {
     "data": {
      "text/plain": [
       "<function matplotlib.pyplot.show>"
      ]
     },
     "execution_count": 372,
     "metadata": {},
     "output_type": "execute_result"
    },
    {
     "data": {
      "image/png": "[encoded data removed]",
      "text/plain": [
       "<matplotlib.figure.Figure at 0x108331c88>"
      ]
     },
     "metadata": {},
     "output_type": "display_data"
    }
   ],
   "source": [
    "wLength = 6\n",
    "formats=['.-', '^-', '*-','x-']\n",
    "walk_length = wLength\n",
    "x_axis = []\n",
    "for vv in range(34):\n",
    "    x_axis.append(vv+1)\n",
    "for mm in range(nmethods):\n",
    "    all_errors = []\n",
    "    for vv in range(34):\n",
    "        v = \"v\"+str(vv+1)\n",
    "        print(\"reading vertex \" + v)\n",
    "        runs = read_walks(methods[mm], v)\n",
    "        errors = []\n",
    "        for rr in range(num_runs):\n",
    "            M_empirical = np.zeros((n_nodes, n_nodes))\n",
    "            for walk in runs[rr]:\n",
    "                for kk in range(walk_length - 1):\n",
    "                    M_empirical[walk[kk] - 1, walk[kk + 1] - 1] += 1\n",
    "\n",
    "            n_samples = M_empirical.sum()\n",
    "            M_empirical = M_empirical.T / np.maximum(M_empirical.sum(axis=1), 1)\n",
    "\n",
    "            errors.append(np.abs(M_theory - M_empirical).max())\n",
    "        if (methods[mm] == \"m1\"):\n",
    "            for vv in range(34):\n",
    "                all_errors.append(errors)\n",
    "            break;\n",
    "        all_errors.append(errors)\n",
    "    n = len(all_errors)\n",
    "#     print(n)\n",
    "    means = np.mean(all_errors,axis=1)\n",
    "#     print(means)\n",
    "    stdv = np.std(all_errors, axis=1)\n",
    "    stderr = stdv/np.sqrt(n)\n",
    "    plt.errorbar(x_axis, means, yerr=stderr, fmt=formats[mm], label=methods[mm], ms=10)\n",
    "    plt.xticks(x_axis, rotation=-90)\n",
    "    plt.legend()\n",
    "\n",
    "fig_size = plt.rcParams[\"figure.figsize\"]\n",
    "fig_size[0] = 6\n",
    "fig_size[1] = 4\n",
    "plt.rcParams[\"figure.figsize\"] = fig_size\n",
    "plt.show\n",
    "# plt.plot(x_axis, all_errors, '.-')"
   ]
  },
  {
   "cell_type": "markdown",
   "metadata": {},
   "source": [
    "Increasing walk length"
   ]
  },
  {
   "cell_type": "code",
   "execution_count": 446,
   "metadata": {},
   "outputs": [],
   "source": [
    "def read_walks(m, v, wl,nw):\n",
    "    fname = m + \"-wl\" + str(wl) + \"-nw\" + str(nw)\n",
    "    if m != \"m1\":\n",
    "        fname = fname+\"-\"+v\n",
    "    print(fname)\n",
    "    rws = np.concatenate([\n",
    "        np.loadtxt(f.open(), delimiter='\\t', dtype=int)\n",
    "        for f in rw_location.glob(fname+\"-*/part-00000\")\n",
    "        if f.stat().st_size > 0\n",
    "    ])\n",
    "#     print(rws.shape)\n",
    "    ars = np.vsplit(rws, num_runs)\n",
    "#     print(ars[0].shape)\n",
    "    return ars\n",
    "    #     random_walks_str = [list(map(str, v)) for v in random_walks_int]"
   ]
  },
  {
   "cell_type": "code",
   "execution_count": 449,
   "metadata": {},
   "outputs": [
    {
     "name": "stdout",
     "output_type": "stream",
     "text": [
      "reading walk length 100\n",
      "m1-wl100-nw50\n",
      "reading walk length 100\n",
      "m2-wl100-nw50-v0\n",
      "reading walk length 100\n",
      "m3-wl100-nw50-v0\n",
      "reading walk length 100\n",
      "m4-wl100-nw50-v0\n"
     ]
    },
    {
     "data": {
      "text/plain": [
       "<function matplotlib.pyplot.show>"
      ]
     },
     "execution_count": 449,
     "metadata": {},
     "output_type": "execute_result"
    },
    {
     "data": {
      "image/png": "[encoded data removed]",
      "text/plain": [
       "<matplotlib.figure.Figure at 0x108266c88>"
      ]
     },
     "metadata": {},
     "output_type": "display_data"
    }
   ],
   "source": [
    "fig_size = plt.rcParams[\"figure.figsize\"]\n",
    "fig_size[0] = 6\n",
    "fig_size[1] = 4\n",
    "plt.rcParams[\"figure.figsize\"] = fig_size\n",
    "num_runs = 1\n",
    "rw_location = Path(\"/Users/Ganymedian/Desktop/dynamic-rw/fb/ar\")\n",
    "methods = [\"m1\", \"m2\", \"m3\", \"m4\"]\n",
    "# methods = [\"m1\", \"m2\", \"m3\"]\n",
    "nmethods = len(methods)\n",
    "num_walk = 50\n",
    "# walk_lengths = [3,5,10,20]\n",
    "walk_lengths = [100]\n",
    "formats=['.-', '^-', '*-','x-']\n",
    "\n",
    "x_axis = walk_lengths\n",
    "v = \"v0\"\n",
    "for mm in range(nmethods):\n",
    "    all_errors = []\n",
    "    for ww in walk_lengths:\n",
    "        print(\"reading walk length \" + str(ww))\n",
    "        runs = read_walks(methods[mm], v, ww, nw)\n",
    "        errors = []\n",
    "        for rr in range(num_runs):\n",
    "            M_empirical = np.zeros((n_nodes, n_nodes))\n",
    "            for walk in runs[rr]:\n",
    "                for kk in range(ww - 1):\n",
    "                    M_empirical[walk[kk] - 1, walk[kk + 1] - 1] += 1\n",
    "\n",
    "            n_samples = M_empirical.sum()\n",
    "            M_empirical = M_empirical.T / np.maximum(M_empirical.sum(axis=1), 1)\n",
    "\n",
    "            errors.append(np.abs(M_theory - M_empirical).max())\n",
    "\n",
    "        all_errors.append(errors)\n",
    "    n = len(all_errors)\n",
    "#     print(n)\n",
    "    means = np.mean(all_errors,axis=1)\n",
    "#     print(means)\n",
    "    stdv = np.std(all_errors, axis=1)\n",
    "    stderr = stdv/np.sqrt(n)\n",
    "    plt.errorbar(x_axis, means, yerr=stderr, fmt=formats[mm], label=methods[mm], ms=10)\n",
    "    plt.xticks(x_axis, rotation=-90)\n",
    "    plt.legend()\n",
    "\n",
    "plt.show\n",
    "# plt.plot(x_axis, all_errors, '.-')"
   ]
  },
  {
   "cell_type": "markdown",
   "metadata": {},
   "source": [
    "Increasing number of walks"
   ]
  },
  {
   "cell_type": "code",
   "execution_count": 401,
   "metadata": {},
   "outputs": [
    {
     "name": "stdout",
     "output_type": "stream",
     "text": [
      "reading number of walks 3\n",
      "m1-wl20-nw3\n",
      "reading number of walks 5\n",
      "m1-wl20-nw5\n",
      "reading number of walks 10\n",
      "m1-wl20-nw10\n",
      "reading number of walks 20\n",
      "m1-wl20-nw20\n",
      "reading number of walks 50\n",
      "m1-wl20-nw50\n",
      "reading number of walks 3\n",
      "m2-wl20-nw3-v1\n",
      "reading number of walks 5\n",
      "m2-wl20-nw5-v1\n",
      "reading number of walks 10\n",
      "m2-wl20-nw10-v1\n",
      "reading number of walks 20\n",
      "m2-wl20-nw20-v1\n",
      "reading number of walks 50\n",
      "m2-wl20-nw50-v1\n",
      "reading number of walks 3\n",
      "m3-wl20-nw3-v1\n",
      "reading number of walks 5\n",
      "m3-wl20-nw5-v1\n",
      "reading number of walks 10\n",
      "m3-wl20-nw10-v1\n",
      "reading number of walks 20\n",
      "m3-wl20-nw20-v1\n",
      "reading number of walks 50\n",
      "m3-wl20-nw50-v1\n",
      "reading number of walks 3\n",
      "m4-wl20-nw3-v1\n",
      "reading number of walks 5\n",
      "m4-wl20-nw5-v1\n",
      "reading number of walks 10\n",
      "m4-wl20-nw10-v1\n",
      "reading number of walks 20\n",
      "m4-wl20-nw20-v1\n",
      "reading number of walks 50\n",
      "m4-wl20-nw50-v1\n"
     ]
    },
    {
     "data": {
      "text/plain": [
       "<function matplotlib.pyplot.show>"
      ]
     },
     "execution_count": 401,
     "metadata": {},
     "output_type": "execute_result"
    },
    {
     "data": {
      "image/png": "[encoded data removed]",
      "text/plain": [
       "<matplotlib.figure.Figure at 0x10827bdd8>"
      ]
     },
     "metadata": {},
     "output_type": "display_data"
    }
   ],
   "source": [
    "fig_size = plt.rcParams[\"figure.figsize\"]\n",
    "fig_size[0] = 6\n",
    "fig_size[1] = 4\n",
    "plt.rcParams[\"figure.figsize\"] = fig_size\n",
    "\n",
    "wl = 20\n",
    "num_walks = [3,5,10,20,50]\n",
    "formats=['.-', '^-', '*-','x-']\n",
    "\n",
    "x_axis = num_walks\n",
    "v = \"v1\"\n",
    "for mm in range(nmethods):\n",
    "    all_errors = []\n",
    "    for nw in num_walks:\n",
    "        print(\"reading number of walks \" + str(nw))\n",
    "        runs = read_walks(methods[mm], v, wl, nw)\n",
    "        errors = []\n",
    "        for rr in range(num_runs):\n",
    "            M_empirical = np.zeros((n_nodes, n_nodes))\n",
    "            for walk in runs[rr]:\n",
    "                for kk in range(wl - 1):\n",
    "                    M_empirical[walk[kk] - 1, walk[kk + 1] - 1] += 1\n",
    "\n",
    "            n_samples = M_empirical.sum()\n",
    "            M_empirical = M_empirical.T / np.maximum(M_empirical.sum(axis=1), 1)\n",
    "\n",
    "            errors.append(np.abs(M_theory - M_empirical).max())\n",
    "\n",
    "        all_errors.append(errors)\n",
    "    n = len(all_errors)\n",
    "#     print(n)\n",
    "    means = np.mean(all_errors,axis=1)\n",
    "#     print(means)\n",
    "    stdv = np.std(all_errors, axis=1)\n",
    "    stderr = stdv/np.sqrt(n)\n",
    "    plt.errorbar(x_axis, means, yerr=stderr, fmt=formats[mm], label=methods[mm], ms=10)\n",
    "    plt.xticks(x_axis, rotation=-90)\n",
    "    plt.legend()\n",
    "\n",
    "plt.show\n",
    "# plt.plot(x_axis, all_errors, '.-')"
   ]
  },
  {
   "cell_type": "markdown",
   "metadata": {},
   "source": [
    "Degrees"
   ]
  },
  {
   "cell_type": "code",
   "execution_count": 361,
   "metadata": {},
   "outputs": [
    {
     "data": {
      "text/plain": [
       "<function matplotlib.pyplot.show>"
      ]
     },
     "execution_count": 361,
     "metadata": {},
     "output_type": "execute_result"
    },
    {
     "data": {
      "image/png": "[encoded data removed]",
      "text/plain": [
       "<matplotlib.figure.Figure at 0x108008b38>"
      ]
     },
     "metadata": {},
     "output_type": "display_data"
    }
   ],
   "source": [
    "x = sorted(G.nodes())\n",
    "d = d_w\n",
    "plt.plot(x, d, '.-',label='degree')\n",
    "plt.xticks(x_axis, rotation=-90)\n",
    "fig_size = plt.rcParams[\"figure.figsize\"]\n",
    "fig_size[0] = 6\n",
    "fig_size[1] = 4\n",
    "plt.rcParams[\"figure.figsize\"] = fig_size\n",
    "plt.show"
   ]
  },
  {
   "cell_type": "code",
   "execution_count": 362,
   "metadata": {},
   "outputs": [
    {
     "data": {
      "image/png": "[encoded data removed]",
      "text/plain": [
       "<matplotlib.figure.Figure at 0x1085205f8>"
      ]
     },
     "metadata": {},
     "output_type": "display_data"
    }
   ],
   "source": [
    "nx.draw(G, with_labels = True)"
   ]
  },
  {
   "cell_type": "markdown",
   "metadata": {},
   "source": [
    "Plotting number of computation steps"
   ]
  },
  {
   "cell_type": "code",
   "execution_count": 436,
   "metadata": {},
   "outputs": [],
   "source": [
    "def read_steps(m, wl):\n",
    "    fname = m + \"-steps-to-compute\" + \"-wl\" + str(wl) + \".txt\"\n",
    "#     fname = m + \"-walkers-to-compute\" + \"-wl\" + str(wl) + \".txt\"\n",
    "    print(fname)\n",
    "    rws = np.concatenate([\n",
    "        np.loadtxt(f.open(), delimiter='\\t', dtype=int)\n",
    "        for f in rw_location.glob(fname)\n",
    "        if f.stat().st_size > 0\n",
    "    ])\n",
    "#     print(rws.shape)\n",
    "#     ars = np.vsplit(rws, 5)\n",
    "#     print(ars[0].shape)\n",
    "    return rws\n",
    "    #     random_walks_str = [list(map(str, v)) for v in random_walks_int]"
   ]
  },
  {
   "cell_type": "code",
   "execution_count": 441,
   "metadata": {},
   "outputs": [
    {
     "name": "stdout",
     "output_type": "stream",
     "text": [
      "reading walk length 3\n",
      "m1-steps-to-compute-wl3.txt\n",
      "reading walk length 5\n",
      "m1-steps-to-compute-wl5.txt\n",
      "reading walk length 10\n",
      "m1-steps-to-compute-wl10.txt\n",
      "reading walk length 20\n",
      "m1-steps-to-compute-wl20.txt\n",
      "reading walk length 3\n",
      "m2-steps-to-compute-wl3.txt\n",
      "reading walk length 5\n",
      "m2-steps-to-compute-wl5.txt\n",
      "reading walk length 10\n",
      "m2-steps-to-compute-wl10.txt\n",
      "reading walk length 20\n",
      "m2-steps-to-compute-wl20.txt\n",
      "reading walk length 3\n",
      "m3-steps-to-compute-wl3.txt\n",
      "reading walk length 5\n",
      "m3-steps-to-compute-wl5.txt\n",
      "reading walk length 10\n",
      "m3-steps-to-compute-wl10.txt\n",
      "reading walk length 20\n",
      "m3-steps-to-compute-wl20.txt\n",
      "reading walk length 3\n",
      "m4-steps-to-compute-wl3.txt\n",
      "reading walk length 5\n",
      "m4-steps-to-compute-wl5.txt\n",
      "reading walk length 10\n",
      "m4-steps-to-compute-wl10.txt\n",
      "reading walk length 20\n",
      "m4-steps-to-compute-wl20.txt\n"
     ]
    },
    {
     "data": {
      "text/plain": [
       "<function matplotlib.pyplot.show>"
      ]
     },
     "execution_count": 441,
     "metadata": {},
     "output_type": "execute_result"
    },
    {
     "data": {
      "image/png": "[encoded data removed]",
      "text/plain": [
       "<matplotlib.figure.Figure at 0x107eb9470>"
      ]
     },
     "metadata": {},
     "output_type": "display_data"
    }
   ],
   "source": [
    "fig_size = plt.rcParams[\"figure.figsize\"]\n",
    "fig_size[0] = 6\n",
    "fig_size[1] = 4\n",
    "plt.rcParams[\"figure.figsize\"] = fig_size\n",
    "\n",
    "methods = [\"m1\", \"m2\", \"m3\", \"m4\"]\n",
    "rw_location = Path(\"/Users/Ganymedian/Desktop/dynamic-rw/karate-wl/\")\n",
    "walk_lengths = [3,5,10,20]\n",
    "formats=['.-', '^-', '*-','x-']\n",
    "\n",
    "x_axis = walk_lengths\n",
    "for mm in range(len(methods)):\n",
    "    means = []\n",
    "    errors = []\n",
    "    for ww in walk_lengths:\n",
    "        print(\"reading walk length \" + str(ww))\n",
    "        runs = read_steps(methods[mm], ww)[1:]\n",
    "\n",
    "        n = len(runs)\n",
    "#         print(n)\n",
    "        mean = np.mean(runs,axis=0)[0]\n",
    "        stdv = np.std(runs, axis=0)[0]\n",
    "        stderr = stdv/np.sqrt(n)\n",
    "        means.append(mean)\n",
    "        errors.append(stderr)\n",
    "    plt.errorbar(x_axis, means, yerr=errors, fmt=formats[mm], label=methods[mm], ms=15)\n",
    "    plt.xticks(x_axis, rotation=-90)\n",
    "    plt.legend()\n",
    "\n",
    "plt.show\n",
    "# plt.plot(x_axis, all_errors, '.-')"
   ]
  },
  {
   "cell_type": "code",
   "execution_count": 405,
   "metadata": {},
   "outputs": [
    {
     "ename": "AttributeError",
     "evalue": "'list' object has no attribute 'shape'",
     "output_type": "error",
     "traceback": [
      "\u001b[0;31m---------------------------------------------------------------------------\u001b[0m",
      "\u001b[0;31mAttributeError\u001b[0m                            Traceback (most recent call last)",
      "\u001b[0;32m<ipython-input-405-3cbcfa4f5445>\u001b[0m in \u001b[0;36m<module>\u001b[0;34m()\u001b[0m\n\u001b[1;32m      2\u001b[0m \u001b[0merrors_nw\u001b[0m \u001b[0;34m=\u001b[0m \u001b[0;34m[\u001b[0m\u001b[0;34m]\u001b[0m\u001b[0;34m\u001b[0m\u001b[0m\n\u001b[1;32m      3\u001b[0m \u001b[0mx_axis_nw\u001b[0m \u001b[0;34m=\u001b[0m \u001b[0;34m[\u001b[0m\u001b[0;34m]\u001b[0m\u001b[0;34m\u001b[0m\u001b[0m\n\u001b[0;32m----> 4\u001b[0;31m \u001b[0mwalk_length\u001b[0m \u001b[0;34m=\u001b[0m \u001b[0mrandom_walks_int\u001b[0m\u001b[0;34m.\u001b[0m\u001b[0mshape\u001b[0m\u001b[0;34m[\u001b[0m\u001b[0;36m1\u001b[0m\u001b[0;34m]\u001b[0m\u001b[0;34m\u001b[0m\u001b[0m\n\u001b[0m\u001b[1;32m      5\u001b[0m \u001b[0;32mfor\u001b[0m \u001b[0mii\u001b[0m \u001b[0;32min\u001b[0m \u001b[0mrange\u001b[0m\u001b[0;34m(\u001b[0m\u001b[0;36m20\u001b[0m\u001b[0;34m)\u001b[0m\u001b[0;34m:\u001b[0m\u001b[0;34m\u001b[0m\u001b[0m\n\u001b[1;32m      6\u001b[0m     \u001b[0;31m#walk_length = 5*(ii + 1)\u001b[0m\u001b[0;34m\u001b[0m\u001b[0;34m\u001b[0m\u001b[0m\n",
      "\u001b[0;31mAttributeError\u001b[0m: 'list' object has no attribute 'shape'"
     ]
    }
   ],
   "source": [
    "errors_nw = []\n",
    "x_axis_nw = []\n",
    "walk_length = random_walks_int.shape[1]\n",
    "for ii in range(20):\n",
    "    #walk_length = 5*(ii + 1)\n",
    "    #walk_lengths.append(walk_length)\n",
    "    \n",
    "    num_walks = 5*(ii + 1)\n",
    "\n",
    "    reduced_walks = []\n",
    "    for kk in range(1, n_nodes+1):\n",
    "        reduced_walks.append(\n",
    "            random_walks_int[random_walks_int[:, 0] == kk][:num_walks]\n",
    "        )\n",
    "    reduced_walks = np.concatenate(reduced_walks)\n",
    "    \n",
    "    M_empirical = np.zeros((n_nodes, n_nodes))\n",
    "    for walk in reduced_walks:\n",
    "        for kk in range(walk_length - 1):\n",
    "            M_empirical[walk[kk] - 1, walk[kk + 1] - 1] += 1\n",
    "    n_samples = M_empirical.sum()\n",
    "    M_empirical = M_empirical.T / np.maximum(M_empirical.sum(axis=1), 1)\n",
    "\n",
    "    errors_nw.append(np.abs(M_theory - M_empirical).max())\n",
    "    x_axis_nw.append(n_samples)\n",
    "\n",
    "plt.plot(x_axis_nw, errors_nw, '.-')\n",
    "plt.plot(x_axis, errors, '--')"
   ]
  },
  {
   "cell_type": "code",
   "execution_count": 117,
   "metadata": {},
   "outputs": [
    {
     "name": "stdout",
     "output_type": "stream",
     "text": [
      "0.9395079594790159\n",
      "0.028741502372561713\n",
      "3.3536124073059748\n"
     ]
    },
    {
     "data": {
      "image/png": "[encoded data removed]",
      "text/plain": [
       "<matplotlib.figure.Figure at 0x107eaf438>"
      ]
     },
     "metadata": {},
     "output_type": "display_data"
    }
   ],
   "source": [
    "plt.imshow(np.abs(M_theory - M_empirical))\n",
    "plt.colorbar()\n",
    "error = np.abs(M_theory - M_empirical).max()\n",
    "print(error)\n",
    "error = np.abs(M_theory - M_empirical).mean()\n",
    "print(error)\n",
    "error = np.linalg.norm(M_theory - M_empirical)\n",
    "print(error)"
   ]
  },
  {
   "cell_type": "code",
   "execution_count": null,
   "metadata": {},
   "outputs": [],
   "source": [
    "import sys\n",
    "sys.path.append(\"/Users/doc019/Code/stellar-evaluation-plugins\")\n",
    "from utils.epgm import EPGM"
   ]
  },
  {
   "cell_type": "markdown",
   "metadata": {},
   "source": [
    "Theoretical transition probabilities"
   ]
  },
  {
   "cell_type": "raw",
   "metadata": {},
   "source": [
    "Error metric"
   ]
  },
  {
   "cell_type": "code",
   "execution_count": null,
   "metadata": {},
   "outputs": [],
   "source": [
    "error = np.abs(M_theory - M_empirical).max()\n",
    "#error = np.linalg.norm(M_theory - M_empirical)\n",
    "error"
   ]
  },
  {
   "cell_type": "markdown",
   "metadata": {},
   "source": [
    "Train word2vec embeddings using gensim"
   ]
  },
  {
   "cell_type": "code",
   "execution_count": 550,
   "metadata": {},
   "outputs": [],
   "source": [
    "def read_paths(fname):\n",
    "#     fname = m + \"-steps-to-compute\" + \"-wl\" + str(wl) + \".txt\"\n",
    "# #     fname = m + \"-walkers-to-compute\" + \"-wl\" + str(wl) + \".txt\"\n",
    "    rws = np.concatenate([\n",
    "        np.loadtxt(f.open(), delimiter='\\t', dtype=int)\n",
    "        for f in rw_location.glob(fname+\"/part-00000\")\n",
    "        if f.stat().st_size > 0\n",
    "    ])\n",
    "    rw_str = [list(map(str, v)) for v in rws]\n",
    "\n",
    "    return rw_str     "
   ]
  },
  {
   "cell_type": "code",
   "execution_count": 627,
   "metadata": {},
   "outputs": [],
   "source": [
    "rw_location = Path(\"/Users/Ganymedian/Desktop/dynamic-rw/karate-wl/ar\")\n",
    "fname = \"m4-wl5-v1-0\"\n",
    "random_walks_str = read_paths(fname)\n"
   ]
  },
  {
   "cell_type": "code",
   "execution_count": 628,
   "metadata": {},
   "outputs": [],
   "source": [
    "dim = 20\n",
    "model = Word2Vec(random_walks_str, sg=1, size=dim, window=5, sample=0, min_count=0, \n",
    "                 workers=4, seed=1321, iter=10, compute_loss=True)"
   ]
  },
  {
   "cell_type": "code",
   "execution_count": 629,
   "metadata": {},
   "outputs": [
    {
     "data": {
      "text/plain": [
       "793446.1875"
      ]
     },
     "execution_count": 629,
     "metadata": {},
     "output_type": "execute_result"
    }
   ],
   "source": [
    "model.get_latest_training_loss()"
   ]
  },
  {
   "cell_type": "markdown",
   "metadata": {},
   "source": [
    "Save embeddings"
   ]
  },
  {
   "cell_type": "code",
   "execution_count": 630,
   "metadata": {},
   "outputs": [],
   "source": [
    "dir = \"/Users/Ganymedian/Desktop/dynamic-rw/karate-wl/\"\n",
    "model.wv.save_word2vec_format(dir+\"/embeddings.txt\")"
   ]
  },
  {
   "cell_type": "markdown",
   "metadata": {},
   "source": [
    "Extract embeddings as matrix of size `n_nodes` × `d`"
   ]
  },
  {
   "cell_type": "code",
   "execution_count": 631,
   "metadata": {},
   "outputs": [],
   "source": [
    "def read_labels(fname):\n",
    "    rws = np.concatenate([\n",
    "        np.loadtxt(f.open(), delimiter='\\t', dtype=int)\n",
    "        for f in l_location.glob(fname)\n",
    "        if f.stat().st_size > 0\n",
    "    ])\n",
    "\n",
    "    return rws  "
   ]
  },
  {
   "cell_type": "code",
   "execution_count": 632,
   "metadata": {},
   "outputs": [
    {
     "name": "stdout",
     "output_type": "stream",
     "text": [
      "[ 1  2  3  4  5  6  7  8  9 10 11 12 13 14 15 16 17 18 19 20 21 22 23 24\n",
      " 25 26 27 28 29 30 31 32 33 34]\n",
      "[1 1 1 1 1 1 1 1 1 2 1 1 1 1 2 2 1 1 2 1 2 1 2 2 2 2 2 2 2 2 2 2 2 2]\n"
     ]
    }
   ],
   "source": [
    "# Labels must be sorted based on the node IDs\n",
    "l_location = Path(\"/Users/Ganymedian/Desktop/dynamic-rw\")\n",
    "fname = \"karate-labels.txt\"\n",
    "v_labels = read_labels(fname)\n",
    "nodes = v_labels[:,0]\n",
    "node_labels = v_labels[:,1]\n",
    "print(nodes)\n",
    "print(node_labels)"
   ]
  },
  {
   "cell_type": "code",
   "execution_count": 633,
   "metadata": {},
   "outputs": [
    {
     "name": "stdout",
     "output_type": "stream",
     "text": [
      "34\n",
      "20\n"
     ]
    }
   ],
   "source": [
    "V_w2v = np.ndarray(shape=(len(nodes),dim), dtype=float)\n",
    "for v in nodes:\n",
    "    V_w2v[v-1] = model.wv[str(v)]\n",
    "n_nodes, d_emb = V_w2v.shape\n",
    "# print(V_w2v)\n",
    "print(n_nodes)\n",
    "print(d_emb)"
   ]
  },
  {
   "cell_type": "code",
   "execution_count": 634,
   "metadata": {},
   "outputs": [],
   "source": [
    "# V_w2v = model.wv.syn0\n",
    "# n_nodes, d_emb = V_w2v.shape\n",
    "# # print(V_w2v)\n"
   ]
  },
  {
   "cell_type": "markdown",
   "metadata": {},
   "source": [
    "Node labels:"
   ]
  },
  {
   "cell_type": "code",
   "execution_count": 635,
   "metadata": {},
   "outputs": [],
   "source": [
    "# node_labels = np.zeros(n_nodes)\n",
    "# node_labels[:10] = 1"
   ]
  },
  {
   "cell_type": "markdown",
   "metadata": {},
   "source": [
    "Read node labels"
   ]
  },
  {
   "cell_type": "markdown",
   "metadata": {},
   "source": [
    "**Classification using single train/test split**"
   ]
  },
  {
   "cell_type": "code",
   "execution_count": 636,
   "metadata": {},
   "outputs": [],
   "source": [
    "# Split using sklearn ShuffleSplit\n",
    "ss = model_selection.ShuffleSplit(n_splits=1,\n",
    "                                  train_size=0.5,\n",
    "                                  test_size=0.5)\n",
    "train_index, test_index = next(ss.split(V_w2v))"
   ]
  },
  {
   "cell_type": "code",
   "execution_count": 637,
   "metadata": {},
   "outputs": [
    {
     "name": "stdout",
     "output_type": "stream",
     "text": [
      "[1 1 2 2 1 1 1 1 1 2 2 1 1 1 1 2 2]\n",
      "[1 2 2 2 1 1 2 1 1 2 1 2 2 2 2 2 2]\n"
     ]
    }
   ],
   "source": [
    "train_data = V_w2v[train_index]\n",
    "test_data = V_w2v[test_index]\n",
    "train_labels = node_labels[train_index]\n",
    "test_labels  = node_labels[test_index]\n",
    "print(train_labels)\n",
    "print(test_labels)"
   ]
  },
  {
   "cell_type": "code",
   "execution_count": 638,
   "metadata": {},
   "outputs": [
    {
     "name": "stdout",
     "output_type": "stream",
     "text": [
      "[1 1 2 2 1 1 1 1 1 2 2 1 1 1 1 2 2]\n",
      "[1 1 1 1 1 1 1 1 1 1 1 1 1 1 1 2 1]\n",
      "Train acc: 1.0\n",
      "Test acc: 0.4117647058823529\n",
      "Train f1: 1.0\n",
      "Test f1: 0.4117647058823529\n"
     ]
    }
   ],
   "source": [
    "# Classifier choice\n",
    "#classifier = linear_model.LogisticRegression(C=10)\n",
    "classifier = svm.SVC(C=1)\n",
    "\n",
    "clf = make_pipeline(preprocessing.StandardScaler(), classifier)\n",
    "clf.fit(train_data, train_labels)\n",
    "\n",
    "train_pred = clf.predict(train_data)\n",
    "test_pred = clf.predict(test_data)\n",
    "print(train_pred)\n",
    "print(test_pred)\n",
    "\n",
    "print(\"Train acc:\", clf.score(train_data, train_labels))\n",
    "print(\"Test acc:\", clf.score(test_data, test_labels))\n",
    "print(\"Train f1:\", f1_score(train_labels, train_pred, average='micro'))\n",
    "print(\"Test f1:\", f1_score(test_labels, test_pred, average='micro'))"
   ]
  },
  {
   "cell_type": "markdown",
   "metadata": {},
   "source": [
    "**K-fold cross validation**"
   ]
  },
  {
   "cell_type": "code",
   "execution_count": 639,
   "metadata": {},
   "outputs": [
    {
     "name": "stdout",
     "output_type": "stream",
     "text": [
      "Train acc=1.000000,  Test acc=1.000000,  Train f1=1.000000,  Test f1=1.000000\n",
      "Train acc=1.000000,  Test acc=0.888889,  Train f1=1.000000,  Test f1=0.888889\n",
      "Train acc=1.000000,  Test acc=1.000000,  Train f1=1.000000,  Test f1=1.000000\n",
      "Train acc=1.000000,  Test acc=0.875000,  Train f1=1.000000,  Test f1=0.875000\n",
      "Average scores:\n",
      "Avg test acc=0.940972 [±0.059232],  Avg test f1=0.940972 [±0.059232]\n"
     ]
    }
   ],
   "source": [
    "kf = model_selection.KFold(n_splits=4, shuffle=True)\n",
    "\n",
    "acc_test_scores = []\n",
    "f1_test_scores = []\n",
    "for train_index, test_index in kf.split(V_w2v):\n",
    "    train_data = V_w2v[train_index]\n",
    "    test_data = V_w2v[test_index]\n",
    "    train_labels = node_labels[train_index]\n",
    "    test_labels  = node_labels[test_index]\n",
    "    \n",
    "    # Classifier choice\n",
    "    #classifier = linear_model.LogisticRegression(C=10)\n",
    "    classifier = svm.SVC(C=1)\n",
    "\n",
    "    clf = make_pipeline(preprocessing.StandardScaler(), classifier)\n",
    "    clf.fit(train_data, train_labels)\n",
    "\n",
    "    train_pred = clf.predict(train_data)\n",
    "    test_pred = clf.predict(test_data)\n",
    "\n",
    "    acc_train = clf.score(train_data, train_labels)\n",
    "    acc_test = clf.score(test_data, test_labels)\n",
    "    f1_train = f1_score(train_labels, train_pred, average='micro')\n",
    "    f1_test = f1_score(test_labels, test_pred, average='micro')\n",
    "    \n",
    "    acc_test_scores.append(acc_test)\n",
    "    f1_test_scores.append(f1_test)\n",
    "    \n",
    "    print(\"Train acc={:4f},  Test acc={:4f},  Train f1={:4f},  Test f1={:4f}\".format(\n",
    "        acc_train, acc_test, f1_train, f1_test\n",
    "    ))\n",
    "    \n",
    "print(\"Average scores:\")\n",
    "print(\"Avg test acc={:4f} [±{:2f}],  Avg test f1={:4f} [±{:2f}]\".format(\n",
    "    np.mean(acc_test_scores), np.std(acc_test_scores), \n",
    "    np.mean(f1_test_scores), np.std(f1_test_scores)\n",
    "))"
   ]
  },
  {
   "cell_type": "code",
   "execution_count": null,
   "metadata": {},
   "outputs": [],
   "source": []
  }
 ],
 "metadata": {
  "kernelspec": {
   "display_name": "Python 3",
   "language": "python",
   "name": "python3"
  },
  "language_info": {
   "codemirror_mode": {
    "name": "ipython",
    "version": 3
   },
   "file_extension": ".py",
   "mimetype": "text/x-python",
   "name": "python",
   "nbconvert_exporter": "python",
   "pygments_lexer": "ipython3",
   "version": "3.6.4"
  }
 },
 "nbformat": 4,
 "nbformat_minor": 2
}
