{
 "cells": [
  {
   "cell_type": "code",
   "execution_count": 1,
   "metadata": {},
   "outputs": [],
   "source": [
    "import os\n",
    "import numpy as np\n",
    "import matplotlib.pyplot as plt\n",
    "from gensim.models.word2vec import PathLineSentences, LineSentence, Word2Vec\n",
    "from pathlib import Path\n",
    "import networkx as nx\n",
    "from sklearn import model_selection, linear_model, preprocessing, svm\n",
    "from sklearn.metrics import accuracy_score, f1_score\n",
    "from sklearn.pipeline import make_pipeline\n",
    "%matplotlib inline\n"
   ]
  },
  {
   "cell_type": "markdown",
   "metadata": {},
   "source": [
    "**Load random walks from output files**"
   ]
  },
  {
   "cell_type": "code",
   "execution_count": 2,
   "metadata": {},
   "outputs": [],
   "source": [
    "# def readEdgeList(e_location, file):\n",
    "#     rws = np.concatenate([\n",
    "#         np.loadtxt(f.open(), delimiter='\\t', dtype=int)\n",
    "#         for f in e_location.glob(file)\n",
    "#         if f.stat().st_size > 0\n",
    "#     ])\n",
    "#     print(rws.shape)"
   ]
  },
  {
   "cell_type": "code",
   "execution_count": 6,
   "metadata": {},
   "outputs": [
    {
     "name": "stdout",
     "output_type": "stream",
     "text": [
      "(88234, 2)\n"
     ]
    },
    {
     "ename": "TypeError",
     "evalue": "'NoneType' object is not subscriptable",
     "output_type": "error",
     "traceback": [
      "\u001b[0;31m---------------------------------------------------------------------------\u001b[0m",
      "\u001b[0;31mTypeError\u001b[0m                                 Traceback (most recent call last)",
      "\u001b[0;32m<ipython-input-6-f78d8001ab1a>\u001b[0m in \u001b[0;36m<module>\u001b[0;34m()\u001b[0m\n\u001b[1;32m      1\u001b[0m \u001b[0medge_list\u001b[0m \u001b[0;34m=\u001b[0m \u001b[0mreadEdgeList\u001b[0m\u001b[0;34m(\u001b[0m\u001b[0mPath\u001b[0m\u001b[0;34m(\u001b[0m\u001b[0;34m\"/Users/Ganymedian/Desktop/dynamic-rw/output/facebook-stream\"\u001b[0m\u001b[0;34m)\u001b[0m\u001b[0;34m,\u001b[0m \u001b[0;34m\"m1-g.txt\"\u001b[0m\u001b[0;34m)\u001b[0m\u001b[0;34m\u001b[0m\u001b[0m\n\u001b[0;32m----> 2\u001b[0;31m \u001b[0mprint\u001b[0m\u001b[0;34m(\u001b[0m\u001b[0medge_list\u001b[0m\u001b[0;34m[\u001b[0m\u001b[0;36m0\u001b[0m\u001b[0;34m]\u001b[0m\u001b[0;34m)\u001b[0m\u001b[0;34m\u001b[0m\u001b[0m\n\u001b[0m",
      "\u001b[0;31mTypeError\u001b[0m: 'NoneType' object is not subscriptable"
     ]
    }
   ],
   "source": [
    "# edge_list = readEdgeList(Path(\"/Users/Ganymedian/Desktop/dynamic-rw/output/facebook-stream\"), \"m1-g.txt\")\n",
    "# print(edge_list[0])"
   ]
  },
  {
   "cell_type": "code",
   "execution_count": null,
   "metadata": {},
   "outputs": [],
   "source": [
    "def computeTheoreticalProbs(file, nodes):\n",
    "    g_dir = \"/Users/Ganymedian/Desktop/dynamic-rw/output/karate-stream/\"\n",
    "    G = nx.read_edgelist(g_dir+file, nodetype=int)\n",
    "    A = nx.adjacency_matrix(G,nodelist=sorted(nodes)).toarray()\n",
    "    d_w = np.maximum(A.sum(axis=1), 1)\n",
    "    M_theory = A.T / d_w\n",
    "    return M_theory"
   ]
  },
  {
   "cell_type": "code",
   "execution_count": null,
   "metadata": {},
   "outputs": [],
   "source": [
    "def read_walks(m, e, wl, nw):\n",
    "    fname = \"s1-\" + m + \"-wl\" + str(wl) + \"-nw\" + str(nw) + \"-e\" + str(e)\n",
    "#     print(fname)\n",
    "    rws = np.concatenate([\n",
    "        np.loadtxt(f.open(), delimiter='\\t', dtype=int)\n",
    "        for f in rw_location.glob(fname + \"-*.txt\")\n",
    "        if f.stat().st_size > 0\n",
    "    ])\n",
    "    ars = np.vsplit(rws, 5)\n",
    "#     print(ars)\n",
    "#     print(ars[0].shape)\n",
    "    return ars"
   ]
  },
  {
   "cell_type": "code",
   "execution_count": null,
   "metadata": {},
   "outputs": [],
   "source": [
    "methods = [\"m1\", \"m2\", \"m3\", \"m4\"]\n",
    "nmethods = len(methods)\n",
    "num_runs = 5\n",
    "wl = 3\n",
    "nw = 100\n",
    "rw_location = Path(\"/Users/Ganymedian/Desktop/dynamic-rw/output/karate-stream\")\n",
    "formats=['D-', '^-', '*-','x-']\n",
    "n_nodes = 34\n",
    "n_edges = 156\n",
    "nodes = np.arange(1,n_nodes+1)\n",
    "print(nodes)\n",
    "edges = np.arange(2,n_edges+1, 2)\n",
    "print(edges)\n",
    "fig_size = plt.rcParams[\"figure.figsize\"]\n",
    "fig_size[0] = 15\n",
    "fig_size[1] = 4\n",
    "plt.rcParams[\"figure.figsize\"] = fig_size\n",
    "plt.xlabel(\"Number of Edges\")\n",
    "plt.ylabel(\"Error\")\n",
    "\n",
    "for mm in range(nmethods):\n",
    "    print(methods[mm])\n",
    "    all_errors = []\n",
    "    for ee in edges:\n",
    "        runs = read_walks(methods[mm], ee, wl, nw)\n",
    "        graph_file = methods[mm] + \"-g-e\" + str(ee) + \".txt\"\n",
    "        M_theory = computeTheoreticalProbs(graph_file, nodes)\n",
    "#         print(M_theory)\n",
    "        errors = []\n",
    "        for rr in range(num_runs):\n",
    "            M_empirical = np.zeros((n_nodes, n_nodes))\n",
    "            for walk in runs[rr]:\n",
    "                for kk in range(wl - 1):\n",
    "                    M_empirical[walk[kk] - 1, walk[kk + 1] - 1] += 1\n",
    "\n",
    "            n_samples = M_empirical.sum()\n",
    "            M_empirical = M_empirical.T / np.maximum(M_empirical.sum(axis=1), 1)\n",
    "\n",
    "            errors.append(np.abs(M_theory - M_empirical).mean())\n",
    "\n",
    "        all_errors.append(errors)\n",
    "\n",
    "    means = np.mean(all_errors,axis=1)\n",
    "    stdv = np.std(all_errors, axis=1)\n",
    "    plt.errorbar(edges, means, yerr=stdv, fmt=formats[mm], label=methods[mm], ms=10)\n",
    "    plt.xticks(edges, rotation=-90)\n",
    "    plt.legend()\n",
    "\n",
    "plt.show"
   ]
  },
  {
   "cell_type": "markdown",
   "metadata": {},
   "source": [
    "### Computation Cost"
   ]
  },
  {
   "cell_type": "code",
   "execution_count": null,
   "metadata": {},
   "outputs": [],
   "source": [
    "def read_computations(m, wl, nw):\n",
    "    fname = m + \"-steps-to-compute\" + \"-wl\" + str(wl) + \"-nw\" + str(nw) + \".txt\"\n",
    "#     fname = m + \"-walkers-to-compute\" + \"-wl\" + str(wl) + \"-nw\" + str(nw) + \".txt\"\n",
    "    print(fname)\n",
    "    rws = np.concatenate([\n",
    "        np.loadtxt(f.open(), delimiter='\\t', dtype=int)\n",
    "        for f in rw_location.glob(fname)\n",
    "        if f.stat().st_size > 0\n",
    "    ])\n",
    "#     print(rws.shape)\n",
    "#     ars = np.vsplit(rws, 5)\n",
    "#     print(ars[0].shape)\n",
    "    return rws"
   ]
  },
  {
   "cell_type": "code",
   "execution_count": null,
   "metadata": {},
   "outputs": [],
   "source": [
    "fig_size = plt.rcParams[\"figure.figsize\"]\n",
    "fig_size[0] = 15\n",
    "fig_size[1] = 4\n",
    "plt.rcParams[\"figure.figsize\"] = fig_size\n",
    "plt.xlabel(\"Number of Edges\")\n",
    "plt.ylabel(\"Steps\")\n",
    "# plt.ylabel(\"Walkers\")\n",
    "\n",
    "methods = [\"m1\", \"m2\", \"m3\", \"m4\"]\n",
    "rw_location = Path(\"/Users/Ganymedian/Desktop/dynamic-rw/output/karate-stream/\")\n",
    "wl = 3\n",
    "nw = 100\n",
    "formats=['D-', '^-', '*-','x-']\n",
    "\n",
    "x_axis = np.arange(2,157,2)\n",
    "print(x_axis)\n",
    "for mm in range(len(methods)):\n",
    "    runs = read_computations(methods[mm], wl, nw)\n",
    "#     print(runs)\n",
    "    mean = np.mean(runs, axis=0)\n",
    "    stdv = np.std(runs, axis=0)\n",
    "    print(stdv)\n",
    "#     print(mean)\n",
    "    plt.errorbar(x_axis, mean, yerr=stdv, fmt=formats[mm], label=methods[mm], ms=15)\n",
    "    plt.xticks(x_axis, rotation=-90)\n",
    "    plt.legend()\n",
    "\n",
    "plt.show"
   ]
  },
  {
   "cell_type": "code",
   "execution_count": null,
   "metadata": {},
   "outputs": [],
   "source": []
  }
 ],
 "metadata": {
  "kernelspec": {
   "display_name": "Python 3",
   "language": "python",
   "name": "python3"
  },
  "language_info": {
   "codemirror_mode": {
    "name": "ipython",
    "version": 3
   },
   "file_extension": ".py",
   "mimetype": "text/x-python",
   "name": "python",
   "nbconvert_exporter": "python",
   "pygments_lexer": "ipython3",
   "version": "3.6.4"
  }
 },
 "nbformat": 4,
 "nbformat_minor": 2
}
