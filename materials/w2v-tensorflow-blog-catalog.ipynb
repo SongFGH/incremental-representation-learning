{
 "cells": [
  {
   "cell_type": "code",
   "execution_count": 1,
   "metadata": {},
   "outputs": [
    {
     "name": "stdout",
     "output_type": "stream",
     "text": [
      "WARNING:tensorflow:From /Users/Ganymedian/Desktop/tensorflow/lib/python3.6/site-packages/tensorflow/contrib/learn/python/learn/datasets/base.py:198: retry (from tensorflow.contrib.learn.python.learn.datasets.base) is deprecated and will be removed in a future version.\n",
      "Instructions for updating:\n",
      "Use the retry module or similar alternatives.\n"
     ]
    }
   ],
   "source": [
    "import tensorflow as tf\n",
    "import math\n",
    "import numpy as np\n",
    "import argparse\n",
    "import os\n",
    "import sys\n",
    "import collections\n",
    "import zipfile\n",
    "import random\n",
    "from pathlib import Path\n",
    "from tensorflow.contrib.tensorboard.plugins import projector\n",
    "from tempfile import gettempdir\n",
    "from sklearn import model_selection, linear_model, preprocessing, svm\n",
    "from sklearn.metrics import accuracy_score, f1_score\n",
    "from sklearn.pipeline import make_pipeline\n",
    " # pylint: disable=g-import-not-at-top\n",
    "from sklearn.manifold import TSNE\n",
    "import matplotlib.pyplot as plt"
   ]
  },
  {
   "cell_type": "code",
   "execution_count": 59,
   "metadata": {},
   "outputs": [],
   "source": [
    "# Give a folder path as an argument with '--log_dir' to save\n",
    "# TensorBoard summaries. Default is a log folder in current directory.\n",
    "# current_path = os.path.dirname(os.path.realpath(sys.argv[0]))\n",
    "current_path = \"/Users/Ganymedian/Desktop/dynamic-rw/output/blog-catalog/m4/\"\n",
    "start_id = 1\n",
    "parser = argparse.ArgumentParser()\n",
    "parser.add_argument(\n",
    "    '--log_dir',\n",
    "    type=str,\n",
    "    default=os.path.join(current_path, 'log'),\n",
    "    help='The log directory for TensorBoard summaries.')\n",
    "FLAGS, unparsed = parser.parse_known_args()"
   ]
  },
  {
   "cell_type": "markdown",
   "metadata": {},
   "source": [
    "#### Read data"
   ]
  },
  {
   "cell_type": "code",
   "execution_count": 72,
   "metadata": {},
   "outputs": [],
   "source": [
    "vocab_size = 10400\n",
    "batch_size = 400\n",
    "embed_size = 128  # Dimension of the embedding vector.\n",
    "num_sampled = 20  # Number of negative examples to sample.\n",
    "l_rate = 0.00001"
   ]
  },
  {
   "cell_type": "code",
   "execution_count": 61,
   "metadata": {},
   "outputs": [],
   "source": [
    "def read_data(fname):\n",
    "    print(fname)\n",
    "    rws = np.concatenate([\n",
    "        np.loadtxt(f.open(), delimiter='\\t', dtype=int)\n",
    "        for f in rw_location.glob(fname)\n",
    "        if f.stat().st_size > 0\n",
    "    ])\n",
    "    return rws"
   ]
  },
  {
   "cell_type": "code",
   "execution_count": 62,
   "metadata": {},
   "outputs": [
    {
     "name": "stdout",
     "output_type": "stream",
     "text": [
      "gPairs-w4-s8.txt\n",
      "Data size 7326400\n"
     ]
    }
   ],
   "source": [
    "rw_location = Path(\"/Users/Ganymedian/Desktop/dynamic-rw/output/blog-catalog/m4/\")\n",
    "filename = \"gPairs-w4-s8.txt\"\n",
    "# filename = \"test.txt\"\n",
    "seed = 1234\n",
    "np.random.seed(seed=seed)\n",
    "data = read_data(filename) - start_id\n",
    "print('Data size', len(data))\n",
    "# print(data)"
   ]
  },
  {
   "cell_type": "code",
   "execution_count": 73,
   "metadata": {},
   "outputs": [
    {
     "name": "stdout",
     "output_type": "stream",
     "text": [
      "[[1141 1053]\n",
      " [5034 9934]\n",
      " [6395 5042]\n",
      " ...\n",
      " [9172 9419]\n",
      " [8904 9667]\n",
      " [6582 6582]]\n"
     ]
    }
   ],
   "source": [
    "data_index = 0\n",
    "data_size = len(data)\n",
    "np.random.seed(seed=seed)\n",
    "np.random.shuffle(data)\n",
    "print(data)\n",
    "batches = np.vsplit(data, data_size/batch_size)\n",
    "# [print(len(m)) for m in batches]\n",
    "\n",
    "def generate_batch():\n",
    "    global data_index\n",
    "    next_batch = batches[data_index]\n",
    "    data_index += 1\n",
    "    targets = next_batch[:,0]\n",
    "    contexts = next_batch[:,1].reshape(len(next_batch),1)\n",
    "    return targets, contexts\n",
    "\n",
    "def end_of_batch():\n",
    "    if (data_index >= len(batches)):\n",
    "        return True \n",
    "    else:\n",
    "        return False\n",
    "    \n",
    "def reset_batch_gen():\n",
    "    global data_index\n",
    "    data_index = 0"
   ]
  },
  {
   "cell_type": "code",
   "execution_count": 83,
   "metadata": {},
   "outputs": [
    {
     "name": "stdout",
     "output_type": "stream",
     "text": [
      "[ 213 5625]\n"
     ]
    }
   ],
   "source": [
    "# We pick a random validation set to sample nearest neighbors. Here we limit the\n",
    "# validation samples to the words that have a low numeric ID, which by\n",
    "# construction are also the most frequent. These 3 variables are used only for\n",
    "# displaying model accuracy, they don't affect calculation.\n",
    "valid_size = 2  # Random set of words to evaluate similarity on.\n",
    "# valid_window = 10  # Only pick dev samples in the head of the distribution.\n",
    "np.random.seed(seed)\n",
    "valid_examples = np.random.choice(curr_vocab, valid_size, replace=False)\n",
    "print(valid_examples)"
   ]
  },
  {
   "cell_type": "code",
   "execution_count": 74,
   "metadata": {},
   "outputs": [],
   "source": [
    "graph = tf.Graph()\n",
    "\n",
    "with graph.as_default():\n",
    "\n",
    "  # Input data.\n",
    "  with tf.name_scope('inputs'):\n",
    "    train_inputs = tf.placeholder(tf.int32, shape=[batch_size])\n",
    "    train_contexts = tf.placeholder(tf.int32, shape=[batch_size, 1])\n",
    "    valid_dataset = tf.constant(valid_examples, dtype=tf.int32)\n",
    "\n",
    "  # Ops and variables pinned to the CPU because of missing GPU implementation\n",
    "  with tf.device('/cpu:0'):\n",
    "    # Look up embeddings for inputs.\n",
    "    with tf.name_scope('embeddings'):\n",
    "        embeddings = tf.Variable(\n",
    "              tf.random_uniform([vocab_size, embed_size], -1.0, 1.0))\n",
    "        embed = tf.nn.embedding_lookup(embeddings, train_inputs)\n",
    "\n",
    "    # Construct the variables for the NCE loss\n",
    "    with tf.name_scope('weights'):\n",
    "          nce_weights = tf.Variable(\n",
    "              tf.truncated_normal(\n",
    "                  [vocab_size, embed_size],\n",
    "                  stddev=1.0 / math.sqrt(embed_size)))\n",
    "    with tf.name_scope('biases'):\n",
    "          nce_biases = tf.Variable(tf.zeros([vocab_size]))\n",
    "  # Compute the average NCE loss for the batch.\n",
    "  # tf.nce_loss automatically draws a new sample of the negative labels each\n",
    "  # time we evaluate the loss.\n",
    "  # Explanation of the meaning of NCE loss:\n",
    "  #   http://mccormickml.com/2016/04/19/word2vec-tutorial-the-skip-gram-model/\n",
    "    with tf.name_scope('loss'):\n",
    "        loss = tf.reduce_mean(\n",
    "            tf.nn.nce_loss(\n",
    "                weights=nce_weights,\n",
    "                biases=nce_biases,\n",
    "                labels=train_contexts,\n",
    "                inputs=embed,\n",
    "                num_sampled=num_sampled,\n",
    "                num_classes=vocab_size))\n",
    "    # Add the loss value as a scalar to summary.\n",
    "    tf.summary.scalar('loss', loss)\n",
    "    # Construct the SGD optimizer using a learning rate of 1.0.\n",
    "    with tf.name_scope('optimizer'):\n",
    "        optimizer = tf.train.GradientDescentOptimizer(l_rate).minimize(loss)\n",
    "    # Compute the cosine similarity between minibatch examples and all embeddings.\n",
    "    norm = tf.sqrt(tf.reduce_sum(tf.square(embeddings), 1, keepdims=True))\n",
    "    normalized_embeddings = embeddings / norm\n",
    "    valid_embeddings = tf.nn.embedding_lookup(normalized_embeddings,\n",
    "                                            valid_dataset)\n",
    "    similarity = tf.matmul(\n",
    "      valid_embeddings, normalized_embeddings, transpose_b=True)\n",
    "\n",
    "    # Merge all summaries.\n",
    "    merged = tf.summary.merge_all()\n",
    "\n",
    "    # Add variable initializer.\n",
    "    init = tf.global_variables_initializer()\n",
    "\n",
    "    # Create a saver.\n",
    "    saver = tf.train.Saver()"
   ]
  },
  {
   "cell_type": "markdown",
   "metadata": {},
   "source": [
    "### Begin Training"
   ]
  },
  {
   "cell_type": "code",
   "execution_count": 75,
   "metadata": {},
   "outputs": [
    {
     "name": "stdout",
     "output_type": "stream",
     "text": [
      "Initialized\n",
      "Average loss at step  0 :  82.96786499023438\n",
      "Nearest to 2: 2779, 7453, 1234, 2718, 6080, 10399, 3526, 418,\n",
      "Nearest to 9: 533, 1041, 502, 6847, 1445, 6449, 1400, 2746,\n",
      "Average loss at step  1000 :  1722.018118057251\n",
      "Average loss at step  2000 :  1709.0087715148925\n",
      "Average loss at step  3000 :  1707.9964764404297\n",
      "Average loss at step  4000 :  1710.7096294403077\n",
      "Average loss at step  5000 :  1711.1171367645263\n",
      "Average loss at step  6000 :  1711.1141521453858\n",
      "Average loss at step  7000 :  1713.0046466827393\n",
      "Average loss at step  8000 :  1702.3438186645508\n",
      "Average loss at step  9000 :  1701.8395957183839\n",
      "Average loss at step  10000 :  1714.891594772339\n",
      "Nearest to 2: 2779, 7453, 1234, 2718, 6080, 10399, 3526, 418,\n",
      "Nearest to 9: 533, 1041, 502, 6847, 1445, 6449, 1400, 2746,\n",
      "Average loss at step  11000 :  1705.9687390899658\n",
      "Average loss at step  12000 :  1719.0548177337646\n",
      "Average loss at step  13000 :  1702.0784194946289\n",
      "Average loss at step  14000 :  1714.6954103088378\n",
      "Average loss at step  15000 :  1702.1299782562255\n",
      "Average loss at step  16000 :  1712.1383867645263\n",
      "Average loss at step  17000 :  1705.1489179992675\n",
      "Average loss at step  18000 :  1697.7642423248292\n"
     ]
    }
   ],
   "source": [
    "num_steps = len(batches)\n",
    "reset_batch_gen()\n",
    "with tf.Session(graph=graph) as session:\n",
    "    # Open a writer to write summaries.\n",
    "    writer = tf.summary.FileWriter(FLAGS.log_dir, session.graph)\n",
    "\n",
    "    # We must initialize all variables before we use them.\n",
    "    init.run()\n",
    "    print('Initialized')\n",
    "\n",
    "    average_loss = 0\n",
    "    for step in range(num_steps):\n",
    "#         print(step)\n",
    "        inputs, contexts = generate_batch()\n",
    "        feed_dict = {train_inputs: inputs, train_contexts: contexts}\n",
    "\n",
    "        # Define metadata variable.\n",
    "        run_metadata = tf.RunMetadata()\n",
    "\n",
    "        # We perform one update step by evaluating the optimizer op (including it\n",
    "        # in the list of returned values for session.run()\n",
    "        # Also, evaluate the merged op to get all summaries from the returned \"summary\" variable.\n",
    "        # Feed metadata variable to session for visualizing the graph in TensorBoard.\n",
    "        _, summary, loss_val = session.run(\n",
    "            [optimizer, merged, loss],\n",
    "            feed_dict=feed_dict,\n",
    "            run_metadata=run_metadata)\n",
    "        average_loss += loss_val\n",
    "\n",
    "        # Add returned summaries to writer in each step.\n",
    "        writer.add_summary(summary, step)\n",
    "        # Add metadata to visualize the graph for the last run.\n",
    "        if step == (num_steps - 1):\n",
    "          writer.add_run_metadata(run_metadata, 'step%d' % step)\n",
    "\n",
    "#         if step % 1000 == 0:\n",
    "#           if step > 0:\n",
    "#             average_loss /= 50\n",
    "#           # The average loss is an estimate of the loss over the last 2000 batches.\n",
    "#           print('Average loss at step ', step, ': ', average_loss)\n",
    "#           average_loss = 0\n",
    "\n",
    "#         # Note that this is expensive (~20% slowdown if computed every 500 steps)\n",
    "#         if step % 10000 == 0:\n",
    "#           sim = similarity.eval()\n",
    "#           for i in range(valid_size):\n",
    "#             valid_word = valid_examples[i]\n",
    "#             top_k = 8  # number of nearest neighbors\n",
    "#             nearest = (-sim[i, :]).argsort()[1:top_k + 1]\n",
    "#             log_str = 'Nearest to %s:' % valid_word\n",
    "#             for k in range(top_k):\n",
    "#               close_word = nearest[k]\n",
    "#               log_str = '%s %s,' % (log_str, close_word)\n",
    "#             print(log_str)\n",
    "\n",
    "    final_embeddings = normalized_embeddings.eval()\n",
    "    # Write corresponding labels for the embeddings.\n",
    "\n",
    "    with open(FLAGS.log_dir + '/metadata.tsv', 'w') as f:\n",
    "        for i in range(vocab_size):\n",
    "          f.write(str(i+start_id) + '\\n')\n",
    "\n",
    "    # Save the model for checkpoints.\n",
    "    saver.save(session, os.path.join(FLAGS.log_dir, 'model.ckpt'))\n",
    "\n",
    "    # Create a configuration for visualizing embeddings with the labels in TensorBoard.\n",
    "    config = projector.ProjectorConfig()\n",
    "    embedding_conf = config.embeddings.add()\n",
    "    embedding_conf.tensor_name = embeddings.name\n",
    "    embedding_conf.metadata_path = os.path.join(FLAGS.log_dir, 'metadata.tsv')\n",
    "    projector.visualize_embeddings(writer, config)\n",
    "\n",
    "    writer.close()"
   ]
  },
  {
   "cell_type": "markdown",
   "metadata": {},
   "source": [
    "### Step 6: Visualize the embeddings."
   ]
  },
  {
   "cell_type": "code",
   "execution_count": 67,
   "metadata": {},
   "outputs": [
    {
     "name": "stdout",
     "output_type": "stream",
     "text": [
      "34\n",
      "10400\n",
      "10046->3\n",
      "10053->2\n",
      "10054->23\n",
      "10058->19\n",
      "10063->15\n",
      "10069->3\n",
      "10084->24\n",
      "10098->5\n",
      "10100->25\n",
      "10109->32\n",
      "10115->3\n",
      "10140->7\n",
      "10142->19\n",
      "10143->1\n",
      "10146->10\n",
      "10158->22\n",
      "10164->3\n",
      "10167->11\n",
      "10182->3\n",
      "10215->6\n",
      "10219->36\n",
      "10225->20\n",
      "10230->8\n",
      "10245->8\n",
      "10257->19\n",
      "10258->24\n",
      "10260->6\n",
      "10261->3\n",
      "10269->18\n",
      "10272->25\n",
      "10291->2\n",
      "10297->6\n",
      "10298->24\n",
      "10303->5\n"
     ]
    },
    {
     "data": {
      "image/png": "[encoded data removed]",
      "text/plain": [
       "<matplotlib.figure.Figure at 0x114485ac8>"
      ]
     },
     "metadata": {},
     "output_type": "display_data"
    }
   ],
   "source": [
    "# pylint: disable=missing-docstring\n",
    "# Function to draw visualization of distance between embeddings.\n",
    "fig_size = plt.rcParams[\"figure.figsize\"]\n",
    "fig_size[0] = 5\n",
    "fig_size[1] = 5\n",
    "plt.rcParams[\"figure.figsize\"] = fig_size\n",
    "\n",
    "tsne_seed = 123\n",
    "\n",
    "def plot_with_labels(low_dim_embs, labels, filename):\n",
    "    assert low_dim_embs.shape[0] >= len(labels), 'More labels than embeddings'\n",
    "    #   plt.figure(figsize=(18, 18))  # in inches\n",
    "    for i, label in enumerate(labels):\n",
    "        x, y = low_dim_embs[i, :]\n",
    "        plt.scatter(x, y, color=node_colors[(node_labels[label-1]-1)])\n",
    "        print(str(label) + '->' + str(node_labels[label-1]))\n",
    "        plt.annotate(\n",
    "            label,\n",
    "            xy=(x, y),\n",
    "            xytext=(5, 2),\n",
    "            textcoords='offset points',\n",
    "            ha='right',\n",
    "            va='bottom')\n",
    "\n",
    "    plt.savefig(filename)\n",
    "\n",
    "try:\n",
    "#     print(final_embeddings)\n",
    "    tsne = TSNE(perplexity=30, n_components=2, init='pca', n_iter=5000, method='exact', random_state=tsne_seed)\n",
    "    plot_only = 34\n",
    "    nodes_to_plot = curr_vocab[len(curr_vocab)-plot_only:len(curr_vocab)]\n",
    "#     low_dim_embs = tsne.fit_transform(final_embeddings[:plot_only, :])\n",
    "    print(len(final_embeddings[nodes_to_plot-1]))\n",
    "    print(len(final_embeddings))\n",
    "    low_dim_embs = tsne.fit_transform(final_embeddings[nodes_to_plot-1])\n",
    "#     labels = [(i+start_id) for i in range(plot_only)]\n",
    "    labels = nodes_to_plot\n",
    "    plot_with_labels(low_dim_embs, labels, os.path.join(gettempdir(), 'tsne.png'))\n",
    "\n",
    "except ImportError as ex:\n",
    "    print('Please install sklearn, matplotlib, and scipy to show embeddings.')\n",
    "    print(ex)"
   ]
  },
  {
   "cell_type": "code",
   "execution_count": 76,
   "metadata": {},
   "outputs": [
    {
     "name": "stdout",
     "output_type": "stream",
     "text": [
      "[[    1    21]\n",
      " [    2     8]\n",
      " [    3     6]\n",
      " ...\n",
      " [10310    29]\n",
      " [10311    22]\n",
      " [10312    16]]\n",
      "[    1     3     9 ... 10297 10298 10303]\n",
      "1928\n"
     ]
    }
   ],
   "source": [
    "def read_labels(fname):\n",
    "    rws = np.concatenate([\n",
    "        np.loadtxt(f.open(), delimiter='\\t', usecols=(0, 1), dtype=int) # accepts only the first label\n",
    "        for f in l_location.glob(fname)\n",
    "        if f.stat().st_size > 0\n",
    "    ])\n",
    "\n",
    "    print(rws)\n",
    "    return (rws[:,0],rws[:,1])\n",
    "\n",
    "def read_vocabs(fname):\n",
    "    rws = np.concatenate([\n",
    "        np.loadtxt(f.open(), dtype=int) # accepts only the first label\n",
    "        for f in l_location.glob(fname)\n",
    "        if f.stat().st_size > 0\n",
    "    ])\n",
    "\n",
    "    print(rws)\n",
    "    return rws\n",
    "\n",
    "l_location = Path(\"/Users/Ganymedian/Desktop/dynamic-rw/output/blog-catalog/\")\n",
    "lf_name = \"sorted-labels.txt\"\n",
    "vocab_file = \"gPairs-vocabs-w4-s8.txt\"\n",
    "v_labels = read_labels(lf_name)\n",
    "curr_vocab = read_vocabs(vocab_file)\n",
    "nodes = v_labels[0]\n",
    "print(len(curr_vocab))\n",
    "node_labels = v_labels[1]\n",
    "# node_labels = node_labels[curr_vocab-1]\n",
    "node_colors = []\n",
    "\n",
    "import matplotlib\n",
    "for name, hex in matplotlib.colors.cnames.items():\n",
    "    node_colors.append(name)"
   ]
  },
  {
   "cell_type": "code",
   "execution_count": 77,
   "metadata": {},
   "outputs": [],
   "source": [
    "r_seed= 123\n",
    "def class_train_test(vectors, n_labels, train_size, test_size):\n",
    "# Split using sklearn ShuffleSplit\n",
    "    ss = model_selection.ShuffleSplit(n_splits=1,\n",
    "                                      train_size=train_size,\n",
    "                                      test_size=test_size)\n",
    "    train_index, test_index = next(ss.split(vectors))\n",
    "\n",
    "    train_data = vectors[train_index]\n",
    "    test_data = vectors[test_index]\n",
    "    train_labels = n_labels[train_index]\n",
    "    test_labels  = n_labels[test_index]\n",
    "    # print(train_labels)\n",
    "    # print(test_labels)\n",
    "\n",
    "    # Classifier choice\n",
    "#     classifier = linear_model.LogisticRegression(C=10)\n",
    "    classifier = svm.SVC(C=1)\n",
    "\n",
    "    clf = make_pipeline(preprocessing.StandardScaler(), classifier)\n",
    "    clf.fit(train_data, train_labels)\n",
    "\n",
    "    train_pred = clf.predict(train_data)\n",
    "    test_pred = clf.predict(test_data)\n",
    "    # print(train_pred)\n",
    "    # print(test_pred)\n",
    "    train_acc = clf.score(train_data, train_labels)\n",
    "    test_acc = clf.score(test_data, test_labels)\n",
    "    train_f1 = f1_score(train_labels, train_pred, average='micro')\n",
    "    test_f1 = f1_score(test_labels, test_pred, average='micro')\n",
    "#     print(\"Train acc:\", train_acc)\n",
    "#     print(\"Test acc:\", test_acc)\n",
    "#     print(\"Train f1:\", train_f1)\n",
    "#     print(\"Test f1:\", test_f1)\n",
    "    return {'train_acc':train_acc, 'test_acc':test_acc, 'train_f1':train_f1, 'test_f1':test_f1}"
   ]
  },
  {
   "cell_type": "code",
   "execution_count": 78,
   "metadata": {},
   "outputs": [
    {
     "name": "stdout",
     "output_type": "stream",
     "text": [
      "train F1:\t0.6384083044982699\n",
      "test F1:\t0.1288888888888889\n"
     ]
    }
   ],
   "source": [
    "train_size = 0.3\n",
    "test_size = 1-train_size\n",
    "n_labels = node_labels[curr_vocab-1]\n",
    "curr_embeddings = final_embeddings[curr_vocab-1]\n",
    "lrs = class_train_test(curr_embeddings, n_labels, train_size, test_size)\n",
    "print('train F1:\\t' + str(lrs.get('train_f1')))\n",
    "print('test F1:\\t' + str(lrs.get('test_f1')))"
   ]
  },
  {
   "cell_type": "code",
   "execution_count": null,
   "metadata": {},
   "outputs": [],
   "source": []
  },
  {
   "cell_type": "code",
   "execution_count": null,
   "metadata": {},
   "outputs": [],
   "source": []
  }
 ],
 "metadata": {
  "kernelspec": {
   "display_name": "Python 3",
   "language": "python",
   "name": "python3"
  },
  "language_info": {
   "codemirror_mode": {
    "name": "ipython",
    "version": 3
   },
   "file_extension": ".py",
   "mimetype": "text/x-python",
   "name": "python",
   "nbconvert_exporter": "python",
   "pygments_lexer": "ipython3",
   "version": "3.6.5"
  }
 },
 "nbformat": 4,
 "nbformat_minor": 2
}
