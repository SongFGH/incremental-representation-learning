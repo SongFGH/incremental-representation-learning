{
 "cells": [
  {
   "cell_type": "code",
   "execution_count": 111,
   "metadata": {},
   "outputs": [],
   "source": [
    "import tensorflow as tf\n",
    "import math\n",
    "import numpy as np\n",
    "import argparse\n",
    "import os\n",
    "import sys\n",
    "import collections\n",
    "import zipfile\n",
    "import random\n",
    "from pathlib import Path\n",
    "from tensorflow.contrib.tensorboard.plugins import projector\n",
    "from tempfile import gettempdir\n",
    "from sklearn import model_selection, linear_model, preprocessing, svm\n",
    "from sklearn.metrics import accuracy_score, f1_score\n",
    "from sklearn.pipeline import make_pipeline"
   ]
  },
  {
   "cell_type": "code",
   "execution_count": 112,
   "metadata": {},
   "outputs": [],
   "source": [
    "# Give a folder path as an argument with '--log_dir' to save\n",
    "# TensorBoard summaries. Default is a log folder in current directory.\n",
    "# current_path = os.path.dirname(os.path.realpath(sys.argv[0]))\n",
    "current_path = \"/Users/Ganymedian/Desktop/dynamic-rw/output/karate-2nd-p05-q2-nw100/\"\n",
    "start_id = 1\n",
    "parser = argparse.ArgumentParser()\n",
    "parser.add_argument(\n",
    "    '--log_dir',\n",
    "    type=str,\n",
    "    default=os.path.join(current_path, 'log'),\n",
    "    help='The log directory for TensorBoard summaries.')\n",
    "FLAGS, unparsed = parser.parse_known_args()"
   ]
  },
  {
   "cell_type": "markdown",
   "metadata": {},
   "source": [
    "#### Read data"
   ]
  },
  {
   "cell_type": "code",
   "execution_count": 113,
   "metadata": {},
   "outputs": [],
   "source": [
    "vocab_size = 34\n",
    "batch_size = 50\n",
    "embed_size = 5  # Dimension of the embedding vector.\n",
    "num_sampled = 5  # Number of negative examples to sample.\n",
    "l_rate = 1.0"
   ]
  },
  {
   "cell_type": "code",
   "execution_count": 114,
   "metadata": {},
   "outputs": [],
   "source": [
    "def read_data(fname):\n",
    "    print(fname)\n",
    "    rws = np.concatenate([\n",
    "        np.loadtxt(f.open(), delimiter='\\t', dtype=int)\n",
    "        for f in rw_location.glob(fname)\n",
    "        if f.stat().st_size > 0\n",
    "    ])\n",
    "    return rws"
   ]
  },
  {
   "cell_type": "code",
   "execution_count": 116,
   "metadata": {},
   "outputs": [
    {
     "name": "stdout",
     "output_type": "stream",
     "text": [
      "gPairs-w3-s6.txt\n",
      "Data size 40800\n"
     ]
    }
   ],
   "source": [
    "rw_location = Path(\"/Users/Ganymedian/Desktop/dynamic-rw/output/karate-stream/\")\n",
    "filename = \"gPairs-w3-s6.txt\"\n",
    "# filename = \"test.txt\"\n",
    "seed = 1234\n",
    "np.random.seed(seed=seed)\n",
    "data = read_data(filename) - start_id\n",
    "print('Data size', len(data))\n",
    "# print(data)"
   ]
  },
  {
   "cell_type": "code",
   "execution_count": 117,
   "metadata": {},
   "outputs": [
    {
     "name": "stdout",
     "output_type": "stream",
     "text": [
      "[[ 4  5]\n",
      " [25 28]\n",
      " [10  6]\n",
      " ...\n",
      " [13 29]\n",
      " [26 33]\n",
      " [20 33]]\n"
     ]
    }
   ],
   "source": [
    "data_index = 0\n",
    "data_size = len(data)\n",
    "np.random.shuffle(data)\n",
    "print(data)\n",
    "batches = np.vsplit(data, data_size/batch_size)\n",
    "# [print(len(m)) for m in batches]\n",
    "\n",
    "def generate_batch():\n",
    "    global data_index\n",
    "    next_batch = batches[data_index]\n",
    "    data_index += 1\n",
    "    targets = next_batch[:,0]\n",
    "    contexts = next_batch[:,1].reshape(len(next_batch),1)\n",
    "    return targets, contexts\n",
    "\n",
    "def end_of_batch():\n",
    "    if (data_index >= len(batches)):\n",
    "        return True \n",
    "    else:\n",
    "        return False\n",
    "    \n",
    "def reset_batch_gen():\n",
    "    global data_index\n",
    "    data_index = 0"
   ]
  },
  {
   "cell_type": "code",
   "execution_count": 118,
   "metadata": {},
   "outputs": [],
   "source": [
    "# We pick a random validation set to sample nearest neighbors. Here we limit the\n",
    "# validation samples to the words that have a low numeric ID, which by\n",
    "# construction are also the most frequent. These 3 variables are used only for\n",
    "# displaying model accuracy, they don't affect calculation.\n",
    "valid_size = 2  # Random set of words to evaluate similarity on.\n",
    "valid_window = 10  # Only pick dev samples in the head of the distribution.\n",
    "valid_examples = np.random.choice(valid_window, valid_size, replace=False)"
   ]
  },
  {
   "cell_type": "code",
   "execution_count": 119,
   "metadata": {},
   "outputs": [],
   "source": [
    "graph = tf.Graph()\n",
    "\n",
    "with graph.as_default():\n",
    "\n",
    "  # Input data.\n",
    "  with tf.name_scope('inputs'):\n",
    "    train_inputs = tf.placeholder(tf.int32, shape=[batch_size])\n",
    "    train_contexts = tf.placeholder(tf.int32, shape=[batch_size, 1])\n",
    "    valid_dataset = tf.constant(valid_examples, dtype=tf.int32)\n",
    "\n",
    "  # Ops and variables pinned to the CPU because of missing GPU implementation\n",
    "  with tf.device('/cpu:0'):\n",
    "    # Look up embeddings for inputs.\n",
    "    with tf.name_scope('embeddings'):\n",
    "        embeddings = tf.Variable(\n",
    "              tf.random_uniform([vocab_size, embed_size], -1.0, 1.0))\n",
    "        embed = tf.nn.embedding_lookup(embeddings, train_inputs)\n",
    "\n",
    "    # Construct the variables for the NCE loss\n",
    "    with tf.name_scope('weights'):\n",
    "          nce_weights = tf.Variable(\n",
    "              tf.truncated_normal(\n",
    "                  [vocab_size, embed_size],\n",
    "                  stddev=1.0 / math.sqrt(embed_size)))\n",
    "    with tf.name_scope('biases'):\n",
    "          nce_biases = tf.Variable(tf.zeros([vocab_size]))\n",
    "  # Compute the average NCE loss for the batch.\n",
    "  # tf.nce_loss automatically draws a new sample of the negative labels each\n",
    "  # time we evaluate the loss.\n",
    "  # Explanation of the meaning of NCE loss:\n",
    "  #   http://mccormickml.com/2016/04/19/word2vec-tutorial-the-skip-gram-model/\n",
    "    with tf.name_scope('loss'):\n",
    "        loss = tf.reduce_mean(\n",
    "            tf.nn.nce_loss(\n",
    "                weights=nce_weights,\n",
    "                biases=nce_biases,\n",
    "                labels=train_contexts,\n",
    "                inputs=embed,\n",
    "                num_sampled=num_sampled,\n",
    "                num_classes=vocab_size))\n",
    "    # Add the loss value as a scalar to summary.\n",
    "    tf.summary.scalar('loss', loss)\n",
    "    # Construct the SGD optimizer using a learning rate of 1.0.\n",
    "    with tf.name_scope('optimizer'):\n",
    "        optimizer = tf.train.GradientDescentOptimizer(l_rate).minimize(loss)\n",
    "    # Compute the cosine similarity between minibatch examples and all embeddings.\n",
    "    norm = tf.sqrt(tf.reduce_sum(tf.square(embeddings), 1, keepdims=True))\n",
    "    normalized_embeddings = embeddings / norm\n",
    "    valid_embeddings = tf.nn.embedding_lookup(normalized_embeddings,\n",
    "                                            valid_dataset)\n",
    "    similarity = tf.matmul(\n",
    "      valid_embeddings, normalized_embeddings, transpose_b=True)\n",
    "\n",
    "    # Merge all summaries.\n",
    "    merged = tf.summary.merge_all()\n",
    "\n",
    "    # Add variable initializer.\n",
    "    init = tf.global_variables_initializer()\n",
    "\n",
    "    # Create a saver.\n",
    "    saver = tf.train.Saver()"
   ]
  },
  {
   "cell_type": "markdown",
   "metadata": {},
   "source": [
    "### Begin Training"
   ]
  },
  {
   "cell_type": "code",
   "execution_count": 120,
   "metadata": {},
   "outputs": [
    {
     "name": "stdout",
     "output_type": "stream",
     "text": [
      "Initialized\n",
      "Average loss at step  0 :  6.645024299621582\n",
      "Nearest to 3: 21, 29, 33, 13, 9, 31, 14, 26,\n",
      "Nearest to 4: 30, 28, 23, 24, 2, 0, 1, 27,\n",
      "Average loss at step  50 :  4.621236612796784\n",
      "Average loss at step  100 :  2.8926857471466065\n",
      "Average loss at step  150 :  2.500417709350586\n",
      "Average loss at step  200 :  2.2647382760047914\n",
      "Average loss at step  250 :  2.131215577125549\n",
      "Average loss at step  300 :  2.0524452543258667\n",
      "Average loss at step  350 :  2.106279695034027\n",
      "Average loss at step  400 :  2.0309212684631346\n",
      "Average loss at step  450 :  2.09753014087677\n",
      "Average loss at step  500 :  2.0072055721282958\n",
      "Average loss at step  550 :  2.039559564590454\n",
      "Average loss at step  600 :  2.0062662315368653\n",
      "Average loss at step  650 :  2.0526050829887392\n",
      "Average loss at step  700 :  2.038424541950226\n",
      "Average loss at step  750 :  2.007957487106323\n",
      "Average loss at step  800 :  1.9542180800437927\n"
     ]
    }
   ],
   "source": [
    "num_steps = len(batches)\n",
    "reset_batch_gen()\n",
    "with tf.Session(graph=graph) as session:\n",
    "    # Open a writer to write summaries.\n",
    "    writer = tf.summary.FileWriter(FLAGS.log_dir, session.graph)\n",
    "\n",
    "    # We must initialize all variables before we use them.\n",
    "    init.run()\n",
    "    print('Initialized')\n",
    "\n",
    "    average_loss = 0\n",
    "    for step in range(num_steps):\n",
    "#         print(step)\n",
    "        inputs, contexts = generate_batch()\n",
    "        feed_dict = {train_inputs: inputs, train_contexts: contexts}\n",
    "\n",
    "        # Define metadata variable.\n",
    "        run_metadata = tf.RunMetadata()\n",
    "\n",
    "        # We perform one update step by evaluating the optimizer op (including it\n",
    "        # in the list of returned values for session.run()\n",
    "        # Also, evaluate the merged op to get all summaries from the returned \"summary\" variable.\n",
    "        # Feed metadata variable to session for visualizing the graph in TensorBoard.\n",
    "        _, summary, loss_val = session.run(\n",
    "            [optimizer, merged, loss],\n",
    "            feed_dict=feed_dict,\n",
    "            run_metadata=run_metadata)\n",
    "        average_loss += loss_val\n",
    "\n",
    "        # Add returned summaries to writer in each step.\n",
    "        writer.add_summary(summary, step)\n",
    "        # Add metadata to visualize the graph for the last run.\n",
    "        if step == (num_steps - 1):\n",
    "          writer.add_run_metadata(run_metadata, 'step%d' % step)\n",
    "\n",
    "        if step % 50 == 0:\n",
    "          if step > 0:\n",
    "            average_loss /= 50\n",
    "          # The average loss is an estimate of the loss over the last 2000 batches.\n",
    "          print('Average loss at step ', step, ': ', average_loss)\n",
    "          average_loss = 0\n",
    "\n",
    "        # Note that this is expensive (~20% slowdown if computed every 500 steps)\n",
    "        if step % 10000 == 0:\n",
    "          sim = similarity.eval()\n",
    "          for i in range(valid_size):\n",
    "            valid_word = valid_examples[i]\n",
    "            top_k = 8  # number of nearest neighbors\n",
    "            nearest = (-sim[i, :]).argsort()[1:top_k + 1]\n",
    "            log_str = 'Nearest to %s:' % valid_word\n",
    "            for k in range(top_k):\n",
    "              close_word = nearest[k]\n",
    "              log_str = '%s %s,' % (log_str, close_word)\n",
    "            print(log_str)\n",
    "\n",
    "    final_embeddings = normalized_embeddings.eval()\n",
    "    # Write corresponding labels for the embeddings.\n",
    "\n",
    "    with open(FLAGS.log_dir + '/metadata.tsv', 'w') as f:\n",
    "        for i in range(vocab_size):\n",
    "          f.write(str(i+start_id) + '\\n')\n",
    "\n",
    "    # Save the model for checkpoints.\n",
    "    saver.save(session, os.path.join(FLAGS.log_dir, 'model.ckpt'))\n",
    "\n",
    "    # Create a configuration for visualizing embeddings with the labels in TensorBoard.\n",
    "    config = projector.ProjectorConfig()\n",
    "    embedding_conf = config.embeddings.add()\n",
    "    embedding_conf.tensor_name = embeddings.name\n",
    "    embedding_conf.metadata_path = os.path.join(FLAGS.log_dir, 'metadata.tsv')\n",
    "    projector.visualize_embeddings(writer, config)\n",
    "\n",
    "    writer.close()"
   ]
  },
  {
   "cell_type": "markdown",
   "metadata": {},
   "source": [
    "### Step 6: Visualize the embeddings."
   ]
  },
  {
   "cell_type": "code",
   "execution_count": 121,
   "metadata": {},
   "outputs": [
    {
     "data": {
      "image/png": "[encoded data removed]",
      "text/plain": [
       "<matplotlib.figure.Figure at 0x123b009e8>"
      ]
     },
     "metadata": {},
     "output_type": "display_data"
    }
   ],
   "source": [
    "# pylint: disable=missing-docstring\n",
    "# Function to draw visualization of distance between embeddings.\n",
    "fig_size = plt.rcParams[\"figure.figsize\"]\n",
    "fig_size[0] = 5\n",
    "fig_size[1] = 5\n",
    "plt.rcParams[\"figure.figsize\"] = fig_size\n",
    "\n",
    "tsne_seed = 123\n",
    "\n",
    "def plot_with_labels(low_dim_embs, labels, filename):\n",
    "  assert low_dim_embs.shape[0] >= len(labels), 'More labels than embeddings'\n",
    "#   plt.figure(figsize=(18, 18))  # in inches\n",
    "  for i, label in enumerate(labels):\n",
    "    x, y = low_dim_embs[i, :]\n",
    "    plt.scatter(x, y, color=node_colors[node_labels[i]-1])\n",
    "    plt.annotate(\n",
    "        label,\n",
    "        xy=(x, y),\n",
    "        xytext=(5, 2),\n",
    "        textcoords='offset points',\n",
    "        ha='right',\n",
    "        va='bottom')\n",
    "\n",
    "  plt.savefig(filename)\n",
    "\n",
    "try:\n",
    "  # pylint: disable=g-import-not-at-top\n",
    "  from sklearn.manifold import TSNE\n",
    "  import matplotlib.pyplot as plt\n",
    "\n",
    "  tsne = TSNE(perplexity=30, n_components=2, init='pca', n_iter=5000, method='exact', random_state=tsne_seed)\n",
    "  plot_only = 34\n",
    "  low_dim_embs = tsne.fit_transform(final_embeddings[:plot_only, :])\n",
    "  labels = [(i+start_id) for i in range(plot_only)]\n",
    "  plot_with_labels(low_dim_embs, labels, os.path.join(gettempdir(), 'tsne.png'))\n",
    "\n",
    "except ImportError as ex:\n",
    "  print('Please install sklearn, matplotlib, and scipy to show embeddings.')\n",
    "  print(ex)"
   ]
  },
  {
   "cell_type": "code",
   "execution_count": 122,
   "metadata": {},
   "outputs": [],
   "source": [
    "def read_labels(fname):\n",
    "    rws = np.concatenate([\n",
    "        np.loadtxt(f.open(), delimiter='\\t', dtype=int)\n",
    "        for f in l_location.glob(fname)\n",
    "        if f.stat().st_size > 0\n",
    "    ])\n",
    "\n",
    "    return (rws[:,0],rws[:,1]) \n",
    "l_location = Path(\"/Users/Ganymedian/Desktop/dynamic-rw/datasets/\")\n",
    "lf_name = \"karate-labels.txt\"\n",
    "v_labels = read_labels(lf_name)\n",
    "nodes = v_labels[0]\n",
    "node_labels = v_labels[1]\n",
    "node_colors = ['blue', 'red']"
   ]
  },
  {
   "cell_type": "code",
   "execution_count": 123,
   "metadata": {},
   "outputs": [],
   "source": [
    "r_seed= 123\n",
    "def class_train_test(vectors, train_size, test_size):\n",
    "# Split using sklearn ShuffleSplit\n",
    "    ss = model_selection.ShuffleSplit(n_splits=1,\n",
    "                                      train_size=train_size,\n",
    "                                      test_size=test_size,\n",
    "                                        random_state = r_seed)\n",
    "    train_index, test_index = next(ss.split(vectors))\n",
    "\n",
    "    train_data = vectors[train_index]\n",
    "    test_data = vectors[test_index]\n",
    "    train_labels = node_labels[train_index]\n",
    "    test_labels  = node_labels[test_index]\n",
    "    # print(train_labels)\n",
    "    # print(test_labels)\n",
    "\n",
    "    # Classifier choice\n",
    "    #classifier = linear_model.LogisticRegression(C=10)\n",
    "    classifier = svm.SVC(C=1)\n",
    "\n",
    "    clf = make_pipeline(preprocessing.StandardScaler(), classifier)\n",
    "    clf.fit(train_data, train_labels)\n",
    "\n",
    "    train_pred = clf.predict(train_data)\n",
    "    test_pred = clf.predict(test_data)\n",
    "    # print(train_pred)\n",
    "    # print(test_pred)\n",
    "    train_acc = clf.score(train_data, train_labels)\n",
    "    test_acc = clf.score(test_data, test_labels)\n",
    "    train_f1 = f1_score(train_labels, train_pred, average='micro')\n",
    "    test_f1 = f1_score(test_labels, test_pred, average='micro')\n",
    "#     print(\"Train acc:\", train_acc)\n",
    "#     print(\"Test acc:\", test_acc)\n",
    "#     print(\"Train f1:\", train_f1)\n",
    "#     print(\"Test f1:\", test_f1)\n",
    "    return {'train_acc':train_acc, 'test_acc':test_acc, 'train_f1':train_f1, 'test_f1':test_f1}"
   ]
  },
  {
   "cell_type": "code",
   "execution_count": 124,
   "metadata": {},
   "outputs": [
    {
     "name": "stdout",
     "output_type": "stream",
     "text": [
      "0.9583333333333334\n",
      "1.0\n"
     ]
    }
   ],
   "source": [
    "train_size = 0.3\n",
    "test_size = 1-train_size\n",
    "lrs = class_train_test(final_embeddings, train_size, test_size)\n",
    "print(lrs.get('test_f1'))\n",
    "print(lrs.get('train_f1'))"
   ]
  },
  {
   "cell_type": "code",
   "execution_count": null,
   "metadata": {},
   "outputs": [],
   "source": []
  },
  {
   "cell_type": "code",
   "execution_count": null,
   "metadata": {},
   "outputs": [],
   "source": []
  }
 ],
 "metadata": {
  "kernelspec": {
   "display_name": "Python 3",
   "language": "python",
   "name": "python3"
  },
  "language_info": {
   "codemirror_mode": {
    "name": "ipython",
    "version": 3
   },
   "file_extension": ".py",
   "mimetype": "text/x-python",
   "name": "python",
   "nbconvert_exporter": "python",
   "pygments_lexer": "ipython3",
   "version": "3.6.5"
  }
 },
 "nbformat": 4,
 "nbformat_minor": 2
}
